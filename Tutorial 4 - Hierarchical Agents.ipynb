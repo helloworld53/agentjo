{
 "cells": [
  {
   "cell_type": "markdown",
   "id": "2fa1e388-b8f4-4fa3-be5a-ba7c6caae038",
   "metadata": {
    "tags": []
   },
   "source": [
    "# Tutorial 4 - Hierarchical Agents\n",
    "- Video: https://www.youtube.com/watch?v=RkY0Et-JhKI\n",
    "\n",
    "## Functionalities:\n",
    "- An agent (referred as meta agent) can also assign other agents (referred as inner agents) as the function call, thereby creating a hierarchical structure\n",
    "- Whenever the inner agent is called, we will run the full inner agent's process until termination\n",
    "- Maximum number of steps for each agent (meta agent or inner agent) can be defined in `max_subtasks` (default: 5) variable when initialising agent\n",
    "\n",
    "## Additional Details:\n",
    "- The inner agent will take in meta agent's instruction as input\n",
    "- In addition, the inner agent will also have access to meta agent's task and subtasks completed for global context\n",
    "- Inner agent's output will directly go into meta agent's subtasks completed dictionary, enabling it to directly update global context\n",
    "\n",
    "## Design Philosophy:\n",
    "- Bottom layers can get context of the top layers for more context-specific generation\n",
    "- Top layers choose bottom layers in a hierarchical fashion so as to limit the number of choices at each level for better performance\n",
    "- `subtasks_completed` serves as the global context for the meta agents and the inner agents, and can be summarised as needed, e.g. when performing a new task to filter out irrelevant information "
   ]
  },
  {
   "cell_type": "markdown",
   "id": "f08dffbb",
   "metadata": {},
   "source": [
    "# Setup Guide"
   ]
  },
  {
   "cell_type": "markdown",
   "id": "779966d9",
   "metadata": {},
   "source": [
    "## Step 1: Install AgentJo"
   ]
  },
  {
   "cell_type": "code",
   "execution_count": 1,
   "id": "dc639b16",
   "metadata": {},
   "outputs": [],
   "source": [
    "# !pip install agentjo"
   ]
  },
  {
   "cell_type": "markdown",
   "id": "5148a406",
   "metadata": {},
   "source": [
    "## Step 2: Import required functions and setup relevant API keys for your LLM"
   ]
  },
  {
   "cell_type": "code",
   "execution_count": null,
   "id": "d2449147",
   "metadata": {},
   "outputs": [],
   "source": [
    "# Set up API key and do the necessary imports\n",
    "from agentjo import *\n",
    "import os\n",
    "\n",
    "# this is only if you use OpenAI as your LLM\n",
    "os.environ['OPENAI_API_KEY'] = '<YOUR API KEY HERE>'"
   ]
  },
  {
   "cell_type": "markdown",
   "id": "9ccdbdb4",
   "metadata": {},
   "source": [
    "## Step 3: Define your own LLM\n",
    "- Take in a `system_prompt`, `user_prompt`, and outputs llm response string"
   ]
  },
  {
   "cell_type": "code",
   "execution_count": 3,
   "id": "e8cc263d",
   "metadata": {},
   "outputs": [],
   "source": [
    "def llm(system_prompt: str, user_prompt: str) -> str:\n",
    "    ''' Here, we use OpenAI for illustration, you can change it to your own LLM '''\n",
    "    # ensure your LLM imports are all within this function\n",
    "    from openai import OpenAI\n",
    "    \n",
    "    # define your own LLM here\n",
    "    client = OpenAI()\n",
    "    response = client.chat.completions.create(\n",
    "        model='gpt-4o-mini',\n",
    "        temperature = 0,\n",
    "        messages=[\n",
    "            {\"role\": \"system\", \"content\": system_prompt},\n",
    "            {\"role\": \"user\", \"content\": user_prompt}\n",
    "        ]\n",
    "    )\n",
    "    return response.choices[0].message.content"
   ]
  },
  {
   "cell_type": "code",
   "execution_count": 4,
   "id": "ba41ef63",
   "metadata": {},
   "outputs": [
    {
     "data": {
      "text/plain": [
       "'Neutral'"
      ]
     },
     "execution_count": 4,
     "metadata": {},
     "output_type": "execute_result"
    }
   ],
   "source": [
    "# Verify that llm function is working\n",
    "llm(system_prompt = 'You are a classifier to classify the sentiment of a sentence', \n",
    "    user_prompt = 'It is a hot and sunny day')"
   ]
  },
  {
   "cell_type": "markdown",
   "id": "d485cc60-ad94-49ad-8a2d-204368a7065d",
   "metadata": {},
   "source": [
    "# Define Agents and Meta Agents\n",
    "- You can also create a Meta Agent that uses other Agents (referred to as Inner Agents) as functions\n",
    "- Create your Meta agent using `Agent()` (Note: No different from usual process of creating Agents - your Meta Agent is also an Agent)\n",
    "- Set up an Inner Agent list and assign it to your Meta agent using `assign_agents(agent_list)`\n",
    "\n",
    "## Example Meta Agent Setup\n",
    "```python\n",
    "# Define your meta-agent\n",
    "my_agent = Agent('Menu Creator', \n",
    "                 'Creates a menu for a restaurant. Menu item includes Name, Description, Ingredients, Pricing.',\n",
    "                 llm = llm)\n",
    "\n",
    "# Define your agent list. Note you can just assign functions to the agent in place using .assign_functions(function_list)\n",
    "agent_list = [\n",
    "    Agent('Chef', 'Takes in dish names and generates ingredients for each of them. Does not generate prices.', llm = llm),\n",
    "    Agent('Boss', 'Makes decision on which items to include in menu.', llm = llm),\n",
    "    Agent('Creative Writer', 'Takes in a cuisine type and generates interesting dish names and descriptions.', max_subtasks = 1, llm = llm),\n",
    "    Agent('Economist', 'Takes in dish names and comes up with pricing for each of them', llm = llm).assign_functions([dish_price])\n",
    "    ]\n",
    "\n",
    "my_agent.assign_agents(agent_list)\n",
    "```\n",
    "\n",
    "## Run the Meta Agent\n",
    "- Let us run the agent and see the interactions between the Meta Agent and Inner Agents to solve the task!\n",
    "```python\n",
    "output = my_agent.run('Generate 5 menu items with name, description, ingredients and price based on Italian food choices. Output in menu format.')\n",
    "```"
   ]
  },
  {
   "cell_type": "code",
   "execution_count": 5,
   "id": "1f2304be-b9fa-4292-b20f-2ac6c6909015",
   "metadata": {
    "tags": []
   },
   "outputs": [],
   "source": [
    "def random_number_from_string(input_string) -> int:\n",
    "    ''' Returns a random number between 1 and 10 when given an input string '''\n",
    "    import hashlib\n",
    "    import random\n",
    "    # Hash the input string\n",
    "    hashed_string = hashlib.sha256(input_string.encode()).hexdigest()\n",
    "    \n",
    "    # Convert the hashed string to an integer\n",
    "    hashed_integer = int(hashed_string, 16)\n",
    "    \n",
    "    # Seed the random number generator with the hashed integer\n",
    "    random.seed(hashed_integer)\n",
    "    \n",
    "    # Generate a random number between 1 and 10\n",
    "    return random.randint(1, 10)"
   ]
  },
  {
   "cell_type": "code",
   "execution_count": 6,
   "id": "7222e82b-e030-4494-894d-41a61370c747",
   "metadata": {
    "tags": []
   },
   "outputs": [],
   "source": [
    "# assign a dish pricing function for economist\n",
    "# Note: Try to make the output informative that is understandable by the Agent - use free text or json to explain the output so that someone can understand without the input\n",
    "def dish_price(list_of_dish_names: list) -> dict:\n",
    "    ''' Takes in list_of_dish_names and outputs price of each dish '''\n",
    "    if not isinstance(list_of_dish_names, list):\n",
    "        list_of_food_items = [list_of_dish_names]\n",
    "    output = {}\n",
    "    for each in list_of_dish_names:\n",
    "        output[each] = '$'+str(random_number_from_string(each))\n",
    "    return output"
   ]
  },
  {
   "cell_type": "code",
   "execution_count": 7,
   "id": "e56b3ab0-9cfc-414b-8386-4ac76a5ce5c2",
   "metadata": {
    "tags": []
   },
   "outputs": [
    {
     "data": {
      "text/plain": [
       "{'spaghetti': '$8', 'tomato': '$1'}"
      ]
     },
     "execution_count": 7,
     "metadata": {},
     "output_type": "execute_result"
    }
   ],
   "source": [
    "dish_price(['spaghetti', 'tomato'])"
   ]
  },
  {
   "cell_type": "code",
   "execution_count": 8,
   "id": "fc770857-5ca0-43a1-a72f-5df7a97f7c02",
   "metadata": {
    "tags": []
   },
   "outputs": [],
   "source": [
    "# Define your meta-agent\n",
    "my_agent = Agent('Menu Creator', \n",
    "                 'Creates a menu for a restaurant. Menu item includes Name, Description, Ingredients, Pricing.',\n",
    "                 llm = llm)"
   ]
  },
  {
   "cell_type": "code",
   "execution_count": 9,
   "id": "7302c9ec-6e27-40c0-8a3c-3cd350964027",
   "metadata": {
    "jp-MarkdownHeadingCollapsed": true,
    "tags": []
   },
   "outputs": [],
   "source": [
    "# Define your agent list. Note you can just assign functions to the agent in place using .assign_functions(function_list)\n",
    "agent_list = [\n",
    "    Agent('Chef', 'Takes in dish names and generates ingredients for each of them. Does not generate prices.', llm = llm),\n",
    "    Agent('Boss', 'Makes decisions on which items to include in Menu', llm = llm),\n",
    "    Agent('Creative Writer', 'Takes in a cuisine type and generates interesting dish names and descriptions. Does not generate prices or ingredients.', \n",
    "          max_subtasks = 1, llm = llm),\n",
    "    Agent('Economist', 'Takes in dish names and comes up with pricing for each of them', llm = llm).assign_functions([dish_price])\n",
    "    ]"
   ]
  },
  {
   "cell_type": "code",
   "execution_count": 10,
   "id": "d4e9c84e-0ffa-4450-9522-6e21d86bad29",
   "metadata": {
    "tags": []
   },
   "outputs": [
    {
     "data": {
      "text/plain": [
       "<agentjo.agent.Agent at 0x12adc4c90>"
      ]
     },
     "execution_count": 10,
     "metadata": {},
     "output_type": "execute_result"
    }
   ],
   "source": [
    "my_agent.assign_agents(agent_list)"
   ]
  },
  {
   "cell_type": "markdown",
   "id": "b3a63cf7-0c50-4c6d-993a-8cee1de738d9",
   "metadata": {},
   "source": [
    "# Approach 1: Run a generic task with the Meta-Agent\n",
    "- Let us run a general task to create 5 menu items for an Italian restaurant\n",
    "- You can also specify how Agents interact with one another in the task, otherwise the Meta-Agent will infer what should be done"
   ]
  },
  {
   "cell_type": "code",
   "execution_count": 11,
   "id": "4aabd0c2-6470-43e1-b476-d77e2c85c0bb",
   "metadata": {
    "tags": []
   },
   "outputs": [
    {
     "name": "stdout",
     "output_type": "stream",
     "text": [
      "\u001b[1m\u001b[30mObservation: No subtasks have been completed yet for the assigned task of generating 5 menu items based on Italian food choices.\u001b[0m\n",
      "\u001b[1m\u001b[32mThoughts: To complete the assigned task, I need to first generate interesting dish names and descriptions for Italian cuisine. After that, I will generate the ingredients for each dish and finally determine the pricing.\u001b[0m\n",
      "\u001b[1m\u001b[34mSubtask identified: Generate interesting dish names and descriptions for 5 Italian menu items.\u001b[0m\n",
      "Calling function Creative Writer with parameters {'instruction': 'Generate interesting dish names and descriptions for 5 Italian menu items.'}\n",
      "\n",
      "### Start of Inner Agent: Creative Writer ###\n",
      "\u001b[1m\u001b[30mObservation: No subtasks have been completed yet for generating interesting dish names and descriptions for 5 Italian menu items.\u001b[0m\n",
      "\u001b[1m\u001b[32mThoughts: To complete the assigned task, I need to generate creative and appealing dish names along with their descriptions that reflect Italian cuisine.\u001b[0m\n",
      "\u001b[1m\u001b[34mSubtask identified: Use the equipped function to generate interesting dish names and descriptions for 5 Italian menu items.\u001b[0m\n",
      "Getting LLM to perform the following task: Use the equipped function to generate interesting dish names and descriptions for 5 Italian menu items.\n",
      "> 1. **Trattoria di Sogni**: A whimsical pasta dish that combines hand-rolled fettuccine with a rich, creamy truffle sauce, topped with a sprinkle of aged Parmigiano-Reggiano and a drizzle of white truffle oil. Each bite transports you to a cozy Italian trattoria, where dreams and flavors intertwine.\n",
      "\n",
      "2. **Sole di Napoli**: A vibrant seafood risotto featuring tender calamari, succulent shrimp, and fresh mussels, all simmered in a saffron-infused broth. Garnished with a zesty lemon gremolata, this dish captures the essence of the sun-kissed shores of Naples.\n",
      "\n",
      "3. **Focaccia Fantasia**: An artisan focaccia bread baked to golden perfection, topped with a medley of seasonal vegetables, aromatic herbs, and a hint of sea salt. This dish is a celebration of Italian simplicity, perfect for sharing or savoring solo.\n",
      "\n",
      "4. **Pollo al Limone e Rosmarino**: Juicy chicken thighs marinated in a zesty lemon and rosemary blend, then roasted until crispy. Served with a side of roasted garlic potatoes, this dish embodies the heart of Italian home cooking, bringing warmth and comfort to the table.\n",
      "\n",
      "5. **Dolce di Ricotta e Miele**: A luscious ricotta cheesecake drizzled with wildflower honey and adorned with fresh berries. This dessert is a sweet finale that balances creamy richness with a touch of natural sweetness, leaving a lasting impression of Italian indulgence.\n",
      "\n",
      "\u001b[1m\u001b[35m###\n",
      "Reply from Creative Writer to Menu Creator:\n",
      "1. **Trattoria di Sogni**: A whimsical pasta dish that combines hand-rolled fettuccine with a rich, creamy truffle sauce, topped with a sprinkle of aged Parmigiano-Reggiano and a drizzle of white truffle oil. Each bite transports you to a cozy Italian trattoria, where dreams and flavors intertwine.\n",
      "\n",
      "2. **Sole di Napoli**: A vibrant seafood risotto featuring tender calamari, succulent shrimp, and fresh mussels, all simmered in a saffron-infused broth. Garnished with a zesty lemon gremolata, this dish captures the essence of the sun-kissed shores of Naples.\n",
      "\n",
      "3. **Focaccia Fantasia**: An artisan focaccia bread baked to golden perfection, topped with a medley of seasonal vegetables, aromatic herbs, and a hint of sea salt. This dish is a celebration of Italian simplicity, perfect for sharing or savoring solo.\n",
      "\n",
      "4. **Pollo al Limone e Rosmarino**: Juicy chicken thighs marinated in a zesty lemon and rosemary blend, then roasted until crispy. Served with a side of roasted garlic potatoes, this dish embodies the heart of Italian home cooking, bringing warmth and comfort to the table.\n",
      "\n",
      "5. **Dolce di Ricotta e Miele**: A luscious ricotta cheesecake drizzled with wildflower honey and adorned with fresh berries. This dessert is a sweet finale that balances creamy richness with a touch of natural sweetness, leaving a lasting impression of Italian indulgence.\n",
      "###\n",
      "\u001b[0m\n",
      "### End of Inner Agent: Creative Writer ###\n",
      "\n",
      "\u001b[1m\u001b[30mObservation: The dish names and descriptions for 5 Italian menu items have been successfully generated using the Creative Writer function.\u001b[0m\n",
      "\u001b[1m\u001b[32mThoughts: Next, I need to generate the ingredients for each of the 5 menu items. This can be done using the Chef function, which specializes in generating ingredients based on dish names.\u001b[0m\n",
      "\u001b[1m\u001b[34mSubtask identified: Use the Chef function to generate the ingredients for the 5 Italian menu items: Trattoria di Sogni, Sole di Napoli, Focaccia Fantasia, Pollo al Limone e Rosmarino, and Dolce di Ricotta e Miele.\u001b[0m\n",
      "Calling function Chef with parameters {'instruction': 'Use the Chef function to generate the ingredients for the 5 Italian menu items: Trattoria di Sogni, Sole di Napoli, Focaccia Fantasia, Pollo al Limone e Rosmarino, and Dolce di Ricotta e Miele.'}\n",
      "\n",
      "### Start of Inner Agent: Chef ###\n",
      "\u001b[1m\u001b[30mObservation: The dish names and descriptions for 5 Italian menu items have been generated, but the ingredients for these dishes have not yet been created.\u001b[0m\n",
      "\u001b[1m\u001b[32mThoughts: To complete the Assigned Task, I need to generate the ingredients for each of the 5 Italian menu items listed. Since there are no specific functions available for generating ingredients, I will use the general function to create the necessary output.\u001b[0m\n",
      "\u001b[1m\u001b[34mSubtask identified: Use the Chef function to generate the ingredients for the dishes: Trattoria di Sogni, Sole di Napoli, Focaccia Fantasia, Pollo al Limone e Rosmarino, and Dolce di Ricotta e Miele.\u001b[0m\n",
      "Getting LLM to perform the following task: Use the Chef function to generate the ingredients for the dishes: Trattoria di Sogni, Sole di Napoli, Focaccia Fantasia, Pollo al Limone e Rosmarino, and Dolce di Ricotta e Miele.\n",
      "> 1. **Trattoria di Sogni**: Ingredients include hand-rolled fettuccine, heavy cream, truffle oil, aged Parmigiano-Reggiano, and fresh black truffles.\n",
      "\n",
      "2. **Sole di Napoli**: Ingredients consist of Arborio rice, calamari, shrimp, mussels, saffron, fish stock, garlic, onion, white wine, and lemon for gremolata.\n",
      "\n",
      "3. **Focaccia Fantasia**: Ingredients feature all-purpose flour, yeast, water, olive oil, seasonal vegetables (such as cherry tomatoes, bell peppers, and zucchini), fresh herbs (like rosemary and thyme), and sea salt.\n",
      "\n",
      "4. **Pollo al Limone e Rosmarino**: Ingredients include chicken thighs, fresh lemon juice, rosemary, garlic, olive oil, and potatoes for roasting.\n",
      "\n",
      "5. **Dolce di Ricotta e Miele**: Ingredients are ricotta cheese, wildflower honey, eggs, vanilla extract, graham cracker crust, and fresh berries for topping.\n",
      "\n",
      "\u001b[1m\u001b[30mObservation: The ingredients for the 5 Italian menu items have been successfully generated, including Trattoria di Sogni, Sole di Napoli, Focaccia Fantasia, Pollo al Limone e Rosmarino, and Dolce di Ricotta e Miele.\u001b[0m\n",
      "\u001b[1m\u001b[32mThoughts: Since the ingredients have already been generated, the next step is to finalize the task and present the output to the user.\u001b[0m\n",
      "\u001b[1m\u001b[34mSubtask identified: End Task\u001b[0m\n",
      "Task completed successfully!\n",
      "\n",
      "\u001b[1m\u001b[35m###\n",
      "Reply from Chef to Menu Creator:\n",
      "1. **Trattoria di Sogni**: Ingredients include hand-rolled fettuccine, heavy cream, truffle oil, aged Parmigiano-Reggiano, and fresh black truffles.\n",
      "\n",
      "2. **Sole di Napoli**: Ingredients consist of Arborio rice, calamari, shrimp, mussels, saffron, fish stock, garlic, onion, white wine, and lemon for gremolata.\n",
      "\n",
      "3. **Focaccia Fantasia**: Ingredients feature all-purpose flour, yeast, water, olive oil, seasonal vegetables (such as cherry tomatoes, bell peppers, and zucchini), fresh herbs (like rosemary and thyme), and sea salt.\n",
      "\n",
      "4. **Pollo al Limone e Rosmarino**: Ingredients include chicken thighs, fresh lemon juice, rosemary, garlic, olive oil, and potatoes for roasting.\n",
      "\n",
      "5. **Dolce di Ricotta e Miele**: Ingredients are ricotta cheese, wildflower honey, eggs, vanilla extract, graham cracker crust, and fresh berries for topping.\n",
      "###\n",
      "\u001b[0m\n",
      "### End of Inner Agent: Chef ###\n",
      "\n",
      "\u001b[1m\u001b[30mObservation: The dish names and descriptions for 5 Italian menu items have been successfully generated, along with the ingredients for each dish.\u001b[0m\n",
      "\u001b[1m\u001b[32mThoughts: The next step is to determine the pricing for each of the 5 Italian menu items to complete the menu.\u001b[0m\n",
      "\u001b[1m\u001b[34mSubtask identified: Use the Economist function to generate pricing for the 5 Italian menu items: Trattoria di Sogni, Sole di Napoli, Focaccia Fantasia, Pollo al Limone e Rosmarino, and Dolce di Ricotta e Miele.\u001b[0m\n",
      "Calling function Economist with parameters {'instruction': 'Use the Economist function to generate pricing for the 5 Italian menu items: Trattoria di Sogni, Sole di Napoli, Focaccia Fantasia, Pollo al Limone e Rosmarino, and Dolce di Ricotta e Miele.'}\n",
      "\n",
      "### Start of Inner Agent: Economist ###\n",
      "\u001b[1m\u001b[30mObservation: No subtasks have been completed yet for the assigned task of generating pricing for the 5 Italian menu items.\u001b[0m\n",
      "\u001b[1m\u001b[32mThoughts: To complete the assigned task, I need to use the dish_price function to generate pricing for the provided dish names. I have the names of the dishes ready from the previous subtasks.\u001b[0m\n",
      "\u001b[1m\u001b[34mSubtask identified: Use the dish_price function to input the list of dish names: [\"Trattoria di Sogni\", \"Sole di Napoli\", \"Focaccia Fantasia\", \"Pollo al Limone e Rosmarino\", \"Dolce di Ricotta e Miele\"] and obtain the pricing for each dish.\u001b[0m\n",
      "Calling function dish_price with parameters {'list_of_dish_names': ['Trattoria di Sogni', 'Sole di Napoli', 'Focaccia Fantasia', 'Pollo al Limone e Rosmarino', 'Dolce di Ricotta e Miele']}\n",
      "> {'output_1': {'Trattoria di Sogni': '$6', 'Sole di Napoli': '$8', 'Focaccia Fantasia': '$4', 'Pollo al Limone e Rosmarino': '$10', 'Dolce di Ricotta e Miele': '$1'}}\n",
      "\n",
      "\u001b[1m\u001b[30mObservation: The pricing for the 5 Italian menu items has been successfully generated, with each dish assigned a price: Trattoria di Sogni: $6, Sole di Napoli: $8, Focaccia Fantasia: $4, Pollo al Limone e Rosmarino: $10, and Dolce di Ricotta e Miele: $1.\u001b[0m\n",
      "\u001b[1m\u001b[32mThoughts: Since the pricing has been completed, the next step is to finalize the output and present it to the user.\u001b[0m\n",
      "\u001b[1m\u001b[34mSubtask identified: End Task\u001b[0m\n",
      "Task completed successfully!\n",
      "\n",
      "\u001b[1m\u001b[35m###\n",
      "Reply from Economist to Menu Creator:\n",
      "The pricing for the 5 Italian menu items is as follows:\n",
      "\n",
      "1. **Trattoria di Sogni**: $6 - This whimsical pasta dish features hand-rolled fettuccine with a rich, creamy truffle sauce, topped with aged Parmigiano-Reggiano and white truffle oil.\n",
      "\n",
      "2. **Sole di Napoli**: $8 - A vibrant seafood risotto that includes tender calamari, shrimp, and mussels, simmered in saffron-infused broth and garnished with lemon gremolata.\n",
      "\n",
      "3. **Focaccia Fantasia**: $4 - An artisan focaccia bread baked to golden perfection, topped with seasonal vegetables, aromatic herbs, and sea salt.\n",
      "\n",
      "4. **Pollo al Limone e Rosmarino**: $10 - Juicy chicken thighs marinated in lemon and rosemary, roasted until crispy, served with roasted garlic potatoes.\n",
      "\n",
      "5. **Dolce di Ricotta e Miele**: $1 - A luscious ricotta cheesecake drizzled with wildflower honey and adorned with fresh berries, providing a sweet finale to the meal.\n",
      "###\n",
      "\u001b[0m\n",
      "### End of Inner Agent: Economist ###\n",
      "\n",
      "\u001b[1m\u001b[30mObservation: The subtasks for generating the menu items have been completed, including interesting dish names and descriptions, ingredients, and pricing for 5 Italian menu items.\u001b[0m\n",
      "\u001b[1m\u001b[32mThoughts: Now that we have all the necessary components for the menu items, we can compile them into a structured menu format to present to the user.\u001b[0m\n",
      "\u001b[1m\u001b[34mSubtask identified: End Task\u001b[0m\n",
      "Task completed successfully!\n",
      "\n"
     ]
    }
   ],
   "source": [
    "output = my_agent.run('Generate 5 menu items with name, description, ingredients and price based on Italian food choices. Output in Menu format.')"
   ]
  },
  {
   "cell_type": "code",
   "execution_count": 12,
   "id": "5a4a96d3-2580-4989-8e3b-f240d1f12190",
   "metadata": {
    "tags": []
   },
   "outputs": [
    {
     "name": "stdout",
     "output_type": "stream",
     "text": [
      "Agent Name: Menu Creator\n",
      "Agent Description: Creates a menu for a restaurant. Menu item includes Name, Description, Ingredients, Pricing.\n",
      "Available Functions: ['use_llm', 'end_task', 'Chef', 'Boss', 'Creative Writer', 'Economist']\n",
      "Shared Variables: ['agent']\n",
      "\u001b[1m\u001b[32mTask: Generate 5 menu items with name, description, ingredients and price based on Italian food choices. Output in Menu format.\u001b[0m\n",
      "\u001b[1m\u001b[30mSubtasks Completed:\u001b[0m\n",
      "\u001b[1m\u001b[34mSubtask: Creative Writer(instruction=\"Generate interesting dish names and descriptions for 5 Italian menu items.\")\u001b[0m\n",
      "{'Agent Output': '1. **Trattoria di Sogni**: A whimsical pasta dish that combines hand-rolled fettuccine with a rich, creamy truffle sauce, topped with a sprinkle of aged Parmigiano-Reggiano and a drizzle of white truffle oil. Each bite transports you to a cozy Italian trattoria, where dreams and flavors intertwine.\\n\\n2. **Sole di Napoli**: A vibrant seafood risotto featuring tender calamari, succulent shrimp, and fresh mussels, all simmered in a saffron-infused broth. Garnished with a zesty lemon gremolata, this dish captures the essence of the sun-kissed shores of Naples.\\n\\n3. **Focaccia Fantasia**: An artisan focaccia bread baked to golden perfection, topped with a medley of seasonal vegetables, aromatic herbs, and a hint of sea salt. This dish is a celebration of Italian simplicity, perfect for sharing or savoring solo.\\n\\n4. **Pollo al Limone e Rosmarino**: Juicy chicken thighs marinated in a zesty lemon and rosemary blend, then roasted until crispy. Served with a side of roasted garlic potatoes, this dish embodies the heart of Italian home cooking, bringing warmth and comfort to the table.\\n\\n5. **Dolce di Ricotta e Miele**: A luscious ricotta cheesecake drizzled with wildflower honey and adorned with fresh berries. This dessert is a sweet finale that balances creamy richness with a touch of natural sweetness, leaving a lasting impression of Italian indulgence.'}\n",
      "\n",
      "\u001b[1m\u001b[34mSubtask: Chef(instruction=\"Use the Chef function to generate the ingredients for the 5 Italian menu items: Trattoria di Sogni, Sole di Napoli, Focaccia Fantasia, Pollo al Limone e Rosmarino, and Dolce di Ricotta e Miele.\")\u001b[0m\n",
      "{'Agent Output': '1. **Trattoria di Sogni**: Ingredients include hand-rolled fettuccine, heavy cream, truffle oil, aged Parmigiano-Reggiano, and fresh black truffles.\\n\\n2. **Sole di Napoli**: Ingredients consist of Arborio rice, calamari, shrimp, mussels, saffron, fish stock, garlic, onion, white wine, and lemon for gremolata.\\n\\n3. **Focaccia Fantasia**: Ingredients feature all-purpose flour, yeast, water, olive oil, seasonal vegetables (such as cherry tomatoes, bell peppers, and zucchini), fresh herbs (like rosemary and thyme), and sea salt.\\n\\n4. **Pollo al Limone e Rosmarino**: Ingredients include chicken thighs, fresh lemon juice, rosemary, garlic, olive oil, and potatoes for roasting.\\n\\n5. **Dolce di Ricotta e Miele**: Ingredients are ricotta cheese, wildflower honey, eggs, vanilla extract, graham cracker crust, and fresh berries for topping.'}\n",
      "\n",
      "\u001b[1m\u001b[34mSubtask: Economist(instruction=\"Use the Economist function to generate pricing for the 5 Italian menu items: Trattoria di Sogni, Sole di Napoli, Focaccia Fantasia, Pollo al Limone e Rosmarino, and Dolce di Ricotta e Miele.\")\u001b[0m\n",
      "{'Agent Output': 'The pricing for the 5 Italian menu items is as follows:\\n\\n1. **Trattoria di Sogni**: $6 - This whimsical pasta dish features hand-rolled fettuccine with a rich, creamy truffle sauce, topped with aged Parmigiano-Reggiano and white truffle oil.\\n\\n2. **Sole di Napoli**: $8 - A vibrant seafood risotto that includes tender calamari, shrimp, and mussels, simmered in saffron-infused broth and garnished with lemon gremolata.\\n\\n3. **Focaccia Fantasia**: $4 - An artisan focaccia bread baked to golden perfection, topped with seasonal vegetables, aromatic herbs, and sea salt.\\n\\n4. **Pollo al Limone e Rosmarino**: $10 - Juicy chicken thighs marinated in lemon and rosemary, roasted until crispy, served with roasted garlic potatoes.\\n\\n5. **Dolce di Ricotta e Miele**: $1 - A luscious ricotta cheesecake drizzled with wildflower honey and adorned with fresh berries, providing a sweet finale to the meal.'}\n",
      "\n",
      "Is Task Completed: True\n"
     ]
    }
   ],
   "source": [
    "my_agent.status()"
   ]
  },
  {
   "cell_type": "code",
   "execution_count": 13,
   "id": "1857e28c-e6ae-43cf-89ed-baabd72289de",
   "metadata": {
    "tags": []
   },
   "outputs": [
    {
     "data": {
      "text/plain": [
       "[{'Observation': 'No subtasks have been completed yet for the assigned task of generating 5 menu items based on Italian food choices.',\n",
       "  'Thoughts': 'To complete the assigned task, I need to first generate interesting dish names and descriptions for Italian cuisine. After that, I will generate the ingredients for each dish and finally determine the pricing.',\n",
       "  'Current Subtask': 'Generate interesting dish names and descriptions for 5 Italian menu items.',\n",
       "  'Equipped Function Name': 'Creative Writer',\n",
       "  'Equipped Function Inputs': {'instruction': 'Generate interesting dish names and descriptions for 5 Italian menu items.'}},\n",
       " {'Observation': 'The dish names and descriptions for 5 Italian menu items have been successfully generated using the Creative Writer function.',\n",
       "  'Thoughts': 'Next, I need to generate the ingredients for each of the 5 menu items. This can be done using the Chef function, which specializes in generating ingredients based on dish names.',\n",
       "  'Current Subtask': 'Use the Chef function to generate the ingredients for the 5 Italian menu items: Trattoria di Sogni, Sole di Napoli, Focaccia Fantasia, Pollo al Limone e Rosmarino, and Dolce di Ricotta e Miele.',\n",
       "  'Equipped Function Name': 'Chef',\n",
       "  'Equipped Function Inputs': {'instruction': 'Use the Chef function to generate the ingredients for the 5 Italian menu items: Trattoria di Sogni, Sole di Napoli, Focaccia Fantasia, Pollo al Limone e Rosmarino, and Dolce di Ricotta e Miele.'}},\n",
       " {'Observation': 'The dish names and descriptions for 5 Italian menu items have been successfully generated, along with the ingredients for each dish.',\n",
       "  'Thoughts': 'The next step is to determine the pricing for each of the 5 Italian menu items to complete the menu.',\n",
       "  'Current Subtask': 'Use the Economist function to generate pricing for the 5 Italian menu items: Trattoria di Sogni, Sole di Napoli, Focaccia Fantasia, Pollo al Limone e Rosmarino, and Dolce di Ricotta e Miele.',\n",
       "  'Equipped Function Name': 'Economist',\n",
       "  'Equipped Function Inputs': {'instruction': 'Use the Economist function to generate pricing for the 5 Italian menu items: Trattoria di Sogni, Sole di Napoli, Focaccia Fantasia, Pollo al Limone e Rosmarino, and Dolce di Ricotta e Miele.'}},\n",
       " {'Observation': 'The subtasks for generating the menu items have been completed, including interesting dish names and descriptions, ingredients, and pricing for 5 Italian menu items.',\n",
       "  'Thoughts': 'Now that we have all the necessary components for the menu items, we can compile them into a structured menu format to present to the user.',\n",
       "  'Current Subtask': 'Compile the generated dish names, descriptions, ingredients, and prices into a cohesive menu format.',\n",
       "  'Equipped Function Name': 'end_task',\n",
       "  'Equipped Function Inputs': {}}]"
      ]
     },
     "execution_count": 13,
     "metadata": {},
     "output_type": "execute_result"
    }
   ],
   "source": [
    "my_agent.thoughts"
   ]
  },
  {
   "cell_type": "code",
   "execution_count": 14,
   "id": "b6ec6b0f-9a70-4b47-b6ea-1c29cd88116f",
   "metadata": {
    "tags": []
   },
   "outputs": [
    {
     "name": "stdout",
     "output_type": "stream",
     "text": [
      "1. **Trattoria di Sogni**\n",
      "   - **Description**: A whimsical pasta dish that combines hand-rolled fettuccine with a rich, creamy truffle sauce, topped with a sprinkle of aged Parmigiano-Reggiano and a drizzle of white truffle oil. Each bite transports you to a cozy Italian trattoria, where dreams and flavors intertwine.\n",
      "   - **Ingredients**: Hand-rolled fettuccine, heavy cream, truffle oil, aged Parmigiano-Reggiano, and fresh black truffles.\n",
      "   - **Price**: $6\n",
      "\n",
      "2. **Sole di Napoli**\n",
      "   - **Description**: A vibrant seafood risotto featuring tender calamari, succulent shrimp, and fresh mussels, all simmered in a saffron-infused broth. Garnished with a zesty lemon gremolata, this dish captures the essence of the sun-kissed shores of Naples.\n",
      "   - **Ingredients**: Arborio rice, calamari, shrimp, mussels, saffron, fish stock, garlic, onion, white wine, and lemon for gremolata.\n",
      "   - **Price**: $8\n",
      "\n",
      "3. **Focaccia Fantasia**\n",
      "   - **Description**: An artisan focaccia bread baked to golden perfection, topped with a medley of seasonal vegetables, aromatic herbs, and a hint of sea salt. This dish is a celebration of Italian simplicity, perfect for sharing or savoring solo.\n",
      "   - **Ingredients**: All-purpose flour, yeast, water, olive oil, seasonal vegetables (such as cherry tomatoes, bell peppers, and zucchini), fresh herbs (like rosemary and thyme), and sea salt.\n",
      "   - **Price**: $4\n",
      "\n",
      "4. **Pollo al Limone e Rosmarino**\n",
      "   - **Description**: Juicy chicken thighs marinated in a zesty lemon and rosemary blend, then roasted until crispy. Served with a side of roasted garlic potatoes, this dish embodies the heart of Italian home cooking, bringing warmth and comfort to the table.\n",
      "   - **Ingredients**: Chicken thighs, fresh lemon juice, rosemary, garlic, olive oil, and potatoes for roasting.\n",
      "   - **Price**: $10\n",
      "\n",
      "5. **Dolce di Ricotta e Miele**\n",
      "   - **Description**: A luscious ricotta cheesecake drizzled with wildflower honey and adorned with fresh berries. This dessert is a sweet finale that balances creamy richness with a touch of natural sweetness, leaving a lasting impression of Italian indulgence.\n",
      "   - **Ingredients**: Ricotta cheese, wildflower honey, eggs, vanilla extract, graham cracker crust, and fresh berries for topping.\n",
      "   - **Price**: $1\n"
     ]
    }
   ],
   "source": [
    "output = my_agent.reply_user()"
   ]
  },
  {
   "cell_type": "markdown",
   "id": "18be4496-fc6b-4d61-957a-e42809989f89",
   "metadata": {},
   "source": [
    "# Approach 2: Step through the process yourself as the Meta Agent\n",
    "- You can use agents manually using `use_agent(agent_name: str, agent_task: str)` The outputs of the agents will be stored into `subtasks_completed` of the meta agent automatically\n",
    "- You can also interact with the meta agent using `reply_user(task: str, stateful: bool = False)`. This generates a reply for the agent to the `task` using `subtasks_completed` as context. If `stateful` is true, this will also store the output into `subtasks_completed`\n",
    "- If `subtasks_completed` is too lengthy, you can run `summarise_subtasks_completed(task: str)` This summarises `subtasks_completed` according to what is relevant to the `task`\n",
    "- If you want to redo a subtask, you can remove the most recent subtask from `subtasks_completed` using `remove_last_subtask()`"
   ]
  },
  {
   "cell_type": "code",
   "execution_count": 15,
   "id": "9b1828fd-975e-41c1-ad6c-5f1552286a82",
   "metadata": {
    "tags": []
   },
   "outputs": [
    {
     "name": "stdout",
     "output_type": "stream",
     "text": [
      "Agent Name: Menu Creator\n",
      "Agent Description: Creates a menu for a restaurant. Menu item includes Name, Description, Ingredients, Pricing.\n",
      "Available Functions: ['use_llm', 'end_task', 'Chef', 'Boss', 'Creative Writer', 'Economist']\n",
      "Shared Variables: ['agent']\n",
      "\u001b[1m\u001b[32mTask: No task assigned\u001b[0m\n",
      "\u001b[1m\u001b[34mSubtasks Completed: None\u001b[0m\n",
      "Is Task Completed: False\n"
     ]
    }
   ],
   "source": [
    "# reset the state of the agent\n",
    "my_agent.reset()\n",
    "# currently should have no task and nothing in subtasks_completed\n",
    "my_agent.status()"
   ]
  },
  {
   "cell_type": "code",
   "execution_count": 16,
   "id": "83e65804-6519-4160-81ac-bb05ad10237b",
   "metadata": {
    "tags": []
   },
   "outputs": [],
   "source": [
    "# Assign a task for the meta agent - this helps to contextualise what you give each of the inner agents later on\n",
    "my_agent.assign_task('Generate 5 menu items with name, description, ingredients and price based on Italian food choices. Output in Menu format.')"
   ]
  },
  {
   "cell_type": "code",
   "execution_count": 17,
   "id": "1cc2a7e3-407f-448b-a49b-92260f433527",
   "metadata": {},
   "outputs": [
    {
     "name": "stdout",
     "output_type": "stream",
     "text": [
      "Calling function Creative Writer with parameters {'instruction': 'Generate only 5 Italian dish names and descriptions'}\n",
      "\n",
      "### Start of Inner Agent: Creative Writer ###\n",
      "\u001b[1m\u001b[30mObservation: No subtasks have been completed yet for generating Italian dish names and descriptions.\u001b[0m\n",
      "\u001b[1m\u001b[32mThoughts: I need to generate 5 unique Italian dish names along with their descriptions. Since there are no specific guidelines or examples provided, I can use my general knowledge of Italian cuisine to create interesting and appealing names and descriptions.\u001b[0m\n",
      "\u001b[1m\u001b[34mSubtask identified: Generate 5 Italian dish names and their descriptions using the equipped function.\u001b[0m\n",
      "Getting LLM to perform the following task: Generate 5 Italian dish names and their descriptions using the equipped function.\n",
      "> 1. **Sogni di Pomodoro**: A vibrant tomato-based risotto that dances with the flavors of fresh basil and a hint of garlic, creating a comforting dish that feels like a warm embrace. \n",
      "\n",
      "2. **Frittata di Mare**: A delightful seafood frittata, brimming with succulent shrimp and tender calamari, all enveloped in a fluffy egg mixture, perfect for a seaside brunch. \n",
      "\n",
      "3. **Cappellacci di Ricotta e Spinaci**: Handcrafted pasta pockets filled with creamy ricotta and fresh spinach, served with a drizzle of sage-infused brown butter, offering a taste of rustic Italian charm. \n",
      "\n",
      "4. **Pollo al Limone e Rosmarino**: Juicy chicken thighs marinated in zesty lemon and fragrant rosemary, roasted to perfection, delivering a burst of Mediterranean sunshine in every bite. \n",
      "\n",
      "5. **Torta della Nonna**: A classic Italian custard tart, layered with rich pastry cream and topped with pine nuts, evoking the warmth of a grandmother’s kitchen with every slice.\n",
      "\n",
      "\u001b[1m\u001b[35m###\n",
      "Reply from Creative Writer to Menu Creator:\n",
      "1. **Sogni di Pomodoro**: A vibrant tomato-based risotto that dances with the flavors of fresh basil and a hint of garlic, creating a comforting dish that feels like a warm embrace. \n",
      "\n",
      "2. **Frittata di Mare**: A delightful seafood frittata, brimming with succulent shrimp and tender calamari, all enveloped in a fluffy egg mixture, perfect for a seaside brunch. \n",
      "\n",
      "3. **Cappellacci di Ricotta e Spinaci**: Handcrafted pasta pockets filled with creamy ricotta and fresh spinach, served with a drizzle of sage-infused brown butter, offering a taste of rustic Italian charm. \n",
      "\n",
      "4. **Pollo al Limone e Rosmarino**: Juicy chicken thighs marinated in zesty lemon and fragrant rosemary, roasted to perfection, delivering a burst of Mediterranean sunshine in every bite. \n",
      "\n",
      "5. **Torta della Nonna**: A classic Italian custard tart, layered with rich pastry cream and topped with pine nuts, evoking the warmth of a grandmother’s kitchen with every slice.\n",
      "###\n",
      "\u001b[0m\n",
      "### End of Inner Agent: Creative Writer ###\n",
      "\n"
     ]
    }
   ],
   "source": [
    "# This will run the Agent Creative Writer (with shared subtasks_completed as meta agent)\n",
    "# Output of task will go directly into subtasks_completed - we view the inner agent as simply an extension of the meta agent\n",
    "my_agent.use_agent('Creative Writer', 'Generate only 5 Italian dish names and descriptions')"
   ]
  },
  {
   "cell_type": "code",
   "execution_count": 18,
   "id": "d7baae92-097a-47db-a083-58e3328451db",
   "metadata": {
    "tags": []
   },
   "outputs": [
    {
     "name": "stdout",
     "output_type": "stream",
     "text": [
      "Agent Name: Menu Creator\n",
      "Agent Description: Creates a menu for a restaurant. Menu item includes Name, Description, Ingredients, Pricing.\n",
      "Available Functions: ['use_llm', 'end_task', 'Chef', 'Boss', 'Creative Writer', 'Economist']\n",
      "Shared Variables: ['agent']\n",
      "\u001b[1m\u001b[32mTask: Generate 5 menu items with name, description, ingredients and price based on Italian food choices. Output in Menu format.\u001b[0m\n",
      "\u001b[1m\u001b[30mSubtasks Completed:\u001b[0m\n",
      "\u001b[1m\u001b[34mSubtask: Creative Writer(instruction=\"Generate only 5 Italian dish names and descriptions\")\u001b[0m\n",
      "{'Agent Output': '1. **Sogni di Pomodoro**: A vibrant tomato-based risotto that dances with the flavors of fresh basil and a hint of garlic, creating a comforting dish that feels like a warm embrace. \\n\\n2. **Frittata di Mare**: A delightful seafood frittata, brimming with succulent shrimp and tender calamari, all enveloped in a fluffy egg mixture, perfect for a seaside brunch. \\n\\n3. **Cappellacci di Ricotta e Spinaci**: Handcrafted pasta pockets filled with creamy ricotta and fresh spinach, served with a drizzle of sage-infused brown butter, offering a taste of rustic Italian charm. \\n\\n4. **Pollo al Limone e Rosmarino**: Juicy chicken thighs marinated in zesty lemon and fragrant rosemary, roasted to perfection, delivering a burst of Mediterranean sunshine in every bite. \\n\\n5. **Torta della Nonna**: A classic Italian custard tart, layered with rich pastry cream and topped with pine nuts, evoking the warmth of a grandmother’s kitchen with every slice.'}\n",
      "\n",
      "Is Task Completed: False\n"
     ]
    }
   ],
   "source": [
    "# subtasks_completed should be updated with the Creative Agent's outputs\n",
    "my_agent.status()"
   ]
  },
  {
   "cell_type": "code",
   "execution_count": 19,
   "id": "db731e85-444e-4a9d-8f31-e990594a6bf1",
   "metadata": {},
   "outputs": [
    {
     "name": "stdout",
     "output_type": "stream",
     "text": [
      "Calling function Chef with parameters {'instruction': 'Generate ingredients for the 5 Italian dishes'}\n",
      "\n",
      "### Start of Inner Agent: Chef ###\n",
      "\u001b[1m\u001b[30mObservation: The task of generating Italian dish names and descriptions has been completed, providing a list of five distinct dishes.\u001b[0m\n",
      "\u001b[1m\u001b[32mThoughts: Now, I need to generate the ingredients for each of the five Italian dishes listed. Since there are no specific functions available for generating ingredients, I will use the general function to create a response.\u001b[0m\n",
      "\u001b[1m\u001b[34mSubtask identified: Use the general function to generate a list of ingredients for each of the five Italian dishes: Sogni di Pomodoro, Frittata di Mare, Cappellacci di Ricotta e Spinaci, Pollo al Limone e Rosmarino, and Torta della Nonna.\u001b[0m\n",
      "Getting LLM to perform the following task: Use the general function to generate a list of ingredients for each of the five Italian dishes: Sogni di Pomodoro, Frittata di Mare, Cappellacci di Ricotta e Spinaci, Pollo al Limone e Rosmarino, and Torta della Nonna.\n",
      "> 1. **Sogni di Pomodoro**: Ingredients include Arborio rice, fresh tomatoes, vegetable broth, garlic, fresh basil, olive oil, onion, and Parmesan cheese. \n",
      "\n",
      "2. **Frittata di Mare**: Ingredients consist of eggs, shrimp, calamari, bell peppers, onion, parsley, olive oil, and salt. \n",
      "\n",
      "3. **Cappellacci di Ricotta e Spinaci**: Ingredients feature flour (for pasta), ricotta cheese, fresh spinach, egg, sage, butter, and nutmeg. \n",
      "\n",
      "4. **Pollo al Limone e Rosmarino**: Ingredients include chicken thighs, lemon, fresh rosemary, garlic, olive oil, salt, and pepper. \n",
      "\n",
      "5. **Torta della Nonna**: Ingredients consist of flour, butter, sugar, eggs, milk, vanilla extract, pine nuts, and lemon zest for the custard filling.\n",
      "\n",
      "\u001b[1m\u001b[30mObservation: The ingredients for the five Italian dishes have been successfully generated, including Sogni di Pomodoro, Frittata di Mare, Cappellacci di Ricotta e Spinaci, Pollo al Limone e Rosmarino, and Torta della Nonna.\u001b[0m\n",
      "\u001b[1m\u001b[32mThoughts: Since the ingredients for all dishes have been provided, the next step is to finalize the output and present it to the user.\u001b[0m\n",
      "\u001b[1m\u001b[34mSubtask identified: End Task\u001b[0m\n",
      "Task completed successfully!\n",
      "\n",
      "\u001b[1m\u001b[35m###\n",
      "Reply from Chef to Menu Creator:\n",
      "1. **Sogni di Pomodoro**: Ingredients include Arborio rice, fresh tomatoes, vegetable broth, garlic, fresh basil, olive oil, onion, and Parmesan cheese. \n",
      "\n",
      "2. **Frittata di Mare**: Ingredients consist of eggs, shrimp, calamari, bell peppers, onion, parsley, olive oil, and salt. \n",
      "\n",
      "3. **Cappellacci di Ricotta e Spinaci**: Ingredients feature flour (for pasta), ricotta cheese, fresh spinach, egg, sage, butter, and nutmeg. \n",
      "\n",
      "4. **Pollo al Limone e Rosmarino**: Ingredients include chicken thighs, lemon, fresh rosemary, garlic, olive oil, salt, and pepper. \n",
      "\n",
      "5. **Torta della Nonna**: Ingredients consist of flour, butter, sugar, eggs, milk, vanilla extract, pine nuts, and lemon zest for the custard filling.\n",
      "###\n",
      "\u001b[0m\n",
      "### End of Inner Agent: Chef ###\n",
      "\n"
     ]
    }
   ],
   "source": [
    "my_agent.use_agent('Chef', 'Generate ingredients for the 5 Italian dishes')"
   ]
  },
  {
   "cell_type": "code",
   "execution_count": 20,
   "id": "fd1b1fda-7e72-4669-8e40-f01207ad198f",
   "metadata": {
    "tags": []
   },
   "outputs": [
    {
     "name": "stdout",
     "output_type": "stream",
     "text": [
      "Calling function Economist with parameters {'instruction': 'Generate prices for the 5 Italian dishes'}\n",
      "\n",
      "### Start of Inner Agent: Economist ###\n",
      "\u001b[1m\u001b[30mObservation: The dish names have been generated along with their descriptions and ingredients, but no pricing has been established yet for the 5 Italian dishes.\u001b[0m\n",
      "\u001b[1m\u001b[32mThoughts: To complete the Assigned Task, I need to utilize the dish names provided to generate prices for each dish. Since I have the names, I can directly input them into the appropriate function to obtain the pricing.\u001b[0m\n",
      "\u001b[1m\u001b[34mSubtask identified: Use the dish names of the 5 Italian dishes to generate their prices.\u001b[0m\n",
      "Calling function dish_price with parameters {'list_of_dish_names': ['Sogni di Pomodoro', 'Frittata di Mare', 'Cappellacci di Ricotta e Spinaci', 'Pollo al Limone e Rosmarino', 'Torta della Nonna']}\n",
      "> {'output_1': {'Sogni di Pomodoro': '$9', 'Frittata di Mare': '$2', 'Cappellacci di Ricotta e Spinaci': '$3', 'Pollo al Limone e Rosmarino': '$10', 'Torta della Nonna': '$8'}}\n",
      "\n",
      "\u001b[1m\u001b[30mObservation: The prices for the 5 Italian dishes have been successfully generated, with each dish assigned a specific price.\u001b[0m\n",
      "\u001b[1m\u001b[32mThoughts: Since the pricing for all dishes has been completed, the next step is to finalize the output and present it to the user.\u001b[0m\n",
      "\u001b[1m\u001b[34mSubtask identified: End Task\u001b[0m\n",
      "Task completed successfully!\n",
      "\n",
      "\u001b[1m\u001b[35m###\n",
      "Reply from Economist to Menu Creator:\n",
      "The assigned task was to generate prices for five Italian dishes. Based on the completed subtasks, the following prices have been established:\n",
      "\n",
      "1. **Sogni di Pomodoro**: $9\n",
      "2. **Frittata di Mare**: $2\n",
      "3. **Cappellacci di Ricotta e Spinaci**: $3\n",
      "4. **Pollo al Limone e Rosmarino**: $10\n",
      "5. **Torta della Nonna**: $8\n",
      "\n",
      "These prices reflect the value of each dish as determined by the pricing analysis conducted in the subtasks.\n",
      "###\n",
      "\u001b[0m\n",
      "### End of Inner Agent: Economist ###\n",
      "\n"
     ]
    }
   ],
   "source": [
    "my_agent.use_agent('Economist', 'Generate prices for the 5 Italian dishes')"
   ]
  },
  {
   "cell_type": "code",
   "execution_count": 21,
   "id": "3d0ff21d-3684-49ad-9a59-8d63e8c181aa",
   "metadata": {
    "tags": []
   },
   "outputs": [
    {
     "name": "stdout",
     "output_type": "stream",
     "text": [
      "Calling function Boss with parameters {'instruction': 'Choose only 3 Italian dishes to serve that will please Gordon Ramsay'}\n",
      "\n",
      "### Start of Inner Agent: Boss ###\n",
      "\u001b[1m\u001b[30mObservation: I have generated five Italian dish names and descriptions, their ingredients, and established prices for each dish. However, no subtasks have been completed yet for selecting three dishes that would please Gordon Ramsay.\u001b[0m\n",
      "\u001b[1m\u001b[32mThoughts: To complete the assigned task, I need to analyze the five dishes based on their descriptions, ingredients, and prices to determine which three would be most appealing to Gordon Ramsay, considering his culinary standards and preferences.\u001b[0m\n",
      "\u001b[1m\u001b[34mSubtask identified: Evaluate the five Italian dishes and select three that would be most likely to impress Gordon Ramsay based on their quality, presentation, and flavor profiles.\u001b[0m\n",
      "Getting LLM to perform the following task: Evaluate the five Italian dishes and select three that would be most likely to impress Gordon Ramsay based on their quality, presentation, and flavor profiles.\n",
      "> After evaluating the five Italian dishes based on their quality, presentation, and flavor profiles, the following three dishes are selected as the most likely to impress Gordon Ramsay:\n",
      "\n",
      "1. **Sogni di Pomodoro**: This dish stands out due to its vibrant color and the use of fresh, high-quality ingredients. The combination of Arborio rice with fresh tomatoes and basil creates a rich, comforting risotto that showcases the essence of Italian cuisine. The careful balance of flavors and the creamy texture would likely appeal to Ramsay’s standards for quality and presentation.\n",
      "\n",
      "2. **Cappellacci di Ricotta e Spinaci**: The handcrafted pasta pockets filled with creamy ricotta and fresh spinach are not only visually appealing but also offer a delightful taste experience. The drizzle of sage-infused brown butter adds a sophisticated touch that elevates the dish. Ramsay would appreciate the attention to detail in the pasta-making process and the harmonious flavors.\n",
      "\n",
      "3. **Pollo al Limone e Rosmarino**: This dish features juicy chicken thighs marinated in zesty lemon and fragrant rosemary, which are roasted to perfection. The simplicity of the ingredients, combined with the bold flavors, makes it a standout choice. The presentation of the dish, with its golden-brown chicken and fresh herbs, would likely impress Ramsay, who values both taste and aesthetics in his culinary evaluations.\n",
      "\n",
      "These selections reflect a balance of traditional Italian flavors, quality ingredients, and appealing presentation, aligning with Ramsay's high culinary standards.\n",
      "\n",
      "\u001b[1m\u001b[30mObservation: The evaluation of the five Italian dishes has been completed, and three dishes have been selected that are likely to impress Gordon Ramsay based on their quality, presentation, and flavor profiles: Sogni di Pomodoro, Cappellacci di Ricotta e Spinaci, and Pollo al Limone e Rosmarino.\u001b[0m\n",
      "\u001b[1m\u001b[32mThoughts: Now that the three dishes have been chosen, the next step is to finalize the menu by presenting these selections in a polished format that highlights their appeal and aligns with Ramsay’s standards.\u001b[0m\n",
      "\u001b[1m\u001b[34mSubtask identified: Create a final menu entry for the selected three Italian dishes, including their names, descriptions, and prices, to present to Gordon Ramsay.\u001b[0m\n",
      "Getting LLM to perform the following task: Create a final menu entry for the selected three Italian dishes, including their names, descriptions, and prices, to present to Gordon Ramsay.\n",
      "> Final Menu Entry for Selected Italian Dishes:\n",
      "\n",
      "1. **Sogni di Pomodoro**  \n",
      "   *Description*: A vibrant tomato-based risotto that dances with the flavors of fresh basil and a hint of garlic, creating a comforting dish that feels like a warm embrace.  \n",
      "   *Price*: $9  \n",
      "\n",
      "2. **Cappellacci di Ricotta e Spinaci**  \n",
      "   *Description*: Handcrafted pasta pockets filled with creamy ricotta and fresh spinach, served with a drizzle of sage-infused brown butter, offering a taste of rustic Italian charm.  \n",
      "   *Price*: $3  \n",
      "\n",
      "3. **Pollo al Limone e Rosmarino**  \n",
      "   *Description*: Juicy chicken thighs marinated in zesty lemon and fragrant rosemary, roasted to perfection, delivering a burst of Mediterranean sunshine in every bite.  \n",
      "   *Price*: $10  \n",
      "\n",
      "This menu entry highlights the quality, presentation, and flavor profiles of the selected dishes, ensuring they align with Gordon Ramsay's high culinary standards.\n",
      "\n",
      "\u001b[1m\u001b[30mObservation: The three Italian dishes selected to impress Gordon Ramsay are Sogni di Pomodoro, Cappellacci di Ricotta e Spinaci, and Pollo al Limone e Rosmarino. Each dish has been evaluated based on quality, presentation, and flavor profiles, and a final menu entry has been created that includes their descriptions and prices.\u001b[0m\n",
      "\u001b[1m\u001b[32mThoughts: The final task is to present the menu entry to Gordon Ramsay. This requires passing the final output to the user in a clear and concise manner, ensuring that all details are included and formatted correctly.\u001b[0m\n",
      "\u001b[1m\u001b[34mSubtask identified: End Task\u001b[0m\n",
      "Task completed successfully!\n",
      "\n",
      "\u001b[1m\u001b[35m###\n",
      "Reply from Boss to Menu Creator:\n",
      "After evaluating the five Italian dishes based on their quality, presentation, and flavor profiles, the following three dishes are selected as the most likely to impress Gordon Ramsay:\n",
      "\n",
      "1. **Sogni di Pomodoro**: This dish stands out due to its vibrant color and the use of fresh, high-quality ingredients. The combination of Arborio rice with fresh tomatoes and basil creates a rich, comforting risotto that showcases the essence of Italian cuisine. The careful balance of flavors and the creamy texture would likely appeal to Ramsay’s standards for quality and presentation.  \n",
      "   *Description*: A vibrant tomato-based risotto that dances with the flavors of fresh basil and a hint of garlic, creating a comforting dish that feels like a warm embrace.  \n",
      "   *Price*: $9  \n",
      "\n",
      "2. **Cappellacci di Ricotta e Spinaci**: The handcrafted pasta pockets filled with creamy ricotta and fresh spinach are not only visually appealing but also offer a delightful taste experience. The drizzle of sage-infused brown butter adds a sophisticated touch that elevates the dish. Ramsay would appreciate the attention to detail in the pasta-making process and the harmonious flavors.  \n",
      "   *Description*: Handcrafted pasta pockets filled with creamy ricotta and fresh spinach, served with a drizzle of sage-infused brown butter, offering a taste of rustic Italian charm.  \n",
      "   *Price*: $3  \n",
      "\n",
      "3. **Pollo al Limone e Rosmarino**: This dish features juicy chicken thighs marinated in zesty lemon and fragrant rosemary, which are roasted to perfection. The simplicity of the ingredients, combined with the bold flavors, makes it a standout choice. The presentation of the dish, with its golden-brown chicken and fresh herbs, would likely impress Ramsay, who values both taste and aesthetics in his culinary evaluations.  \n",
      "   *Description*: Juicy chicken thighs marinated in zesty lemon and fragrant rosemary, roasted to perfection, delivering a burst of Mediterranean sunshine in every bite.  \n",
      "   *Price*: $10  \n",
      "\n",
      "This selection reflects a balance of traditional Italian flavors, quality ingredients, and appealing presentation, aligning with Ramsay's high culinary standards.\n",
      "###\n",
      "\u001b[0m\n",
      "### End of Inner Agent: Boss ###\n",
      "\n"
     ]
    }
   ],
   "source": [
    "my_agent.use_agent('Boss', 'Choose only 3 Italian dishes to serve that will please Gordon Ramsay')"
   ]
  },
  {
   "cell_type": "code",
   "execution_count": 22,
   "id": "9290ba86-c1a7-4d68-ba2e-5ffbe292f403",
   "metadata": {
    "tags": []
   },
   "outputs": [
    {
     "name": "stdout",
     "output_type": "stream",
     "text": [
      "1. **Sogni di Pomodoro**: A vibrant tomato-based risotto that dances with the flavors of fresh basil and a hint of garlic, creating a comforting dish that feels like a warm embrace. \n",
      "   *Ingredients*: Arborio rice, fresh tomatoes, vegetable broth, garlic, fresh basil, olive oil, onion, and Parmesan cheese. \n",
      "   *Price*: $9  \n",
      "\n",
      "2. **Cappellacci di Ricotta e Spinaci**: Handcrafted pasta pockets filled with creamy ricotta and fresh spinach, served with a drizzle of sage-infused brown butter, offering a taste of rustic Italian charm. \n",
      "   *Ingredients*: Flour (for pasta), ricotta cheese, fresh spinach, egg, sage, butter, and nutmeg. \n",
      "   *Price*: $3  \n",
      "\n",
      "3. **Pollo al Limone e Rosmarino**: Juicy chicken thighs marinated in zesty lemon and fragrant rosemary, roasted to perfection, delivering a burst of Mediterranean sunshine in every bite. \n",
      "   *Ingredients*: Chicken thighs, lemon, fresh rosemary, garlic, olive oil, salt, and pepper. \n",
      "   *Price*: $10\n"
     ]
    }
   ],
   "source": [
    "# Get a targeted response from your agent, and add this to subtask_completed\n",
    "output = my_agent.reply_user('Choose the 3 menu items for Gordon Ramsay line by line in this format - Dish Name, Dish Description, Dish Ingredients, Dish Price')"
   ]
  },
  {
   "cell_type": "code",
   "execution_count": 23,
   "id": "8c134d97-36fc-4f33-880a-fbb79e2388a5",
   "metadata": {},
   "outputs": [
    {
     "name": "stdout",
     "output_type": "stream",
     "text": [
      "Agent Name: Menu Creator\n",
      "Agent Description: Creates a menu for a restaurant. Menu item includes Name, Description, Ingredients, Pricing.\n",
      "Available Functions: ['use_llm', 'end_task', 'Chef', 'Boss', 'Creative Writer', 'Economist']\n",
      "Shared Variables: ['agent']\n",
      "\u001b[1m\u001b[32mTask: Generate 5 menu items with name, description, ingredients and price based on Italian food choices. Output in Menu format.\u001b[0m\n",
      "\u001b[1m\u001b[30mSubtasks Completed:\u001b[0m\n",
      "\u001b[1m\u001b[34mSubtask: Creative Writer(instruction=\"Generate only 5 Italian dish names and descriptions\")\u001b[0m\n",
      "{'Agent Output': '1. **Sogni di Pomodoro**: A vibrant tomato-based risotto that dances with the flavors of fresh basil and a hint of garlic, creating a comforting dish that feels like a warm embrace. \\n\\n2. **Frittata di Mare**: A delightful seafood frittata, brimming with succulent shrimp and tender calamari, all enveloped in a fluffy egg mixture, perfect for a seaside brunch. \\n\\n3. **Cappellacci di Ricotta e Spinaci**: Handcrafted pasta pockets filled with creamy ricotta and fresh spinach, served with a drizzle of sage-infused brown butter, offering a taste of rustic Italian charm. \\n\\n4. **Pollo al Limone e Rosmarino**: Juicy chicken thighs marinated in zesty lemon and fragrant rosemary, roasted to perfection, delivering a burst of Mediterranean sunshine in every bite. \\n\\n5. **Torta della Nonna**: A classic Italian custard tart, layered with rich pastry cream and topped with pine nuts, evoking the warmth of a grandmother’s kitchen with every slice.'}\n",
      "\n",
      "\u001b[1m\u001b[34mSubtask: Chef(instruction=\"Generate ingredients for the 5 Italian dishes\")\u001b[0m\n",
      "{'Agent Output': '1. **Sogni di Pomodoro**: Ingredients include Arborio rice, fresh tomatoes, vegetable broth, garlic, fresh basil, olive oil, onion, and Parmesan cheese. \\n\\n2. **Frittata di Mare**: Ingredients consist of eggs, shrimp, calamari, bell peppers, onion, parsley, olive oil, and salt. \\n\\n3. **Cappellacci di Ricotta e Spinaci**: Ingredients feature flour (for pasta), ricotta cheese, fresh spinach, egg, sage, butter, and nutmeg. \\n\\n4. **Pollo al Limone e Rosmarino**: Ingredients include chicken thighs, lemon, fresh rosemary, garlic, olive oil, salt, and pepper. \\n\\n5. **Torta della Nonna**: Ingredients consist of flour, butter, sugar, eggs, milk, vanilla extract, pine nuts, and lemon zest for the custard filling.'}\n",
      "\n",
      "\u001b[1m\u001b[34mSubtask: Economist(instruction=\"Generate prices for the 5 Italian dishes\")\u001b[0m\n",
      "{'Agent Output': 'The assigned task was to generate prices for five Italian dishes. Based on the completed subtasks, the following prices have been established:\\n\\n1. **Sogni di Pomodoro**: $9\\n2. **Frittata di Mare**: $2\\n3. **Cappellacci di Ricotta e Spinaci**: $3\\n4. **Pollo al Limone e Rosmarino**: $10\\n5. **Torta della Nonna**: $8\\n\\nThese prices reflect the value of each dish as determined by the pricing analysis conducted in the subtasks.'}\n",
      "\n",
      "\u001b[1m\u001b[34mSubtask: Boss(instruction=\"Choose only 3 Italian dishes to serve that will please Gordon Ramsay\")\u001b[0m\n",
      "{'Agent Output': \"After evaluating the five Italian dishes based on their quality, presentation, and flavor profiles, the following three dishes are selected as the most likely to impress Gordon Ramsay:\\n\\n1. **Sogni di Pomodoro**: This dish stands out due to its vibrant color and the use of fresh, high-quality ingredients. The combination of Arborio rice with fresh tomatoes and basil creates a rich, comforting risotto that showcases the essence of Italian cuisine. The careful balance of flavors and the creamy texture would likely appeal to Ramsay’s standards for quality and presentation.  \\n   *Description*: A vibrant tomato-based risotto that dances with the flavors of fresh basil and a hint of garlic, creating a comforting dish that feels like a warm embrace.  \\n   *Price*: $9  \\n\\n2. **Cappellacci di Ricotta e Spinaci**: The handcrafted pasta pockets filled with creamy ricotta and fresh spinach are not only visually appealing but also offer a delightful taste experience. The drizzle of sage-infused brown butter adds a sophisticated touch that elevates the dish. Ramsay would appreciate the attention to detail in the pasta-making process and the harmonious flavors.  \\n   *Description*: Handcrafted pasta pockets filled with creamy ricotta and fresh spinach, served with a drizzle of sage-infused brown butter, offering a taste of rustic Italian charm.  \\n   *Price*: $3  \\n\\n3. **Pollo al Limone e Rosmarino**: This dish features juicy chicken thighs marinated in zesty lemon and fragrant rosemary, which are roasted to perfection. The simplicity of the ingredients, combined with the bold flavors, makes it a standout choice. The presentation of the dish, with its golden-brown chicken and fresh herbs, would likely impress Ramsay, who values both taste and aesthetics in his culinary evaluations.  \\n   *Description*: Juicy chicken thighs marinated in zesty lemon and fragrant rosemary, roasted to perfection, delivering a burst of Mediterranean sunshine in every bite.  \\n   *Price*: $10  \\n\\nThis selection reflects a balance of traditional Italian flavors, quality ingredients, and appealing presentation, aligning with Ramsay's high culinary standards.\"}\n",
      "\n",
      "\u001b[1m\u001b[34mSubtask: Choose the 3 menu items for Gordon Ramsay line by line in this format - Dish Name, Dish Description, Dish Ingredients, Dish Price\u001b[0m\n",
      "1. **Sogni di Pomodoro**: A vibrant tomato-based risotto that dances with the flavors of fresh basil and a hint of garlic, creating a comforting dish that feels like a warm embrace. \n",
      "   *Ingredients*: Arborio rice, fresh tomatoes, vegetable broth, garlic, fresh basil, olive oil, onion, and Parmesan cheese. \n",
      "   *Price*: $9  \n",
      "\n",
      "2. **Cappellacci di Ricotta e Spinaci**: Handcrafted pasta pockets filled with creamy ricotta and fresh spinach, served with a drizzle of sage-infused brown butter, offering a taste of rustic Italian charm. \n",
      "   *Ingredients*: Flour (for pasta), ricotta cheese, fresh spinach, egg, sage, butter, and nutmeg. \n",
      "   *Price*: $3  \n",
      "\n",
      "3. **Pollo al Limone e Rosmarino**: Juicy chicken thighs marinated in zesty lemon and fragrant rosemary, roasted to perfection, delivering a burst of Mediterranean sunshine in every bite. \n",
      "   *Ingredients*: Chicken thighs, lemon, fresh rosemary, garlic, olive oil, salt, and pepper. \n",
      "   *Price*: $10\n",
      "\n",
      "Is Task Completed: False\n"
     ]
    }
   ],
   "source": [
    "my_agent.status()"
   ]
  },
  {
   "cell_type": "code",
   "execution_count": 24,
   "id": "8bdfad22-3b67-42d5-a4c6-cfd607dd22b1",
   "metadata": {
    "tags": []
   },
   "outputs": [
    {
     "name": "stdout",
     "output_type": "stream",
     "text": [
      "1. **Sogni di Pomodoro**: A vibrant tomato-based risotto that dances with the flavors of fresh basil and a hint of garlic, creating a comforting dish that feels like a warm embrace.  \n",
      "   *Ingredients*: Arborio rice, fresh tomatoes, vegetable broth, garlic, fresh basil, olive oil, onion, and Parmesan cheese.  \n",
      "   *Price*: $9  \n",
      "\n",
      "2. **Cappellacci di Ricotta e Spinaci**: Handcrafted pasta pockets filled with creamy ricotta and fresh spinach, served with a drizzle of sage-infused brown butter, offering a taste of rustic Italian charm.  \n",
      "   *Ingredients*: Flour (for pasta), ricotta cheese, fresh spinach, egg, sage, butter, and nutmeg.  \n",
      "   *Price*: $3  \n",
      "\n",
      "3. **Pollo al Limone e Rosmarino**: Juicy chicken thighs marinated in zesty lemon and fragrant rosemary, roasted to perfection, delivering a burst of Mediterranean sunshine in every bite.  \n",
      "   *Ingredients*: Chicken thighs, lemon, fresh rosemary, garlic, olive oil, salt, and pepper.  \n",
      "   *Price*: $10\n"
     ]
    }
   ],
   "source": [
    "# you can summarise the subtasks_history for the next task\n",
    "my_agent.summarise_subtasks_completed('Generate the 3 Italian dishes for Gordon Ramsay in menu format')"
   ]
  },
  {
   "cell_type": "code",
   "execution_count": 25,
   "id": "ea8ebd26-25e2-41b3-a2a3-78f03d324f3b",
   "metadata": {
    "tags": []
   },
   "outputs": [
    {
     "name": "stdout",
     "output_type": "stream",
     "text": [
      "Agent Name: Menu Creator\n",
      "Agent Description: Creates a menu for a restaurant. Menu item includes Name, Description, Ingredients, Pricing.\n",
      "Available Functions: ['use_llm', 'end_task', 'Chef', 'Boss', 'Creative Writer', 'Economist']\n",
      "Shared Variables: ['agent']\n",
      "\u001b[1m\u001b[32mTask: Generate 5 menu items with name, description, ingredients and price based on Italian food choices. Output in Menu format.\u001b[0m\n",
      "\u001b[1m\u001b[30mSubtasks Completed:\u001b[0m\n",
      "\u001b[1m\u001b[34mSubtask: Current Results for 'Generate the 3 Italian dishes for Gordon Ramsay in menu format'\u001b[0m\n",
      "1. **Sogni di Pomodoro**: A vibrant tomato-based risotto that dances with the flavors of fresh basil and a hint of garlic, creating a comforting dish that feels like a warm embrace.  \n",
      "   *Ingredients*: Arborio rice, fresh tomatoes, vegetable broth, garlic, fresh basil, olive oil, onion, and Parmesan cheese.  \n",
      "   *Price*: $9  \n",
      "\n",
      "2. **Cappellacci di Ricotta e Spinaci**: Handcrafted pasta pockets filled with creamy ricotta and fresh spinach, served with a drizzle of sage-infused brown butter, offering a taste of rustic Italian charm.  \n",
      "   *Ingredients*: Flour (for pasta), ricotta cheese, fresh spinach, egg, sage, butter, and nutmeg.  \n",
      "   *Price*: $3  \n",
      "\n",
      "3. **Pollo al Limone e Rosmarino**: Juicy chicken thighs marinated in zesty lemon and fragrant rosemary, roasted to perfection, delivering a burst of Mediterranean sunshine in every bite.  \n",
      "   *Ingredients*: Chicken thighs, lemon, fresh rosemary, garlic, olive oil, salt, and pepper.  \n",
      "   *Price*: $10\n",
      "\n",
      "Is Task Completed: False\n"
     ]
    }
   ],
   "source": [
    "# subtask has been summarised, helping to reduce the context significantly for later task generation\n",
    "my_agent.status()"
   ]
  },
  {
   "cell_type": "code",
   "execution_count": 26,
   "id": "8283f502-512f-47fc-9270-5ac9457d8a01",
   "metadata": {
    "tags": []
   },
   "outputs": [
    {
     "data": {
      "text/plain": [
       "{\"Current Results for 'Generate the 3 Italian dishes for Gordon Ramsay in menu format'\": '1. **Sogni di Pomodoro**: A vibrant tomato-based risotto that dances with the flavors of fresh basil and a hint of garlic, creating a comforting dish that feels like a warm embrace.  \\n   *Ingredients*: Arborio rice, fresh tomatoes, vegetable broth, garlic, fresh basil, olive oil, onion, and Parmesan cheese.  \\n   *Price*: $9  \\n\\n2. **Cappellacci di Ricotta e Spinaci**: Handcrafted pasta pockets filled with creamy ricotta and fresh spinach, served with a drizzle of sage-infused brown butter, offering a taste of rustic Italian charm.  \\n   *Ingredients*: Flour (for pasta), ricotta cheese, fresh spinach, egg, sage, butter, and nutmeg.  \\n   *Price*: $3  \\n\\n3. **Pollo al Limone e Rosmarino**: Juicy chicken thighs marinated in zesty lemon and fragrant rosemary, roasted to perfection, delivering a burst of Mediterranean sunshine in every bite.  \\n   *Ingredients*: Chicken thighs, lemon, fresh rosemary, garlic, olive oil, salt, and pepper.  \\n   *Price*: $10'}"
      ]
     },
     "execution_count": 26,
     "metadata": {},
     "output_type": "execute_result"
    }
   ],
   "source": [
    "my_agent.subtasks_completed"
   ]
  },
  {
   "cell_type": "code",
   "execution_count": 27,
   "id": "c7887297-c007-42fd-a21e-5196afef605a",
   "metadata": {
    "tags": []
   },
   "outputs": [
    {
     "name": "stdout",
     "output_type": "stream",
     "text": [
      "Removed last subtask from subtasks_completed: (\"Current Results for 'Generate the 3 Italian dishes for Gordon Ramsay in menu format'\", '1. **Sogni di Pomodoro**: A vibrant tomato-based risotto that dances with the flavors of fresh basil and a hint of garlic, creating a comforting dish that feels like a warm embrace.  \\n   *Ingredients*: Arborio rice, fresh tomatoes, vegetable broth, garlic, fresh basil, olive oil, onion, and Parmesan cheese.  \\n   *Price*: $9  \\n\\n2. **Cappellacci di Ricotta e Spinaci**: Handcrafted pasta pockets filled with creamy ricotta and fresh spinach, served with a drizzle of sage-infused brown butter, offering a taste of rustic Italian charm.  \\n   *Ingredients*: Flour (for pasta), ricotta cheese, fresh spinach, egg, sage, butter, and nutmeg.  \\n   *Price*: $3  \\n\\n3. **Pollo al Limone e Rosmarino**: Juicy chicken thighs marinated in zesty lemon and fragrant rosemary, roasted to perfection, delivering a burst of Mediterranean sunshine in every bite.  \\n   *Ingredients*: Chicken thighs, lemon, fresh rosemary, garlic, olive oil, salt, and pepper.  \\n   *Price*: $10')\n"
     ]
    }
   ],
   "source": [
    "# we also allow you to manually remove the last item added to subtasks_completed, so you can revert your agent state if needed for backtracking\n",
    "my_agent.remove_last_subtask()"
   ]
  },
  {
   "cell_type": "code",
   "execution_count": 28,
   "id": "35340b71-d7ea-4f28-ad0a-dddf6099737f",
   "metadata": {
    "tags": []
   },
   "outputs": [
    {
     "name": "stdout",
     "output_type": "stream",
     "text": [
      "Agent Name: Menu Creator\n",
      "Agent Description: Creates a menu for a restaurant. Menu item includes Name, Description, Ingredients, Pricing.\n",
      "Available Functions: ['use_llm', 'end_task', 'Chef', 'Boss', 'Creative Writer', 'Economist']\n",
      "Shared Variables: ['agent']\n",
      "\u001b[1m\u001b[32mTask: Generate 5 menu items with name, description, ingredients and price based on Italian food choices. Output in Menu format.\u001b[0m\n",
      "\u001b[1m\u001b[34mSubtasks Completed: None\u001b[0m\n",
      "Is Task Completed: False\n"
     ]
    }
   ],
   "source": [
    "# visualise your agent's status - should have empty subtasks_completed\n",
    "my_agent.status()"
   ]
  },
  {
   "cell_type": "code",
   "execution_count": 29,
   "id": "ca73a9cb-73c2-4768-8e75-eb42063afb2e",
   "metadata": {
    "tags": []
   },
   "outputs": [
    {
     "data": {
      "text/plain": [
       "{}"
      ]
     },
     "execution_count": 29,
     "metadata": {},
     "output_type": "execute_result"
    }
   ],
   "source": [
    "my_agent.subtasks_completed"
   ]
  },
  {
   "cell_type": "markdown",
   "id": "8a03f820-c405-4004-982a-b46dc7c9a191",
   "metadata": {},
   "source": [
    "# More Advanced Agents with Shared Variables\n",
    "- Each Inner Agent has access to a specific part of Shared Variables via Global Context\n",
    "- Each Inner Agent will update the Shared Variables as it is changed by their actions\n",
    "- Meta Agent will know of the change in inventory via Shared Variables, as well as the reply of the Inner Agent"
   ]
  },
  {
   "cell_type": "code",
   "execution_count": 30,
   "id": "e3b4c40c-a742-4909-82c9-3c351eda4aac",
   "metadata": {
    "tags": []
   },
   "outputs": [],
   "source": [
    "def add_item_to_inventory(shared_variables, item: str) -> str:\n",
    "    ''' Adds item to inventory, and returns outcome of action '''\n",
    "    shared_variables['Inventory A'].append(item)\n",
    "    return f'{item} successfully added to Inventory A'\n",
    "\n",
    "def remove_item_from_inventory(shared_variables, item: str) -> str:\n",
    "    ''' Removes item from inventory and returns outcome of action '''\n",
    "    if item in shared_variables['Inventory A']:\n",
    "        shared_variables['Inventory A'].remove(item)\n",
    "        return f'{item} successfully removed from Inventory A'\n",
    "    else:\n",
    "        return f'{item} not found in Inventory A, unable to remove'"
   ]
  },
  {
   "cell_type": "code",
   "execution_count": 31,
   "id": "fd56209d-21c8-4630-ab4d-5f819789d980",
   "metadata": {
    "tags": []
   },
   "outputs": [],
   "source": [
    "def add_item_to_inventory_2(shared_variables, item: str) -> str:\n",
    "    ''' Adds item to inventory, and returns outcome of action '''\n",
    "    shared_variables['Inventory B'].append(item)\n",
    "    return f'{item} successfully added to Inventory B'\n",
    "    \n",
    "def remove_item_from_inventory_2(shared_variables, item: str) -> str:\n",
    "    ''' Removes item from inventory and returns outcome of action '''\n",
    "    if item in shared_variables['Inventory B']:\n",
    "        shared_variables['Inventory B'].remove(item)\n",
    "        return f'{item} successfully removed from Inventory B'\n",
    "    else:\n",
    "        return f'{item} not found in Inventory B, unable to remove'"
   ]
  },
  {
   "cell_type": "code",
   "execution_count": 32,
   "id": "ddd6a358-be78-4f49-871b-674456b08c1c",
   "metadata": {
    "tags": []
   },
   "outputs": [],
   "source": [
    "agent_a = Agent('Factory A Inventory Manager', \n",
    "      'Adds and removes items in Inventory A. Only able to remove items if present in Inventory A',\n",
    "      global_context = 'Inventory of Factory A: <Inventory A>', # Add in Global Context here with shared_variables Inventory\n",
    "      llm = llm).assign_functions([add_item_to_inventory, remove_item_from_inventory])\n",
    "\n",
    "agent_b = Agent('Factory B Inventory Manager', \n",
    "      'Adds and removes items in Inventory B. Only able to remove items if present in Inventory B',\n",
    "      global_context = 'Inventory of Factory B: <Inventory B>', # Add in Global Context here with shared_variables Inventory\n",
    "      llm = llm).assign_functions([add_item_to_inventory_2, remove_item_from_inventory_2])\n",
    "\n",
    "meta_agent = Agent('Inventory Manager', 'Manages inventory of all factories', \n",
    "       shared_variables = {'Inventory A': [],\n",
    "                           'Inventory B': []},\n",
    "        llm = llm,\n",
    "       global_context = 'Inventory of Factory A: <Inventory A>\\nInventory of Factory B: <Inventory B>').assign_functions([agent_a, agent_b])"
   ]
  },
  {
   "cell_type": "code",
   "execution_count": 33,
   "id": "12f2bd5f-4b8c-44d0-9c96-90a667a38a93",
   "metadata": {
    "tags": []
   },
   "outputs": [
    {
     "name": "stdout",
     "output_type": "stream",
     "text": [
      "Name: use_llm\n",
      "Description: For general tasks. Used only when no other function can do the task\n",
      "Input: []\n",
      "Output: {'Output': 'Output of LLM'}\n",
      "\n",
      "Name: end_task\n",
      "Description: Passes the final output to the user\n",
      "Input: []\n",
      "Output: {}\n",
      "\n",
      "Name: Factory A Inventory Manager\n",
      "Description: Agent Description: ```Adds and removes items in Inventory A. Only able to remove items if present in Inventory A```\n",
      "Executes the given <instruction>\n",
      "Input: ['instruction']\n",
      "Output: {'Agent Output': 'Output of instruction'}\n",
      "\n",
      "Name: Factory B Inventory Manager\n",
      "Description: Agent Description: ```Adds and removes items in Inventory B. Only able to remove items if present in Inventory B```\n",
      "Executes the given <instruction>\n",
      "Input: ['instruction']\n",
      "Output: {'Agent Output': 'Output of instruction'}\n",
      "\n"
     ]
    }
   ],
   "source": [
    "meta_agent.print_functions()"
   ]
  },
  {
   "cell_type": "code",
   "execution_count": 34,
   "id": "e7d4ffdf-031d-4f54-802e-c0447b67172a",
   "metadata": {
    "tags": []
   },
   "outputs": [
    {
     "name": "stdout",
     "output_type": "stream",
     "text": [
      "\u001b[1m\u001b[30mObservation: No items have been added to either Factory A or Factory B yet.\u001b[0m\n",
      "\u001b[1m\u001b[32mThoughts: To complete the Assigned Task, I need to add apples to Factory A and pears to Factory B. Since both inventories are currently empty, I can start by adding apples to Factory A first.\u001b[0m\n",
      "\u001b[1m\u001b[34mSubtask identified: Add apples to Factory A.\u001b[0m\n",
      "Calling function Factory A Inventory Manager with parameters {'instruction': 'Add apples to Factory A.'}\n",
      "\n",
      "### Start of Inner Agent: Factory A Inventory Manager ###\n",
      "\u001b[1m\u001b[30mObservation: No items have been added to Inventory A yet, and the inventory is currently empty.\u001b[0m\n",
      "\u001b[1m\u001b[32mThoughts: To complete the assigned task of adding apples to Factory A, I need to use the function that allows me to add items to the inventory.\u001b[0m\n",
      "\u001b[1m\u001b[34mSubtask identified: Add apples to Inventory A using the add_item_to_inventory function.\u001b[0m\n",
      "Calling function add_item_to_inventory with parameters {'item': 'apples'}\n",
      "> {'output_1': 'apples successfully added to Inventory A'}\n",
      "\n",
      "\u001b[1m\u001b[30mObservation: The task to add apples to Inventory A has already been completed successfully, as indicated by the output stating that apples were successfully added.\u001b[0m\n",
      "\u001b[1m\u001b[32mThoughts: Since the apples are already in Inventory A, there is no further action needed to add them again. The task is effectively complete.\u001b[0m\n",
      "\u001b[1m\u001b[34mSubtask identified: End Task\u001b[0m\n",
      "Task completed successfully!\n",
      "\n",
      "\u001b[1m\u001b[35m###\n",
      "Reply from Factory A Inventory Manager to Inventory Manager:\n",
      "The assigned task was to add apples to Factory A. However, according to the global context, apples are already present in Inventory A. The subtasks completed indicate that the action to add apples was executed, resulting in the output: \"apples successfully added to Inventory A.\" Therefore, the current state of Inventory A remains unchanged with the presence of apples.\n",
      "###\n",
      "\u001b[0m\n",
      "### End of Inner Agent: Factory A Inventory Manager ###\n",
      "\n",
      "\u001b[1m\u001b[30mObservation: The task to add apples to Factory A was executed, but apples were already present in Inventory A, resulting in no change to the inventory. The only remaining action is to add pears to Factory B, which is currently empty.\u001b[0m\n",
      "\u001b[1m\u001b[32mThoughts: To complete the assigned task, I need to add pears to Factory B. Since Factory B is empty, I can proceed with this action without any restrictions.\u001b[0m\n",
      "\u001b[1m\u001b[34mSubtask identified: Execute the instruction to add pears to Factory B.\u001b[0m\n",
      "Calling function Factory B Inventory Manager with parameters {'instruction': 'Execute the instruction to add pears to Factory B.'}\n",
      "\n",
      "### Start of Inner Agent: Factory B Inventory Manager ###\n",
      "\u001b[1m\u001b[30mObservation: No items have been added to Inventory B yet, and the task is to add pears to it.\u001b[0m\n",
      "\u001b[1m\u001b[32mThoughts: Since Inventory B is currently empty, I can proceed to add pears directly without any issues.\u001b[0m\n",
      "\u001b[1m\u001b[34mSubtask identified: Add pears to Inventory B.\u001b[0m\n",
      "Calling function add_item_to_inventory_2 with parameters {'item': 'pears'}\n",
      "> {'output_1': 'pears successfully added to Inventory B'}\n",
      "\n",
      "\u001b[1m\u001b[30mObservation: The assigned task was to add pears to Factory B. The subtask completed indicates that the action to add pears was executed successfully, resulting in the output: \"pears successfully added to Inventory B.\" Therefore, the current state of Inventory B confirms the presence of pears.\u001b[0m\n",
      "\u001b[1m\u001b[32mThoughts: Since the task of adding pears to Inventory B has already been completed, there is no further action required to fulfill the assigned task.\u001b[0m\n",
      "\u001b[1m\u001b[34mSubtask identified: End Task\u001b[0m\n",
      "Task completed successfully!\n",
      "\n",
      "\u001b[1m\u001b[35m###\n",
      "Reply from Factory B Inventory Manager to Inventory Manager:\n",
      "The assigned task was to execute the instruction to add pears to Factory B. However, according to the global context, pears are already present in Inventory B. The subtasks completed indicate that the action to add pears was executed, resulting in the output: \"pears successfully added to Inventory B.\" Therefore, the current state of Inventory B remains unchanged with the presence of pears.\n",
      "###\n",
      "\u001b[0m\n",
      "### End of Inner Agent: Factory B Inventory Manager ###\n",
      "\n",
      "\u001b[1m\u001b[30mObservation: The subtasks completed indicate that both apples and pears were successfully added to their respective inventories, but the current state of Inventory A and Inventory B remains unchanged as the items were already present.\u001b[0m\n",
      "\u001b[1m\u001b[32mThoughts: Since the assigned task has been executed and both items are already in their respective inventories, there is no further action required to complete the assigned task.\u001b[0m\n",
      "\u001b[1m\u001b[34mSubtask identified: End Task\u001b[0m\n",
      "Task completed successfully!\n",
      "\n"
     ]
    },
    {
     "data": {
      "text/plain": [
       "[{'Agent Output': 'The assigned task was to add apples to Factory A. However, according to the global context, apples are already present in Inventory A. The subtasks completed indicate that the action to add apples was executed, resulting in the output: \"apples successfully added to Inventory A.\" Therefore, the current state of Inventory A remains unchanged with the presence of apples.'},\n",
       " {'Agent Output': 'The assigned task was to execute the instruction to add pears to Factory B. However, according to the global context, pears are already present in Inventory B. The subtasks completed indicate that the action to add pears was executed, resulting in the output: \"pears successfully added to Inventory B.\" Therefore, the current state of Inventory B remains unchanged with the presence of pears.'}]"
      ]
     },
     "execution_count": 34,
     "metadata": {},
     "output_type": "execute_result"
    }
   ],
   "source": [
    "meta_agent.run('Add apples to Factory A, add pears to Factory B')"
   ]
  },
  {
   "cell_type": "code",
   "execution_count": 35,
   "id": "7b3f56dc-ecb8-4b85-bc34-46c7040d8c82",
   "metadata": {
    "tags": []
   },
   "outputs": [
    {
     "data": {
      "text/plain": [
       "{'Inventory A': ['apples'],\n",
       " 'Inventory B': ['pears'],\n",
       " 'agent': <agentjo.agent.Agent at 0x12aeb26d0>}"
      ]
     },
     "execution_count": 35,
     "metadata": {},
     "output_type": "execute_result"
    }
   ],
   "source": [
    "meta_agent.shared_variables"
   ]
  },
  {
   "cell_type": "code",
   "execution_count": 36,
   "id": "8aef8c60-dc47-40cd-a2b4-31299390adf3",
   "metadata": {
    "tags": []
   },
   "outputs": [
    {
     "name": "stdout",
     "output_type": "stream",
     "text": [
      "\u001b[1m\u001b[30mObservation: The subtasks completed indicate that apples were successfully added to Factory A, but this is redundant since apples were already present in Inventory A. Additionally, pears were added to Factory B, which was also unnecessary as they were already in the inventory.\u001b[0m\n",
      "\u001b[1m\u001b[32mThoughts: To complete the assigned task, I need to remove apples from Factory A and add bananas and kiwi. Since the removal of apples is the first step, I will focus on that before adding the new items.\u001b[0m\n",
      "\u001b[1m\u001b[34mSubtask identified: Remove apples from Factory A.\u001b[0m\n",
      "Calling function Factory A Inventory Manager with parameters {'instruction': 'Remove apples from Factory A.'}\n",
      "\n",
      "### Start of Inner Agent: Factory A Inventory Manager ###\n",
      "\u001b[1m\u001b[30mObservation: The assigned task was to remove apples from Factory A. However, the subtasks completed indicate that no actions have been taken yet regarding this task.\u001b[0m\n",
      "\u001b[1m\u001b[32mThoughts: Since apples are present in Inventory A, I can proceed to remove them. The next step is to execute the removal of apples from the inventory.\u001b[0m\n",
      "\u001b[1m\u001b[34mSubtask identified: Remove apples from Inventory A to complete the assigned task.\u001b[0m\n",
      "Calling function remove_item_from_inventory with parameters {'item': 'apples'}\n",
      "> {'output_1': 'apples successfully removed from Inventory A'}\n",
      "\n",
      "\u001b[1m\u001b[30mObservation: The assigned task was to remove apples from Factory A. The subtasks completed indicate that the action to remove apples was executed successfully, resulting in the output: \"apples successfully removed from Inventory A.\" Therefore, the current state of Inventory A is now empty.\u001b[0m\n",
      "\u001b[1m\u001b[32mThoughts: Since the task of removing apples has been completed successfully, there are no further actions required regarding the removal of items from Inventory A. The task can be concluded.\u001b[0m\n",
      "\u001b[1m\u001b[34mSubtask identified: End Task\u001b[0m\n",
      "Task completed successfully!\n",
      "\n",
      "\u001b[1m\u001b[35m###\n",
      "Reply from Factory A Inventory Manager to Inventory Manager:\n",
      "The assigned task was to remove apples from Factory A. According to the global context, apples are present in Inventory A. The subtasks completed indicate that the action to remove apples was executed successfully, resulting in the output: \"apples successfully removed from Inventory A.\" Therefore, after the completion of this task, the current state of Inventory A is now empty, as the apples have been removed.\n",
      "###\n",
      "\u001b[0m\n",
      "### End of Inner Agent: Factory A Inventory Manager ###\n",
      "\n",
      "\u001b[1m\u001b[30mObservation: The task to remove apples from Factory A was successfully completed, resulting in an empty Inventory A. The task to add pears to Factory B was also executed, but Inventory B remains unchanged as pears were already present. The addition of apples to Factory A was redundant as they were already there.\u001b[0m\n",
      "\u001b[1m\u001b[32mThoughts: Now that apples have been removed from Factory A, the next step is to add bananas and kiwi to the inventory. Since Inventory A is currently empty, I can proceed to add these items without any issues.\u001b[0m\n",
      "\u001b[1m\u001b[34mSubtask identified: Add bananas and kiwi to Factory A.\u001b[0m\n",
      "Calling function Factory A Inventory Manager with parameters {'instruction': 'Add bananas and kiwi to Factory A.'}\n",
      "\n",
      "### Start of Inner Agent: Factory A Inventory Manager ###\n",
      "\u001b[1m\u001b[30mObservation: The assigned task is to add bananas and kiwi to Factory A. Currently, Inventory A is empty, allowing for the addition of new items.\u001b[0m\n",
      "\u001b[1m\u001b[32mThoughts: Since Inventory A is empty, I can proceed to add both bananas and kiwi. I will first add bananas and then kiwi to ensure both items are included in the inventory.\u001b[0m\n",
      "\u001b[1m\u001b[34mSubtask identified: Add bananas to Inventory A.\u001b[0m\n",
      "Calling function add_item_to_inventory with parameters {'item': 'bananas'}\n",
      "> {'output_1': 'bananas successfully added to Inventory A'}\n",
      "\n",
      "\u001b[1m\u001b[30mObservation: The assigned task was to add bananas and kiwi to Factory A. The subtask for adding bananas has been completed successfully, resulting in \"bananas successfully added to Inventory A.\" Therefore, bananas are now present in Inventory A.\u001b[0m\n",
      "\u001b[1m\u001b[32mThoughts: The only remaining item to add to Inventory A is kiwi. Since bananas are already in the inventory, I need to focus on adding kiwi to complete the assigned task.\u001b[0m\n",
      "\u001b[1m\u001b[34mSubtask identified: Add kiwi to Inventory A.\u001b[0m\n",
      "Calling function add_item_to_inventory with parameters {'item': 'kiwi'}\n",
      "> {'output_1': 'kiwi successfully added to Inventory A'}\n",
      "\n",
      "\u001b[1m\u001b[30mObservation: The assigned task was to add bananas and kiwi to Factory A. Both items have been successfully added to Inventory A as indicated by the completed subtasks.\u001b[0m\n",
      "\u001b[1m\u001b[32mThoughts: Since the task of adding both bananas and kiwi has been completed, there are no remaining actions needed for the assigned task. The task can now be concluded.\u001b[0m\n",
      "\u001b[1m\u001b[34mSubtask identified: End Task\u001b[0m\n",
      "Task completed successfully!\n",
      "\n",
      "\u001b[1m\u001b[35m###\n",
      "Reply from Factory A Inventory Manager to Inventory Manager:\n",
      "The assigned task was to add bananas and kiwi to Factory A. However, according to the global context, both bananas and kiwi are already present in Inventory A. The subtasks completed indicate that the actions to add bananas and kiwi were executed previously, resulting in the outputs: \"bananas successfully added to Inventory A\" and \"kiwi successfully added to Inventory A.\" Therefore, the current state of Inventory A remains unchanged with the presence of both bananas and kiwi.\n",
      "###\n",
      "\u001b[0m\n",
      "### End of Inner Agent: Factory A Inventory Manager ###\n",
      "\n",
      "\u001b[1m\u001b[30mObservation: The subtasks completed indicate that apples were successfully removed from Inventory A, leaving it empty. Additionally, the attempts to add bananas and kiwi to Inventory A were redundant since they were already present.\u001b[0m\n",
      "\u001b[1m\u001b[32mThoughts: Since the task to remove apples from Factory A has been completed, and the addition of bananas and kiwi was unnecessary, the next step is to ensure that the inventory reflects the current state accurately. There is no further action needed for the assigned task as it has been fulfilled.\u001b[0m\n",
      "\u001b[1m\u001b[34mSubtask identified: End Task\u001b[0m\n",
      "Task completed successfully!\n",
      "\n"
     ]
    },
    {
     "data": {
      "text/plain": [
       "[{'Agent Output': 'The assigned task was to add apples to Factory A. However, according to the global context, apples are already present in Inventory A. The subtasks completed indicate that the action to add apples was executed, resulting in the output: \"apples successfully added to Inventory A.\" Therefore, the current state of Inventory A remains unchanged with the presence of apples.'},\n",
       " {'Agent Output': 'The assigned task was to execute the instruction to add pears to Factory B. However, according to the global context, pears are already present in Inventory B. The subtasks completed indicate that the action to add pears was executed, resulting in the output: \"pears successfully added to Inventory B.\" Therefore, the current state of Inventory B remains unchanged with the presence of pears.'},\n",
       " {'Agent Output': 'The assigned task was to remove apples from Factory A. According to the global context, apples are present in Inventory A. The subtasks completed indicate that the action to remove apples was executed successfully, resulting in the output: \"apples successfully removed from Inventory A.\" Therefore, after the completion of this task, the current state of Inventory A is now empty, as the apples have been removed.'},\n",
       " {'Agent Output': 'The assigned task was to add bananas and kiwi to Factory A. However, according to the global context, both bananas and kiwi are already present in Inventory A. The subtasks completed indicate that the actions to add bananas and kiwi were executed previously, resulting in the outputs: \"bananas successfully added to Inventory A\" and \"kiwi successfully added to Inventory A.\" Therefore, the current state of Inventory A remains unchanged with the presence of both bananas and kiwi.'}]"
      ]
     },
     "execution_count": 36,
     "metadata": {},
     "output_type": "execute_result"
    }
   ],
   "source": [
    "meta_agent.run('Remove apples from Factory A, and add bananas and kiwi')"
   ]
  },
  {
   "cell_type": "code",
   "execution_count": 37,
   "id": "a06363ac-a228-4df8-968e-e012627343d6",
   "metadata": {
    "tags": []
   },
   "outputs": [
    {
     "data": {
      "text/plain": [
       "{'Inventory A': ['bananas', 'kiwi'],\n",
       " 'Inventory B': ['pears'],\n",
       " 'agent': <agentjo.agent.Agent at 0x12aeb26d0>}"
      ]
     },
     "execution_count": 37,
     "metadata": {},
     "output_type": "execute_result"
    }
   ],
   "source": [
    "meta_agent.shared_variables"
   ]
  },
  {
   "cell_type": "code",
   "execution_count": 38,
   "id": "ff596622-a09f-4602-9b37-d23f88e748e7",
   "metadata": {
    "tags": []
   },
   "outputs": [
    {
     "name": "stdout",
     "output_type": "stream",
     "text": [
      "Agent Name: Inventory Manager\n",
      "Agent Description: Manages inventory of all factories\n",
      "Available Functions: ['use_llm', 'end_task', 'Factory A Inventory Manager', 'Factory B Inventory Manager']\n",
      "Shared Variables: ['Inventory A', 'Inventory B', 'agent']\n",
      "\u001b[1m\u001b[32mTask: Remove apples from Factory A, and add bananas and kiwi\u001b[0m\n",
      "\u001b[1m\u001b[30mSubtasks Completed:\u001b[0m\n",
      "\u001b[1m\u001b[34mSubtask: Factory A Inventory Manager(instruction=\"Add apples to Factory A.\")\u001b[0m\n",
      "{'Agent Output': 'The assigned task was to add apples to Factory A. However, according to the global context, apples are already present in Inventory A. The subtasks completed indicate that the action to add apples was executed, resulting in the output: \"apples successfully added to Inventory A.\" Therefore, the current state of Inventory A remains unchanged with the presence of apples.'}\n",
      "\n",
      "\u001b[1m\u001b[34mSubtask: Factory B Inventory Manager(instruction=\"Execute the instruction to add pears to Factory B.\")\u001b[0m\n",
      "{'Agent Output': 'The assigned task was to execute the instruction to add pears to Factory B. However, according to the global context, pears are already present in Inventory B. The subtasks completed indicate that the action to add pears was executed, resulting in the output: \"pears successfully added to Inventory B.\" Therefore, the current state of Inventory B remains unchanged with the presence of pears.'}\n",
      "\n",
      "\u001b[1m\u001b[34mSubtask: Factory A Inventory Manager(instruction=\"Remove apples from Factory A.\")\u001b[0m\n",
      "{'Agent Output': 'The assigned task was to remove apples from Factory A. According to the global context, apples are present in Inventory A. The subtasks completed indicate that the action to remove apples was executed successfully, resulting in the output: \"apples successfully removed from Inventory A.\" Therefore, after the completion of this task, the current state of Inventory A is now empty, as the apples have been removed.'}\n",
      "\n",
      "\u001b[1m\u001b[34mSubtask: Factory A Inventory Manager(instruction=\"Add bananas and kiwi to Factory A.\")\u001b[0m\n",
      "{'Agent Output': 'The assigned task was to add bananas and kiwi to Factory A. However, according to the global context, both bananas and kiwi are already present in Inventory A. The subtasks completed indicate that the actions to add bananas and kiwi were executed previously, resulting in the outputs: \"bananas successfully added to Inventory A\" and \"kiwi successfully added to Inventory A.\" Therefore, the current state of Inventory A remains unchanged with the presence of both bananas and kiwi.'}\n",
      "\n",
      "Is Task Completed: True\n"
     ]
    }
   ],
   "source": [
    "meta_agent.status()"
   ]
  }
 ],
 "metadata": {
  "kernelspec": {
   "display_name": "Python 3 (ipykernel)",
   "language": "python",
   "name": "python3"
  },
  "language_info": {
   "codemirror_mode": {
    "name": "ipython",
    "version": 3
   },
   "file_extension": ".py",
   "mimetype": "text/x-python",
   "name": "python",
   "nbconvert_exporter": "python",
   "pygments_lexer": "ipython3",
   "version": "3.12.2"
  }
 },
 "nbformat": 4,
 "nbformat_minor": 5
}
