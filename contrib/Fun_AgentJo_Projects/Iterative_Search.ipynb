{
 "cells": [
  {
   "cell_type": "markdown",
   "id": "7a7725fe-0bc9-4694-a4cd-76953698259d",
   "metadata": {
    "tags": []
   },
   "source": [
    "# Iterative Search\n",
    "- Created 20 Oct 2024 by John Tan Chong Min\n",
    "- Iteratively search to complete a task\n",
    "- Search can be a RAG system, or it can be searching a database/wikipedia etc."
   ]
  },
  {
   "cell_type": "code",
   "execution_count": 2,
   "id": "4cffce7e-40d0-4f55-8484-596374751ef6",
   "metadata": {
    "tags": []
   },
   "outputs": [],
   "source": [
    "from agentjo import *"
   ]
  },
  {
   "cell_type": "code",
   "execution_count": 3,
   "id": "9dfcb59c-1fe7-4d76-bb77-91fd875d0966",
   "metadata": {
    "tags": []
   },
   "outputs": [],
   "source": [
    "import os\n",
    "os.environ['OPENAI_API_KEY'] = '<YOUR API KEY HERE>'"
   ]
  },
  {
   "cell_type": "code",
   "execution_count": 5,
   "id": "69b765ff-cea4-4622-9631-14f72e397832",
   "metadata": {
    "tags": []
   },
   "outputs": [],
   "source": [
    "def llm(system_prompt: str, user_prompt: str) -> str:\n",
    "    ''' Here, we use OpenAI for illustration, you can change it to your own LLM '''\n",
    "    # ensure your LLM imports are all within this function\n",
    "    from openai import OpenAI\n",
    "    \n",
    "    # define your own LLM here\n",
    "    client = OpenAI()\n",
    "    response = client.chat.completions.create(\n",
    "        model='gpt-4o-mini',\n",
    "        temperature = 0,\n",
    "        messages=[\n",
    "            {\"role\": \"system\", \"content\": system_prompt},\n",
    "            {\"role\": \"user\", \"content\": user_prompt}\n",
    "        ]\n",
    "    )\n",
    "    return response.choices[0].message.content"
   ]
  },
  {
   "cell_type": "markdown",
   "id": "7f5f8a5d-f163-42af-93d1-affa3439777c",
   "metadata": {},
   "source": [
    "# How to do iterative searching"
   ]
  },
  {
   "cell_type": "code",
   "execution_count": 7,
   "id": "cd65e365-ced6-44de-a616-b9519c0c0403",
   "metadata": {
    "tags": []
   },
   "outputs": [],
   "source": [
    "def wikipedia_tool(search_query: str) -> str:\n",
    "    ''' Uses search_query and returns text from wikipedia. Do not include site:wikipedia.org in the search_query'''\n",
    "    from langchain.tools import WikipediaQueryRun\n",
    "    from langchain.utilities import WikipediaAPIWrapper\n",
    "\n",
    "    return WikipediaQueryRun(api_wrapper=WikipediaAPIWrapper()).run(search_query)"
   ]
  },
  {
   "cell_type": "code",
   "execution_count": 8,
   "id": "7c5698b2-0b3a-4b2e-a652-a800260452f6",
   "metadata": {
    "tags": []
   },
   "outputs": [],
   "source": [
    "agent = Agent('Question Answerer', \n",
    "              'Answers a question factually. If the search results are not good, refine search and search again',\n",
    "              llm = llm).assign_functions([wikipedia_tool])"
   ]
  },
  {
   "cell_type": "code",
   "execution_count": 9,
   "id": "a8603ef1-84bd-4980-87b8-2c39861cee38",
   "metadata": {
    "tags": []
   },
   "outputs": [
    {
     "name": "stdout",
     "output_type": "stream",
     "text": [
      "\u001b[1m\u001b[30mObservation: No subtasks have been completed yet, and I need to find the birth date of Hypólito and the birth date of Joe Biden to calculate the difference.\u001b[0m\n",
      "\u001b[1m\u001b[32mThoughts: I need to search for Hypólito's birth date first. Once I have that, I can then look up Joe Biden's birth date and calculate the difference between the two dates.\u001b[0m\n",
      "\u001b[1m\u001b[34mSubtask identified: Search for Hypólito's birth date using the Wikipedia tool.\u001b[0m\n",
      "Calling function wikipedia_tool with parameters {'search_query': 'Hypólito birth date'}\n",
      "> {'output_1': \"Page: Daniele Hypólito\\nSummary: Daniele Matias Hypólito (born 8 September 1984) is a Brazilian gymnast who competed at the 2000, 2004, 2008, 2012 and the 2016 Olympic Games. Hypólito is the first gymnast from Brazil to win a medal at the World Championships, a silver in floor exercise in 2001. She is also the nine-time senior all-around Brazilian national champion in artistic gymnastics, 2002 South American Games all-around champion and 2003 Pan American Games all-around bronze medalist. To date, Hypólito has won the Brazilian National Championships more than ten times; represented Brazil at the World Championships thirteen times, competing in every championship from 1999 to 2015, except in 2009; taken part in every edition of the Olympic Games from 2000 to 2016; and competed at five Pan American Games between 1999 and 2015.\\nShe is the sister of Diego Hypólito, the first Brazilian male gymnast to win a medal at the World Championships.\\n\\nPage: Rebeca Andrade\\nSummary: Rebeca Rodrigues de Andrade (Portuguese pronunciation: [ʁeˈbɛkɐ ʁoˈdɾiɡis dʒi ɐ̃ˈdɾadʒi]; born 8 May 1999) is a Brazilian artistic gymnast. Having won a total of six Olympic and nine World medals, she is the most decorated Brazilian and Latin American gymnast of all time, as well as the most decorated Brazilian Olympian in any discipline. In the all-around, she is the 2022 World champion, a two-time Olympic silver medalist (2020, 2024), the 2023 World silver medalist, and the 2021 Pan American champion. On vault, she is the 2020 Olympic gold medalist, the 2024 Olympic silver medalist, a two-time World Champion (2021, 2023), and the 2023 Pan American Games champion. She led the Brazilian team to its first ever team medals at the 2023 World Championships (silver) and the 2024 Olympics (bronze), as well as the gold medal at the 2021 Pan American Championships. She won the gold medal at the 2024 Olympics in the floor exercise. \\nAndrade is the first Brazilian female gymnast to medal at an Olympic Games and only the second Brazilian woman to win a gold medal at the World Artistic Gymnastics Championships. Andrade is one of only 11 female gymnasts to have medalled on every event in the history of World Championships, and one of only three gymnasts to have done so in the 21st century, alongside Simone Biles and Aliya Mustafina.\\nAt the junior level, she is the 2012 Junior Pan American champion in the all-around and on vault and floor exercise, and the 2014 Junior Pan American champion on the vault, uneven bars, and balance beam. After a successful junior career, Andrade's senior debut in 2015 was cut short by the first of three ACL tears. She returned to competition and represented Brazil at the 2016 Summer Olympics, where she placed eleventh in the all-around final. She tore her ACL for the second time in 2017, but made her World Championships debut in 2018. After her third ACL tear in 2019, Andrade represented Brazil at the 2020 Summer Olympics and at the 2021 World Championships, where she won the vault gold medal at both events.\\n\\n\\n\\nPage: List of women artistic gymnasts\\nSummary: Women artistic gymnasts are women who participate in the sport of gymnastics, specifically artistic gymnastics.  Women first competed in Gymnastics at the Summer Olympics in 1928.  This list is of those who are considered to be notable in women's artistic gymnastics.  See gymnasium (ancient Greece) for the origin of the word gymnast from gymnastikos.\"}\n",
      "\n",
      "\u001b[1m\u001b[30mObservation: I have found that Daniele Hypólito was born on 8 September 1984, but I still need to find Joe Biden's birth date to calculate the time difference between their birth dates.\u001b[0m\n",
      "\u001b[1m\u001b[32mThoughts: To complete the remainder of the task, I need to find Joe Biden's birth date, which is 20 November 1942. Once I have that information, I can calculate the difference in years, months, and days between the two dates.\u001b[0m\n",
      "\u001b[1m\u001b[34mSubtask identified: Search for Joe Biden's birth date to complete the calculation of how far away it is from Hypólito's birth date.\u001b[0m\n",
      "Calling function wikipedia_tool with parameters {'search_query': 'Joe Biden birth date'}\n",
      "> {'output_1': \"Page: Joe Biden\\nSummary: Joseph Robinette Biden Jr. (born November 20, 1942) is an American politician who has been the 46th and current president of the United States since 2021. A member of the Democratic Party, he served as the 47th vice president from 2009 to 2017 under President Barack Obama and represented Delaware in the U.S. Senate from 1973 to 2009.\\nBorn in Scranton, Pennsylvania, Biden moved with his family to Delaware in 1953. He graduated from the University of Delaware in 1965 and the Syracuse University College of Law in 1968. He was elected to the New Castle County Council in 1970 and the U.S. Senate in 1972. As a senator, Biden drafted and led the effort to pass the Violent Crime Control and Law Enforcement Act and the Violence Against Women Act. He also oversaw six U.S. Supreme Court confirmation hearings, including the contentious hearings for Robert Bork and Clarence Thomas. Biden ran unsuccessfully for the 1988 and 2008 Democratic presidential nominations. In 2008, Obama chose Biden as his running mate, and he was a close counselor to Obama during his two terms as vice president. In the 2020 presidential election, the Democratic Party nominated Biden for president. He selected Kamala Harris as his running mate, and they defeated Republican incumbents Donald Trump and Mike Pence. He became the oldest president in U.S. history and the first to serve with a female vice president.\\nAs president, Biden signed the American Rescue Plan Act in response to the COVID-19 pandemic and subsequent recession. He signed bipartisan bills on infrastructure and manufacturing. He proposed the Build Back Better Act, which failed in Congress, but aspects of which were incorporated into the Inflation Reduction Act that he signed into law in 2022. Biden appointed Ketanji Brown Jackson to the Supreme Court. He worked with congressional Republicans to resolve the 2023 debt-ceiling crisis by negotiating a deal to raise the debt ceiling. In his foreign policy, Biden restored America's membership in the Paris Agreement. He oversaw the complete withdrawal of U.S. troops from Afghanistan that ended the war in Afghanistan, leading to the collapse of the Afghan government and the Taliban seizing control. He responded to the Russian invasion of Ukraine by imposing sanctions on Russia and authorizing civilian and military aid to Ukraine. During the Israel–Hamas war, Biden condemned the actions of Hamas as terrorism, announced military support for Israel and sent limited humanitarian aid to the Gaza Strip.\\nIn April 2023, Biden announced his reelection campaign and, after the Democratic primaries, became the party's presumptive nominee in the 2024 presidential election. However, following his performance during the first presidential debate on June 27, he withdrew his candidacy in July 2024 amid concerns about his age and health, becoming the first U.S. president to decline to seek reelection after securing enough delegates to win renomination. He endorsed Vice President Harris to be the Democratic nominee.\\n\\nPage: Cabinet of Joe Biden\\nSummary: Joe Biden assumed office as president of the United States on January 20, 2021. The president has the authority to nominate members of his Cabinet to the United States Senate for confirmation under the Appointments Clause of the United States Constitution.\\nBefore confirmation and during congressional hearings, a high-level career member of an executive department heads this pre-confirmed cabinet on an acting basis. The Cabinet's creation was part of the transition of power following the 2020 presidential election.\\nIn addition to the 15 heads of executive departments, there are 10 Cabinet-level officials. Biden altered his cabinet structure, elevating the chair of the Council of Economic Advisers, director of the Office of Science and Technology Policy and ambassador to the United Nations as Cabinet-level positions. Biden initially removed the director of the Central Intelligence Agency from his Cabinet, b\"}\n",
      "\n",
      "\u001b[1m\u001b[30mObservation: I have successfully retrieved the birth dates of both Hypólito and Joe Biden. Hypólito was born on September 8, 1984, and Joe Biden was born on November 20, 1942. Now I need to calculate the time difference between these two dates.\u001b[0m\n",
      "\u001b[1m\u001b[32mThoughts: To complete the remainder of the task, I need to calculate the difference in years, months, and days between the two birth dates. This can be done by taking the two dates and performing a date calculation.\u001b[0m\n",
      "\u001b[1m\u001b[34mSubtask identified: Calculate the difference in years, months, and days between September 8, 1984, and November 20, 1942.\u001b[0m\n",
      "Getting LLM to perform the following task: Calculate the difference in years, months, and days between September 8, 1984, and November 20, 1942.\n",
      "> To calculate the difference between the birth dates of Daniele Hypólito (September 8, 1984) and Joe Biden (November 20, 1942), we first determine the years, months, and days between these two dates. \n",
      "\n",
      "1. **Years**: From 1942 to 1984 is 42 years. \n",
      "2. **Months**: From September to November is 2 months. \n",
      "3. **Days**: From the 8th to the 20th is 12 days. \n",
      "\n",
      "Thus, the total difference is 42 years, 2 months, and 12 days. This means that Daniele Hypólito was born 42 years, 2 months, and 12 days after Joe Biden.\n",
      "\n",
      "\u001b[1m\u001b[30mObservation: The birth date of Daniele Hypólito is September 8, 1984, and Joe Biden was born on November 20, 1942. The difference between their birth dates has been calculated as 42 years, 2 months, and 12 days.\u001b[0m\n",
      "\u001b[1m\u001b[32mThoughts: The Assigned Task is now complete as we have both birth dates and the calculated difference. The next step is to finalize the output and present it to the user.\u001b[0m\n",
      "\u001b[1m\u001b[34mSubtask identified: End Task\u001b[0m\n",
      "Task completed successfully!\n",
      "\n"
     ]
    },
    {
     "data": {
      "text/plain": [
       "[{'output_1': \"Page: Daniele Hypólito\\nSummary: Daniele Matias Hypólito (born 8 September 1984) is a Brazilian gymnast who competed at the 2000, 2004, 2008, 2012 and the 2016 Olympic Games. Hypólito is the first gymnast from Brazil to win a medal at the World Championships, a silver in floor exercise in 2001. She is also the nine-time senior all-around Brazilian national champion in artistic gymnastics, 2002 South American Games all-around champion and 2003 Pan American Games all-around bronze medalist. To date, Hypólito has won the Brazilian National Championships more than ten times; represented Brazil at the World Championships thirteen times, competing in every championship from 1999 to 2015, except in 2009; taken part in every edition of the Olympic Games from 2000 to 2016; and competed at five Pan American Games between 1999 and 2015.\\nShe is the sister of Diego Hypólito, the first Brazilian male gymnast to win a medal at the World Championships.\\n\\nPage: Rebeca Andrade\\nSummary: Rebeca Rodrigues de Andrade (Portuguese pronunciation: [ʁeˈbɛkɐ ʁoˈdɾiɡis dʒi ɐ̃ˈdɾadʒi]; born 8 May 1999) is a Brazilian artistic gymnast. Having won a total of six Olympic and nine World medals, she is the most decorated Brazilian and Latin American gymnast of all time, as well as the most decorated Brazilian Olympian in any discipline. In the all-around, she is the 2022 World champion, a two-time Olympic silver medalist (2020, 2024), the 2023 World silver medalist, and the 2021 Pan American champion. On vault, she is the 2020 Olympic gold medalist, the 2024 Olympic silver medalist, a two-time World Champion (2021, 2023), and the 2023 Pan American Games champion. She led the Brazilian team to its first ever team medals at the 2023 World Championships (silver) and the 2024 Olympics (bronze), as well as the gold medal at the 2021 Pan American Championships. She won the gold medal at the 2024 Olympics in the floor exercise. \\nAndrade is the first Brazilian female gymnast to medal at an Olympic Games and only the second Brazilian woman to win a gold medal at the World Artistic Gymnastics Championships. Andrade is one of only 11 female gymnasts to have medalled on every event in the history of World Championships, and one of only three gymnasts to have done so in the 21st century, alongside Simone Biles and Aliya Mustafina.\\nAt the junior level, she is the 2012 Junior Pan American champion in the all-around and on vault and floor exercise, and the 2014 Junior Pan American champion on the vault, uneven bars, and balance beam. After a successful junior career, Andrade's senior debut in 2015 was cut short by the first of three ACL tears. She returned to competition and represented Brazil at the 2016 Summer Olympics, where she placed eleventh in the all-around final. She tore her ACL for the second time in 2017, but made her World Championships debut in 2018. After her third ACL tear in 2019, Andrade represented Brazil at the 2020 Summer Olympics and at the 2021 World Championships, where she won the vault gold medal at both events.\\n\\n\\n\\nPage: List of women artistic gymnasts\\nSummary: Women artistic gymnasts are women who participate in the sport of gymnastics, specifically artistic gymnastics.  Women first competed in Gymnastics at the Summer Olympics in 1928.  This list is of those who are considered to be notable in women's artistic gymnastics.  See gymnasium (ancient Greece) for the origin of the word gymnast from gymnastikos.\"},\n",
       " {'output_1': \"Page: Joe Biden\\nSummary: Joseph Robinette Biden Jr. (born November 20, 1942) is an American politician who has been the 46th and current president of the United States since 2021. A member of the Democratic Party, he served as the 47th vice president from 2009 to 2017 under President Barack Obama and represented Delaware in the U.S. Senate from 1973 to 2009.\\nBorn in Scranton, Pennsylvania, Biden moved with his family to Delaware in 1953. He graduated from the University of Delaware in 1965 and the Syracuse University College of Law in 1968. He was elected to the New Castle County Council in 1970 and the U.S. Senate in 1972. As a senator, Biden drafted and led the effort to pass the Violent Crime Control and Law Enforcement Act and the Violence Against Women Act. He also oversaw six U.S. Supreme Court confirmation hearings, including the contentious hearings for Robert Bork and Clarence Thomas. Biden ran unsuccessfully for the 1988 and 2008 Democratic presidential nominations. In 2008, Obama chose Biden as his running mate, and he was a close counselor to Obama during his two terms as vice president. In the 2020 presidential election, the Democratic Party nominated Biden for president. He selected Kamala Harris as his running mate, and they defeated Republican incumbents Donald Trump and Mike Pence. He became the oldest president in U.S. history and the first to serve with a female vice president.\\nAs president, Biden signed the American Rescue Plan Act in response to the COVID-19 pandemic and subsequent recession. He signed bipartisan bills on infrastructure and manufacturing. He proposed the Build Back Better Act, which failed in Congress, but aspects of which were incorporated into the Inflation Reduction Act that he signed into law in 2022. Biden appointed Ketanji Brown Jackson to the Supreme Court. He worked with congressional Republicans to resolve the 2023 debt-ceiling crisis by negotiating a deal to raise the debt ceiling. In his foreign policy, Biden restored America's membership in the Paris Agreement. He oversaw the complete withdrawal of U.S. troops from Afghanistan that ended the war in Afghanistan, leading to the collapse of the Afghan government and the Taliban seizing control. He responded to the Russian invasion of Ukraine by imposing sanctions on Russia and authorizing civilian and military aid to Ukraine. During the Israel–Hamas war, Biden condemned the actions of Hamas as terrorism, announced military support for Israel and sent limited humanitarian aid to the Gaza Strip.\\nIn April 2023, Biden announced his reelection campaign and, after the Democratic primaries, became the party's presumptive nominee in the 2024 presidential election. However, following his performance during the first presidential debate on June 27, he withdrew his candidacy in July 2024 amid concerns about his age and health, becoming the first U.S. president to decline to seek reelection after securing enough delegates to win renomination. He endorsed Vice President Harris to be the Democratic nominee.\\n\\nPage: Cabinet of Joe Biden\\nSummary: Joe Biden assumed office as president of the United States on January 20, 2021. The president has the authority to nominate members of his Cabinet to the United States Senate for confirmation under the Appointments Clause of the United States Constitution.\\nBefore confirmation and during congressional hearings, a high-level career member of an executive department heads this pre-confirmed cabinet on an acting basis. The Cabinet's creation was part of the transition of power following the 2020 presidential election.\\nIn addition to the 15 heads of executive departments, there are 10 Cabinet-level officials. Biden altered his cabinet structure, elevating the chair of the Council of Economic Advisers, director of the Office of Science and Technology Policy and ambassador to the United Nations as Cabinet-level positions. Biden initially removed the director of the Central Intelligence Agency from his Cabinet, b\"},\n",
       " 'To calculate the difference between the birth dates of Daniele Hypólito (September 8, 1984) and Joe Biden (November 20, 1942), we first determine the years, months, and days between these two dates. \\n\\n1. **Years**: From 1942 to 1984 is 42 years. \\n2. **Months**: From September to November is 2 months. \\n3. **Days**: From the 8th to the 20th is 12 days. \\n\\nThus, the total difference is 42 years, 2 months, and 12 days. This means that Daniele Hypólito was born 42 years, 2 months, and 12 days after Joe Biden.']"
      ]
     },
     "execution_count": 9,
     "metadata": {},
     "output_type": "execute_result"
    }
   ],
   "source": [
    "agent.run(\"What is Hypólito's birth date and how far away is it from Joe Biden's?\")"
   ]
  },
  {
   "cell_type": "code",
   "execution_count": 10,
   "id": "d841ad84-9994-489d-8acd-c6993b98d212",
   "metadata": {
    "tags": []
   },
   "outputs": [
    {
     "name": "stdout",
     "output_type": "stream",
     "text": [
      "Daniele Hypólito was born on September 8, 1984. Joe Biden was born on November 20, 1942. To calculate the difference between their birth dates:\n",
      "\n",
      "1. **Years**: From 1942 to 1984 is 42 years.\n",
      "2. **Months**: From September to November is 2 months.\n",
      "3. **Days**: From the 8th to the 20th is 12 days.\n",
      "\n",
      "Therefore, the total difference between their birth dates is 42 years, 2 months, and 12 days. This indicates that Daniele Hypólito was born 42 years, 2 months, and 12 days after Joe Biden.\n"
     ]
    },
    {
     "data": {
      "text/plain": [
       "'Daniele Hypólito was born on September 8, 1984. Joe Biden was born on November 20, 1942. To calculate the difference between their birth dates:\\n\\n1. **Years**: From 1942 to 1984 is 42 years.\\n2. **Months**: From September to November is 2 months.\\n3. **Days**: From the 8th to the 20th is 12 days.\\n\\nTherefore, the total difference between their birth dates is 42 years, 2 months, and 12 days. This indicates that Daniele Hypólito was born 42 years, 2 months, and 12 days after Joe Biden.'"
      ]
     },
     "execution_count": 10,
     "metadata": {},
     "output_type": "execute_result"
    }
   ],
   "source": [
    "agent.reply_user()"
   ]
  },
  {
   "cell_type": "code",
   "execution_count": 11,
   "id": "bcaa46e0-df79-4287-9f9d-134206223e25",
   "metadata": {
    "tags": []
   },
   "outputs": [
    {
     "name": "stdout",
     "output_type": "stream",
     "text": [
      "Daniele Hypólito was born on September 8, 1984. Joe Biden was born on November 20, 1942. The difference between their birth dates is 42 years, 2 months, and 12 days. This means that Daniele Hypólito was born 42 years, 2 months, and 12 days after Joe Biden.\n"
     ]
    },
    {
     "data": {
      "text/plain": [
       "'Daniele Hypólito was born on September 8, 1984. Joe Biden was born on November 20, 1942. The difference between their birth dates is 42 years, 2 months, and 12 days. This means that Daniele Hypólito was born 42 years, 2 months, and 12 days after Joe Biden.'"
      ]
     },
     "execution_count": 11,
     "metadata": {},
     "output_type": "execute_result"
    }
   ],
   "source": [
    "agent.reply_user(\"Reply only the answer without explanation\")"
   ]
  }
 ],
 "metadata": {
  "kernelspec": {
   "display_name": "Python 3 (ipykernel)",
   "language": "python",
   "name": "python3"
  },
  "language_info": {
   "codemirror_mode": {
    "name": "ipython",
    "version": 3
   },
   "file_extension": ".py",
   "mimetype": "text/x-python",
   "name": "python",
   "nbconvert_exporter": "python",
   "pygments_lexer": "ipython3",
   "version": "3.11.3"
  }
 },
 "nbformat": 4,
 "nbformat_minor": 5
}
