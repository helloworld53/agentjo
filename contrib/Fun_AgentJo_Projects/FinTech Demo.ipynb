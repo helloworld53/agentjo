{
 "cells": [
  {
   "cell_type": "markdown",
   "id": "797c8fd4-09a9-434f-bc98-c2bce6d2f951",
   "metadata": {
    "tags": []
   },
   "source": [
    "# FinTech Demo\n",
    "\n",
    "- Showcases how LLM pipelines can be done easily\n",
    "- Created 2 Nov 2024 by John Tan Chong Min\n",
    "- Modified 3 Dec for better citations\n",
    "\n",
    "It has:\n",
    "- strict_json to extract information from webpage\n",
    "- citation from pdf with sources cited\n",
    "- multi-step agentic retrieval augmented generation (RAG)"
   ]
  },
  {
   "cell_type": "code",
   "execution_count": 1,
   "id": "4cffce7e-40d0-4f55-8484-596374751ef6",
   "metadata": {
    "tags": []
   },
   "outputs": [],
   "source": [
    "from agentjo import *"
   ]
  },
  {
   "cell_type": "code",
   "execution_count": 2,
   "id": "ed2527b6-d54d-4243-a9a1-856dd88136f7",
   "metadata": {
    "tags": []
   },
   "outputs": [],
   "source": [
    "import os\n",
    "os.environ['OPENAI_API_KEY'] = '<YOUR API KEY HERE>'"
   ]
  },
  {
   "cell_type": "code",
   "execution_count": 4,
   "id": "b155419b-b332-462b-971d-9e600f25063c",
   "metadata": {
    "tags": []
   },
   "outputs": [],
   "source": [
    "def llm(system_prompt: str, user_prompt: str) -> str:\n",
    "    ''' Here, we use OpenAI for illustration, you can change it to your own LLM '''\n",
    "    # ensure your LLM imports are all within this function\n",
    "    from openai import OpenAI\n",
    "    \n",
    "    # define your own LLM here\n",
    "    client = OpenAI()\n",
    "    response = client.chat.completions.create(\n",
    "        model='gpt-4o-mini',\n",
    "        temperature = 0,\n",
    "        messages=[\n",
    "            {\"role\": \"system\", \"content\": system_prompt},\n",
    "            {\"role\": \"user\", \"content\": user_prompt}\n",
    "        ]\n",
    "    )\n",
    "    return response.choices[0].message.content"
   ]
  },
  {
   "cell_type": "code",
   "execution_count": 5,
   "id": "3857009a-9140-495c-b151-f80685a5a451",
   "metadata": {
    "tags": []
   },
   "outputs": [
    {
     "data": {
      "text/plain": [
       "'Sure! Here are five names:\\n\\n1. Olivia\\n2. Ethan\\n3. Sophia\\n4. Liam\\n5. Ava\\n\\nLet me know if you need more names or specific types!'"
      ]
     },
     "execution_count": 5,
     "metadata": {},
     "output_type": "execute_result"
    }
   ],
   "source": [
    "llm('You are a friendly assistant', 'Give me 5 names')"
   ]
  },
  {
   "cell_type": "markdown",
   "id": "6493f50a-96a7-43dd-808e-80783e9a7a82",
   "metadata": {
    "tags": []
   },
   "source": [
    "# StrictJSON\n",
    "- Website: https://www.straitstimes.com/business/mas-sets-up-new-not-for-profit-firm-as-it-seeks-to-extend-reach-to-global-fintech-sector"
   ]
  },
  {
   "cell_type": "code",
   "execution_count": 6,
   "id": "07f1fad1-002f-4451-9946-e2e55f4c8075",
   "metadata": {
    "tags": []
   },
   "outputs": [],
   "source": [
    "text = '''SINGAPORE – The Monetary Authority of Singapore (MAS) has set up a new not-for-profit firm focusing on fintech as it moves to expand its network globally.\n",
    "\n",
    "The new company, called the Global Finance & Technology Network (GFTN), has four business lines – to organise fintech conferences, provide advisory and research services, provide digital platform services to small and medium-sized enterprises, and grow an investment fund for technology start-ups.\n",
    "\n",
    "MAS’ not-for-profit entity Elevandi, which was set up in 2021 to advance fintech in the global digital economy, will be folded into the new firm.\n",
    "\n",
    "“Through the connectivity to Singapore because we are Singapore-based... all our connections will come to Singapore. That benefits the Singapore fintech ecosystem,” said Mr Menon, who is now Singapore’s Ambassador for Climate Action and senior adviser to the National Climate Change Secretariat in the Prime Minister’s Office.\n",
    "\n",
    "He said that GFTN will strive to be self-sustaining, like Elevandi was, adding that he expects GFTN to break even in three to five years’ time. But before GFTN can sustain itself, MAS will provide seed funding of an undisclosed amount.\n",
    "\n",
    "The first order of business for the team is for the board to spend the next few months refining strategies and setting goals for each year in the next five years.\n",
    "\n",
    "As for its investment fund business, it will be a subsidiary of the new company.\n",
    "\n",
    "The funds will come from limited partners or third-party sources that GFTN attracts around the world. This subsidiary will apply for a licence from MAS.\n",
    "\n",
    "GFTN’s advisory business will focus on emerging markets from Africa to South-east Asia.\n",
    "\n",
    "Mr Menon said he is chairing GFTN because his “interest in technology continues”.\n",
    "\n",
    "“It’s simply because of what I used to do in MAS and the connections I had there and so on,” he said.\n",
    "\n",
    "“Both (sustainability and innovation) are actually issues that are very close to my heart... the planet and people,” he added.\n",
    "\n",
    "And as a retiree, he has “a little bit of bandwidth, so I can also do this”.\n",
    "\n",
    "Both MAS deputy managing director Leong Sing Chiong and Nominated MP Neil Parekh, who is also non-executive chairman of Tikehau Capital, have been appointed GFTN’s deputy chairmen. \n",
    "\n",
    "GFTN’s group chief executive will be MAS’ current chief fintech officer Sopnendu Mohanty, who will relinquish his MAS role from Feb 1, 2025.\n",
    "\n",
    "He will continue to advise on fintech matters at MAS.\n",
    "\n",
    "Mr Kenneth Gay, currently an executive director heading MAS’ enterprise knowledge department, will take over as the new head of fintech at the authority on Feb 1.'''"
   ]
  },
  {
   "cell_type": "code",
   "execution_count": 7,
   "id": "d8c64c60-5bc3-48dd-bceb-2848ac971461",
   "metadata": {
    "tags": []
   },
   "outputs": [],
   "source": [
    "res = strict_json(\"Summarise and give the sentiment for the text\",\n",
    "                  text,\n",
    "                  output_format = {\"Summary\": \"Summarise in three words\",\n",
    "                                   \"Sentiment\": \"type: Enum['Positive', 'Negative', 'Neutral']\",\n",
    "                                   \"People involved\": \"list in alphabetic order, type: list\",\n",
    "                                   \"Names of corporations\": \"list in alphabetic order, type: list\"},\n",
    "                  llm = llm)"
   ]
  },
  {
   "cell_type": "code",
   "execution_count": 8,
   "id": "c6609a1a-fde3-4509-bbb9-b918be79b5ad",
   "metadata": {},
   "outputs": [
    {
     "data": {
      "text/plain": [
       "{'Summary': 'Fintech network established',\n",
       " 'Sentiment': 'Positive',\n",
       " 'People involved': ['Kenneth Gay',\n",
       "  'Leong Sing Chiong',\n",
       "  'Menon',\n",
       "  'Neil Parekh',\n",
       "  'Sopnendu Mohanty'],\n",
       " 'Names of corporations': ['Global Finance & Technology Network',\n",
       "  'Monetary Authority of Singapore',\n",
       "  'Tikehau Capital']}"
      ]
     },
     "execution_count": 8,
     "metadata": {},
     "output_type": "execute_result"
    }
   ],
   "source": [
    "res"
   ]
  },
  {
   "cell_type": "code",
   "execution_count": 9,
   "id": "a1fac9df-eda0-4d4d-afaf-d0e6a61d22f9",
   "metadata": {
    "tags": []
   },
   "outputs": [
    {
     "data": {
      "text/plain": [
       "['Kenneth Gay',\n",
       " 'Leong Sing Chiong',\n",
       " 'Menon',\n",
       " 'Neil Parekh',\n",
       " 'Sopnendu Mohanty']"
      ]
     },
     "execution_count": 9,
     "metadata": {},
     "output_type": "execute_result"
    }
   ],
   "source": [
    "res['People involved']"
   ]
  },
  {
   "cell_type": "markdown",
   "id": "76a0ac7f-b1ae-4ff3-92b7-a8d2361f6f2e",
   "metadata": {},
   "source": [
    "# Memory from File\n",
    "- Download pdf from https://www.mckinsey.com/industries/financial-services/our-insights/global-payments-in-2024-simpler-interfaces-complex-reality?cid=soc-web#/"
   ]
  },
  {
   "cell_type": "code",
   "execution_count": 10,
   "id": "55003007-af20-4c6f-ba50-16cb9def3659",
   "metadata": {
    "tags": []
   },
   "outputs": [],
   "source": [
    "memory = Memory()\n",
    "memory.add_file('Global payments in 2024 - Mc Kinsey report.pdf')"
   ]
  },
  {
   "cell_type": "code",
   "execution_count": 11,
   "id": "30bb5f60-757e-4665-a140-5c39a2bb38ed",
   "metadata": {
    "tags": []
   },
   "outputs": [
    {
     "data": {
      "text/plain": [
       "['The 2024 McKinsey Global Payments Report\\nGlobal payments in 2024: \\nSimpler interfaces,  \\ncomplex reality \\nOctober 2024\\nThe 2024 McKinsey Global Payments Report\\nGlobal payments in 2024: \\nSimpler interfaces,  \\ncomplex reality\\nBy Philip Bruno and Uzayr Jeenah,\\nwith Amit Gandhi and Inês Gancho\\nThe tantalizing vision for global payments has long been that they’d be safe, simple, quick, inexpensive, and',\n",
       " 'ubiquitous. This promise has come closer with each new technological advance. However, instant payment \\nsystems have ushered in the Decoupled Era, a term coined in last year’s Global Payments Report.1 In this new \\nworld, while payments are getting quicker, they are increasingly disconnected from accounts, and players \\nhave proliferated, fragmenting the value chain, increasing complexity, and endangering the vision',\n",
       " '.\\nWith $1.8 quadrillion flows in global payments annually, even small shifts in how payments are delivered \\ncan reshape not just companies but entire sectors of the economy. For example, digital wallets and online \\npayment methods have boosted online shopping, and more efficient payment systems have helped streamline \\nsupply chain operations and improved businesses’ cash flows.2 \\nThis year’s report examines the evolving global payments ecosystem and highlights where players can',\n",
       " 'capitalize on new dynamics. Our analysis is based primarily on McKinsey’s Global Payments Map,3 which \\ncovers more than 25 payment products in 48 countries and accounts for more than 90 percent of global GDP',\n",
       " '.\\nWe start by examining the overall payments industry, how it has grown, and the rate at which that growth can \\nbe expected to continue. Then, we look at six trends shaping the industry over the next several years. Lastly, \\nwe describe three areas where operators and disrupters will want to invest to be well positioned over the next \\nfew years. \\nHighlights include the forecast that total payments revenues will grow 5 percent a year from 2023 to 2028,']"
      ]
     },
     "execution_count": 11,
     "metadata": {},
     "output_type": "execute_result"
    }
   ],
   "source": [
    "memory.top_k = 3\n",
    "memory.memory[:5]"
   ]
  },
  {
   "cell_type": "markdown",
   "id": "acbe4504-309d-49a3-8f83-21e078513ad5",
   "metadata": {
    "tags": []
   },
   "source": [
    "## Write an answer according to citation"
   ]
  },
  {
   "cell_type": "code",
   "execution_count": 12,
   "id": "5d16601c-6721-4e08-87cb-38a16168b164",
   "metadata": {
    "tags": []
   },
   "outputs": [],
   "source": [
    "question = 'How many transactions did the global payments industry handle in 2023?'\n",
    "mem = memory.retrieve(question)"
   ]
  },
  {
   "cell_type": "code",
   "execution_count": 13,
   "id": "d8912572-5b30-4026-b252-a869328b7c15",
   "metadata": {
    "tags": []
   },
   "outputs": [],
   "source": [
    "# add in citation numbers\n",
    "for i in range(len(mem)):\n",
    "    mem[i] = f'[{i+1}] '+ mem[i]"
   ]
  },
  {
   "cell_type": "code",
   "execution_count": 14,
   "id": "89eb9fe2-cea7-4153-80f0-cf3bfb03c26f",
   "metadata": {
    "tags": []
   },
   "outputs": [
    {
     "data": {
      "text/plain": [
       "['[1] .\\nGlobal payments revenues will continue to grow\\nIn 2023, the global payments industry handled 3.4 trillion transactions, accounting for $1.8 quadrillion in \\nvalue and a revenue pool of $2.4 trillion. Revenues grew 7 percent annually from 2018 to 2023, supported by \\ncontinued consumer and commercial transaction digitization and higher interest rates. Our analysis suggests \\nrevenue growth will be slower in the next few years at 5 percent a year, in line with expected nominal GDP',\n",
       " '[2] .\\n3  “Global Payments Map,” McKinsey, accessed October 2024.In 2023, the global payments industry handled  \\n3.4 trillion transactions  \\nGlobal payments in 2024: Simpler interfaces, complex reality 2\\nNet interest income contributes approximately 47 percent to the total payments revenue pool. This represents \\na three-percentage-point share increase from 2021, a year marked by historically low interest rates in most \\nmarkets',\n",
       " '[3] 3 Global payments in 2024: Simpler interfaces, complex reality\\nThe global payments revenue pool remains robust and promising. It grew 11 percent in 2023, propelled by a \\nspike in interest rates, and generated more than $2.4 trillion—an all-time high in line with the projections in \\nlast year’s report. Revenue growth was broadly distributed; Europe, the Middle East, and Africa (EMEA) and']"
      ]
     },
     "execution_count": 14,
     "metadata": {},
     "output_type": "execute_result"
    }
   ],
   "source": [
    "mem"
   ]
  },
  {
   "cell_type": "code",
   "execution_count": 15,
   "id": "47bec05b-873b-4ddb-b619-01561da7dbef",
   "metadata": {
    "tags": []
   },
   "outputs": [],
   "source": [
    "res = strict_json(f'''Write an answer to the question and cite the sources according to number. \n",
    "Answer only according to the references, output no info if references are not relevant\n",
    "Use the references [1], [2], [3]: \n",
    "{question}''',\n",
    "                  mem,\n",
    "                  output_format = {'Answer': 'Answer with the references, type: str'},\n",
    "                  llm = llm)"
   ]
  },
  {
   "cell_type": "code",
   "execution_count": 16,
   "id": "28e8777f-b424-4fdc-a4f3-2f3eeccd67de",
   "metadata": {
    "tags": []
   },
   "outputs": [
    {
     "data": {
      "text/plain": [
       "{'Answer': 'In 2023, the global payments industry handled 3.4 trillion transactions [1][2].'}"
      ]
     },
     "execution_count": 16,
     "metadata": {},
     "output_type": "execute_result"
    }
   ],
   "source": [
    "res"
   ]
  },
  {
   "cell_type": "markdown",
   "id": "b85ad6e3-f47c-4aac-89ab-1e0d4543dd6b",
   "metadata": {},
   "source": [
    "# Agent with Memory function"
   ]
  },
  {
   "cell_type": "code",
   "execution_count": 17,
   "id": "d1505722-ffab-485d-9d46-32b66f6b1475",
   "metadata": {
    "tags": []
   },
   "outputs": [],
   "source": [
    "def get_knowledge(query: str) -> str:\n",
    "    ''' Retrieves relevant information according to query '''\n",
    "    mem = memory.retrieve(query)\n",
    "    # add in citation numbers\n",
    "    for i in range(len(mem)):\n",
    "        mem[i] = f'[{i+1}] '+ mem[i]\n",
    "    res = strict_json(f'''Write an answer to the question and cite the sources according to number. \n",
    "Answer only according to the references, output no info if references are not relevant\n",
    "Use the references [1], [2], [3]: \n",
    "{query}?''',\n",
    "              mem,\n",
    "              output_format = {'Answer': 'Answer with the references, type: str'},\n",
    "              llm = llm)\n",
    "    return 'Answer: '+ res['Answer'] + '\\n\\nSources:\\n' + str(mem)"
   ]
  },
  {
   "cell_type": "code",
   "execution_count": 18,
   "id": "a3c98929-1ef3-499d-8463-1688c8e3d552",
   "metadata": {
    "tags": []
   },
   "outputs": [],
   "source": [
    "agent = Agent('Question Answerer', \n",
    "              'Answers questions factually based on retrieved knowledge. You should split the query into multiple parts and query separately',\n",
    "              default_to_llm = False,\n",
    "              llm = llm).assign_functions([get_knowledge])"
   ]
  },
  {
   "cell_type": "code",
   "execution_count": 19,
   "id": "446df629-ef12-4f01-86b2-8ca85f2e5d4e",
   "metadata": {
    "tags": []
   },
   "outputs": [
    {
     "name": "stdout",
     "output_type": "stream",
     "text": [
      "Name: end_task\n",
      "Description: Passes the final output to the user\n",
      "Input: []\n",
      "Output: {}\n",
      "\n",
      "Name: get_knowledge\n",
      "Description:  Retrieves relevant information according to <query: str> \n",
      "Input: ['query']\n",
      "Output: {'output_1': 'str'}\n",
      "\n"
     ]
    }
   ],
   "source": [
    "agent.print_functions()"
   ]
  },
  {
   "cell_type": "code",
   "execution_count": 54,
   "id": "b41c6c45-224d-4f3f-953c-f3149dc179f0",
   "metadata": {
    "tags": []
   },
   "outputs": [
    {
     "name": "stdout",
     "output_type": "stream",
     "text": [
      "\u001b[1m\u001b[30mObservation: No subtasks have been completed yet for the assigned task regarding the number of transactions in the global payments industry for 2023.\u001b[0m\n",
      "\u001b[1m\u001b[32mThoughts: To complete the assigned task, I need to retrieve relevant information about the number of transactions handled by the global payments industry in 2023. This can be done by querying the appropriate data source.\u001b[0m\n",
      "\u001b[1m\u001b[34mSubtask identified: Query the knowledge base for the number of transactions the global payments industry handled in 2023.\u001b[0m\n",
      "Calling function get_knowledge with parameters {'query': 'number of transactions the global payments industry handled in 2023'}\n",
      "> {'output_1': \"Answer: In 2023, the global payments industry handled 3.4 trillion transactions [1][2].\\n\\nSources:\\n['[1] .\\\\nGlobal payments revenues will continue to grow\\\\nIn 2023, the global payments industry handled 3.4 trillion transactions, accounting for $1.8 quadrillion in \\\\nvalue and a revenue pool of $2.4 trillion. Revenues grew 7 percent annually from 2018 to 2023, supported by \\\\ncontinued consumer and commercial transaction digitization and higher interest rates. Our analysis suggests \\\\nrevenue growth will be slower in the next few years at 5 percent a year, in line with expected nominal GDP', '[2] .\\\\n3  “Global Payments Map,” McKinsey, accessed October 2024.In 2023, the global payments industry handled  \\\\n3.4 trillion transactions  \\\\nGlobal payments in 2024: Simpler interfaces, complex reality 2\\\\nNet interest income contributes approximately 47 percent to the total payments revenue pool. This represents \\\\na three-percentage-point share increase from 2021, a year marked by historically low interest rates in most \\\\nmarkets', '[3] 3 Global payments in 2024: Simpler interfaces, complex reality\\\\nThe global payments revenue pool remains robust and promising. It grew 11 percent in 2023, propelled by a \\\\nspike in interest rates, and generated more than $2.4 trillion—an all-time high in line with the projections in \\\\nlast year’s report. Revenue growth was broadly distributed; Europe, the Middle East, and Africa (EMEA) and']\"}\n",
      "\n",
      "\u001b[1m\u001b[30mObservation: The query regarding the number of transactions handled by the global payments industry in 2023 has been successfully answered, revealing that there were 3.4 trillion transactions.\u001b[0m\n",
      "\u001b[1m\u001b[32mThoughts: Since the main question has been answered, the next step is to summarize the findings and present the final output to the user.\u001b[0m\n",
      "\u001b[1m\u001b[34mSubtask identified: End Task\u001b[0m\n",
      "Task completed successfully!\n",
      "\n"
     ]
    }
   ],
   "source": [
    "agent.reset()\n",
    "output = agent.run('What is the number of transactions the global payments industry handled in 2023?')"
   ]
  },
  {
   "cell_type": "code",
   "execution_count": 55,
   "id": "d0b4ab74-661b-4ece-bb5d-6a48b731d1f3",
   "metadata": {
    "tags": []
   },
   "outputs": [
    {
     "name": "stdout",
     "output_type": "stream",
     "text": [
      "Answer: In 2023, the global payments industry handled 3.4 trillion transactions [1][2].\n",
      "\n",
      "Sources:\n",
      "[1] .\\\n",
      "Global payments revenues will continue to grow\\\n",
      "In 2023, the global payments industry handled 3.4 trillion transactions, accounting for $1.8 quadrillion in \\\n",
      "value and a revenue pool of $2.4 trillion. Revenues grew 7 percent annually from 2018 to 2023, supported by \\\n",
      "continued consumer and commercial transaction digitization and higher interest rates. Our analysis suggests \\\n",
      "revenue growth will be slower in the next few years at 5 percent a year, in line with expected nominal GDP\n",
      "[2] .\\\n",
      "3  “Global Payments Map,” McKinsey, accessed October 2024.In 2023, the global payments industry handled  \\\n",
      "3.4 trillion transactions  \\\n",
      "Global payments in 2024: Simpler interfaces, complex reality 2\\\n",
      "Net interest income contributes approximately 47 percent to the total payments revenue pool. This represents \\\n",
      "a three-percentage-point share increase from 2021, a year marked by historically low interest rates in most \\\n",
      "markets.\n"
     ]
    }
   ],
   "source": [
    "output = agent.reply_user('''Reply in the following format: \n",
    "Answer: <answer with in-linne citation of relevant sources with [x], where x is a number>\n",
    "Sources: <only display relevant sources stated in answer separated by newline. Display the full source>''')"
   ]
  },
  {
   "cell_type": "code",
   "execution_count": 56,
   "id": "c4fc2292-1cf9-4d9a-a9e1-6cad1242e73e",
   "metadata": {
    "tags": []
   },
   "outputs": [
    {
     "name": "stdout",
     "output_type": "stream",
     "text": [
      "Agent Name: Question Answerer\n",
      "Agent Description: Answers questions factually based on retrieved knowledge. You should split the query into multiple parts and query separately\n",
      "Available Functions: ['end_task', 'get_knowledge']\n",
      "Shared Variables: ['agent']\n",
      "\u001b[1m\u001b[32mTask: What is the number of transactions the global payments industry handled in 2023?\u001b[0m\n",
      "\u001b[1m\u001b[30mSubtasks Completed:\u001b[0m\n",
      "\u001b[1m\u001b[34mSubtask: get_knowledge(query=\"number of transactions the global payments industry handled in 2023\")\u001b[0m\n",
      "{'output_1': \"Answer: In 2023, the global payments industry handled 3.4 trillion transactions [1][2].\\n\\nSources:\\n['[1] .\\\\nGlobal payments revenues will continue to grow\\\\nIn 2023, the global payments industry handled 3.4 trillion transactions, accounting for $1.8 quadrillion in \\\\nvalue and a revenue pool of $2.4 trillion. Revenues grew 7 percent annually from 2018 to 2023, supported by \\\\ncontinued consumer and commercial transaction digitization and higher interest rates. Our analysis suggests \\\\nrevenue growth will be slower in the next few years at 5 percent a year, in line with expected nominal GDP', '[2] .\\\\n3  “Global Payments Map,” McKinsey, accessed October 2024.In 2023, the global payments industry handled  \\\\n3.4 trillion transactions  \\\\nGlobal payments in 2024: Simpler interfaces, complex reality 2\\\\nNet interest income contributes approximately 47 percent to the total payments revenue pool. This represents \\\\na three-percentage-point share increase from 2021, a year marked by historically low interest rates in most \\\\nmarkets', '[3] 3 Global payments in 2024: Simpler interfaces, complex reality\\\\nThe global payments revenue pool remains robust and promising. It grew 11 percent in 2023, propelled by a \\\\nspike in interest rates, and generated more than $2.4 trillion—an all-time high in line with the projections in \\\\nlast year’s report. Revenue growth was broadly distributed; Europe, the Middle East, and Africa (EMEA) and']\"}\n",
      "\n",
      "\u001b[1m\u001b[34mSubtask: Reply in the following format: \n",
      "Answer: <answer with in-linne citation of relevant sources with [x], where x is a number>\n",
      "Sources: <only display relevant sources stated in answer separated by newline. Display the full source>\u001b[0m\n",
      "Answer: In 2023, the global payments industry handled 3.4 trillion transactions [1][2].\n",
      "\n",
      "Sources:\n",
      "[1] .\\\n",
      "Global payments revenues will continue to grow\\\n",
      "In 2023, the global payments industry handled 3.4 trillion transactions, accounting for $1.8 quadrillion in \\\n",
      "value and a revenue pool of $2.4 trillion. Revenues grew 7 percent annually from 2018 to 2023, supported by \\\n",
      "continued consumer and commercial transaction digitization and higher interest rates. Our analysis suggests \\\n",
      "revenue growth will be slower in the next few years at 5 percent a year, in line with expected nominal GDP\n",
      "[2] .\\\n",
      "3  “Global Payments Map,” McKinsey, accessed October 2024.In 2023, the global payments industry handled  \\\n",
      "3.4 trillion transactions  \\\n",
      "Global payments in 2024: Simpler interfaces, complex reality 2\\\n",
      "Net interest income contributes approximately 47 percent to the total payments revenue pool. This represents \\\n",
      "a three-percentage-point share increase from 2021, a year marked by historically low interest rates in most \\\n",
      "markets.\n",
      "\n",
      "Is Task Completed: True\n"
     ]
    }
   ],
   "source": [
    "agent.status()"
   ]
  },
  {
   "cell_type": "code",
   "execution_count": 57,
   "id": "88ddb3d7-8006-4e73-960c-0f966d63f10c",
   "metadata": {
    "tags": []
   },
   "outputs": [
    {
     "data": {
      "text/plain": [
       "[{'Observation': 'No subtasks have been completed yet for the assigned task regarding the number of transactions in the global payments industry for 2023.',\n",
       "  'Thoughts': 'To complete the assigned task, I need to retrieve relevant information about the number of transactions handled by the global payments industry in 2023. This can be done by querying the appropriate data source.',\n",
       "  'Current Subtask': 'Query the knowledge base for the number of transactions the global payments industry handled in 2023.',\n",
       "  'Equipped Function Name': 'get_knowledge',\n",
       "  'Equipped Function Inputs': {'query': 'number of transactions the global payments industry handled in 2023'}},\n",
       " {'Observation': 'The query regarding the number of transactions handled by the global payments industry in 2023 has been successfully answered, revealing that there were 3.4 trillion transactions.',\n",
       "  'Thoughts': 'Since the main question has been answered, the next step is to summarize the findings and present the final output to the user.',\n",
       "  'Current Subtask': 'Prepare the final output summarizing the number of transactions handled by the global payments industry in 2023 and any relevant context.',\n",
       "  'Equipped Function Name': 'end_task',\n",
       "  'Equipped Function Inputs': {}}]"
      ]
     },
     "execution_count": 57,
     "metadata": {},
     "output_type": "execute_result"
    }
   ],
   "source": [
    "agent.thoughts"
   ]
  },
  {
   "cell_type": "code",
   "execution_count": 58,
   "id": "7d454061-7573-4ebe-b037-31012c3e4ea7",
   "metadata": {
    "tags": []
   },
   "outputs": [
    {
     "data": {
      "text/plain": [
       "{'get_knowledge(query=\"number of transactions the global payments industry handled in 2023\")': {'output_1': \"Answer: In 2023, the global payments industry handled 3.4 trillion transactions [1][2].\\n\\nSources:\\n['[1] .\\\\nGlobal payments revenues will continue to grow\\\\nIn 2023, the global payments industry handled 3.4 trillion transactions, accounting for $1.8 quadrillion in \\\\nvalue and a revenue pool of $2.4 trillion. Revenues grew 7 percent annually from 2018 to 2023, supported by \\\\ncontinued consumer and commercial transaction digitization and higher interest rates. Our analysis suggests \\\\nrevenue growth will be slower in the next few years at 5 percent a year, in line with expected nominal GDP', '[2] .\\\\n3  “Global Payments Map,” McKinsey, accessed October 2024.In 2023, the global payments industry handled  \\\\n3.4 trillion transactions  \\\\nGlobal payments in 2024: Simpler interfaces, complex reality 2\\\\nNet interest income contributes approximately 47 percent to the total payments revenue pool. This represents \\\\na three-percentage-point share increase from 2021, a year marked by historically low interest rates in most \\\\nmarkets', '[3] 3 Global payments in 2024: Simpler interfaces, complex reality\\\\nThe global payments revenue pool remains robust and promising. It grew 11 percent in 2023, propelled by a \\\\nspike in interest rates, and generated more than $2.4 trillion—an all-time high in line with the projections in \\\\nlast year’s report. Revenue growth was broadly distributed; Europe, the Middle East, and Africa (EMEA) and']\"},\n",
       " 'Reply in the following format: \\nAnswer: <answer with in-linne citation of relevant sources with [x], where x is a number>\\nSources: <only display relevant sources stated in answer separated by newline. Display the full source>': 'Answer: In 2023, the global payments industry handled 3.4 trillion transactions [1][2].\\n\\nSources:\\n[1] .\\\\\\nGlobal payments revenues will continue to grow\\\\\\nIn 2023, the global payments industry handled 3.4 trillion transactions, accounting for $1.8 quadrillion in \\\\\\nvalue and a revenue pool of $2.4 trillion. Revenues grew 7 percent annually from 2018 to 2023, supported by \\\\\\ncontinued consumer and commercial transaction digitization and higher interest rates. Our analysis suggests \\\\\\nrevenue growth will be slower in the next few years at 5 percent a year, in line with expected nominal GDP\\n[2] .\\\\\\n3  “Global Payments Map,” McKinsey, accessed October 2024.In 2023, the global payments industry handled  \\\\\\n3.4 trillion transactions  \\\\\\nGlobal payments in 2024: Simpler interfaces, complex reality 2\\\\\\nNet interest income contributes approximately 47 percent to the total payments revenue pool. This represents \\\\\\na three-percentage-point share increase from 2021, a year marked by historically low interest rates in most \\\\\\nmarkets.'}"
      ]
     },
     "execution_count": 58,
     "metadata": {},
     "output_type": "execute_result"
    }
   ],
   "source": [
    "agent.subtasks_completed"
   ]
  },
  {
   "cell_type": "markdown",
   "id": "9349b7c4-74bb-4108-9a8f-9522b8c7dcf2",
   "metadata": {},
   "source": [
    "# Multi-step retrieval"
   ]
  },
  {
   "cell_type": "code",
   "execution_count": 36,
   "id": "e7fffd35-7005-40f6-b41b-a9aec7c64a88",
   "metadata": {
    "tags": []
   },
   "outputs": [
    {
     "name": "stdout",
     "output_type": "stream",
     "text": [
      "\u001b[1m\u001b[30mObservation: No subtasks have been completed yet, and the Assigned Task requires information on growth and its main areas.\u001b[0m\n",
      "\u001b[1m\u001b[32mThoughts: To complete the Assigned Task, I need to break down the query into two parts: one for understanding the growth amount and another for identifying the three main areas related to growth.\u001b[0m\n",
      "\u001b[1m\u001b[34mSubtask identified: Query for the amount of growth.\u001b[0m\n",
      "Calling function get_knowledge with parameters {'query': 'What is the projected amount of growth in the market for the next year?'}\n",
      "> {'output_1': \"Answer: The projected amount of growth in the market for the next year is expected to be 5 percent, continuing from the overall trend of revenue growth in the payments industry [1][2].\\n\\nSources:\\n['[1] .\\\\nWe start by examining the overall payments industry, how it has grown, and the rate at which that growth can \\\\nbe expected to continue. Then, we look at six trends shaping the industry over the next several years. Lastly, \\\\nwe describe three areas where operators and disrupters will want to invest to be well positioned over the next \\\\nfew years. \\\\nHighlights include the forecast that total payments revenues will grow 5 percent a year from 2023 to 2028,', '[2] .\\\\nGlobal payments revenues will continue to grow\\\\nIn 2023, the global payments industry handled 3.4 trillion transactions, accounting for $1.8 quadrillion in \\\\nvalue and a revenue pool of $2.4 trillion. Revenues grew 7 percent annually from 2018 to 2023, supported by \\\\ncontinued consumer and commercial transaction digitization and higher interest rates. Our analysis suggests \\\\nrevenue growth will be slower in the next few years at 5 percent a year, in line with expected nominal GDP', '[3] growth. This will result in an additional $700 billion of revenue, for a total of $3.1 trillion by the end of 2028 \\\\n(Exhibit 1). That’s 35 percent of the total banking revenue pool, a share that underlines the importance of \\\\npayments to banks and the significance of investing in payment technologies to stay ahead of competition \\\\nfrom specialist players']\"}\n",
      "\n",
      "\u001b[1m\u001b[30mObservation: The projected amount of growth in the market for the next year is expected to be 5 percent, which is part of a continuing trend in the payments industry. This information has been successfully retrieved.\u001b[0m\n",
      "\u001b[1m\u001b[32mThoughts: Now, I need to identify the three main areas to capture growth in the payments industry. This will require querying specific information about those areas.\u001b[0m\n",
      "\u001b[1m\u001b[34mSubtask identified: Query for the three main areas where operators and disrupters will want to invest to capture growth in the payments industry.\u001b[0m\n",
      "Calling function get_knowledge with parameters {'query': 'What are the three main areas where operators and disrupters will want to invest to capture growth in the payments industry?'}\n",
      "> {'output_1': \"Answer: The three main areas where operators and disrupters will want to invest to capture growth in the payments industry are: instant payments offerings in margin-rich segments, improvements to anti-money laundering processes, and investing in robust, real-time infrastructure and technology to enhance payment efficiency and fraud prevention [1][3].\\n\\nSources:\\n['[1] .\\\\nCapturing the next $1 trillion in growth\\\\nAs the payments ecosystem continues to expand, it is evolving rapidly. Customer preferences and the \\\\nregulatory environment are pushing a significant share of payments by consumers, businesses, and \\\\ncorporations to be executed in real time. \\\\nWe see three main areas where operators and disrupters will want to invest: instant payments offerings \\\\nin margin-rich segments where they have the ability to succeed; improvements to anti–money laundering', '[2] .\\\\nWe start by examining the overall payments industry, how it has grown, and the rate at which that growth can \\\\nbe expected to continue. Then, we look at six trends shaping the industry over the next several years. Lastly, \\\\nwe describe three areas where operators and disrupters will want to invest to be well positioned over the next \\\\nfew years. \\\\nHighlights include the forecast that total payments revenues will grow 5 percent a year from 2023 to 2028,', '[3] .\\\\nInvesting in the next generation of payments infrastructure and technology \\\\nRegulators are intensifying their demands for faster, more efficient payment processes that maintain low \\\\ncosts for consumers and businesses. In addition to accounting for the evolving customer preference for a \\\\nseamless experience, the continuous appearance of new payment methods, and the need to strengthen \\\\nfraud prevention, companies will need to invest in robust, real-time infrastructure and technology to']\"}\n",
      "\n",
      "\u001b[1m\u001b[30mObservation: The projected growth in the market for the next year is expected to be 5 percent, and the three main areas to capture this growth are instant payments offerings, improvements to anti-money laundering processes, and investing in robust, real-time infrastructure and technology.\u001b[0m\n",
      "\u001b[1m\u001b[32mThoughts: Since the main areas for investment to capture growth have been identified, I can now summarize this information and prepare it for the user.\u001b[0m\n",
      "\u001b[1m\u001b[34mSubtask identified: End Task\u001b[0m\n",
      "Task completed successfully!\n",
      "\n"
     ]
    }
   ],
   "source": [
    "agent.reset()\n",
    "output = agent.run('How much will growth be, and what are the 3 main areas to capture them?')"
   ]
  },
  {
   "cell_type": "code",
   "execution_count": 38,
   "id": "c7e0b41e-0a0e-48d2-bffe-2603838da54d",
   "metadata": {
    "tags": []
   },
   "outputs": [
    {
     "name": "stdout",
     "output_type": "stream",
     "text": [
      "Executive Summary: The payments industry is projected to experience a growth rate of 5 percent over the next year, continuing the trend of revenue growth observed in recent years. This growth is expected to be driven by ongoing consumer and commercial transaction digitization, as well as higher interest rates. By 2028, total payments revenues are anticipated to reach approximately $3.1 trillion, which represents a significant portion of the total banking revenue pool.\n",
      "\n",
      "To capitalize on this growth, operators and disrupters in the payments industry should focus their investments in three key areas: 1) instant payments offerings in margin-rich segments, which present opportunities for success; 2) enhancements to anti-money laundering processes to ensure compliance and security; and 3) the development of robust, real-time infrastructure and technology aimed at improving payment efficiency and fraud prevention. These strategic investments are essential for staying competitive in an evolving market characterized by changing customer preferences and regulatory demands.\n"
     ]
    }
   ],
   "source": [
    "output = agent.reply_user('Reply in the form of an executive summary')"
   ]
  },
  {
   "cell_type": "code",
   "execution_count": null,
   "id": "e59a93ab-18d4-4df4-a524-165901bcf5ed",
   "metadata": {},
   "outputs": [],
   "source": []
  }
 ],
 "metadata": {
  "kernelspec": {
   "display_name": "Python 3 (ipykernel)",
   "language": "python",
   "name": "python3"
  },
  "language_info": {
   "codemirror_mode": {
    "name": "ipython",
    "version": 3
   },
   "file_extension": ".py",
   "mimetype": "text/x-python",
   "name": "python",
   "nbconvert_exporter": "python",
   "pygments_lexer": "ipython3",
   "version": "3.11.3"
  }
 },
 "nbformat": 4,
 "nbformat_minor": 5
}
