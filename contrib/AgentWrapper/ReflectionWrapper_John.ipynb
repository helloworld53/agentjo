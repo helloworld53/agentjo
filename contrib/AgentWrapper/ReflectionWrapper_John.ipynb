{
 "cells": [
  {
   "cell_type": "markdown",
   "id": "797c8fd4-09a9-434f-bc98-c2bce6d2f951",
   "metadata": {
    "tags": []
   },
   "source": [
    "# Reflection Wrapper\n",
    "\n",
    "- Created 28 Oct by John Tan Chong Min\n",
    "- Reflects based on the task, past reflection and subtasks completed, to generate new reflection for the task\n",
    "- Can figure out dynamically changing Rock, Scissors, Paper strategy"
   ]
  },
  {
   "cell_type": "code",
   "execution_count": 1,
   "id": "4cffce7e-40d0-4f55-8484-596374751ef6",
   "metadata": {
    "tags": []
   },
   "outputs": [],
   "source": [
    "from agentjo import *"
   ]
  },
  {
   "cell_type": "code",
   "execution_count": 2,
   "id": "bb90f28e-7515-4eba-906b-a35e7efd8833",
   "metadata": {},
   "outputs": [],
   "source": [
    "### Put in your Azure OpenAI keys here ###\n",
    "AZURE_OPENAI_KEY = \"\"\n",
    "AZURE_OPENAI_ENDPOINT = \"\"\n",
    "API_VERSION = ''"
   ]
  },
  {
   "cell_type": "code",
   "execution_count": 4,
   "id": "8e6ca2ca-41ef-4a1b-a0a6-fb89f8d5101c",
   "metadata": {
    "tags": []
   },
   "outputs": [],
   "source": [
    "from openai import AzureOpenAI\n",
    "\n",
    "azure_open_ai_client = AzureOpenAI(\n",
    "    api_key = AZURE_OPENAI_KEY,\n",
    "    azure_endpoint = AZURE_OPENAI_ENDPOINT,\n",
    "    api_version = API_VERSION\n",
    ")\n",
    " \n",
    "def llm(system_prompt: str, user_prompt: str) -> str:\n",
    "    response = azure_open_ai_client.chat.completions.create(\n",
    "        model = \"gpt-4o-mini\",\n",
    "        messages = [{\"role\": \"system\", \"content\": system_prompt}, {\"role\": \"user\", \"content\": user_prompt}],\n",
    "        temperature = 0\n",
    "    )\n",
    " \n",
    "    return response.choices[0].message.content"
   ]
  },
  {
   "cell_type": "markdown",
   "id": "ff3de593-f84f-46c8-a12b-2cfc29874b88",
   "metadata": {},
   "source": [
    "# Adaptable Use Case\n",
    "- Learning from a rock, scissors, paper game"
   ]
  },
  {
   "cell_type": "code",
   "execution_count": 5,
   "id": "86907dbc-459e-45da-90bb-09f2c751736c",
   "metadata": {
    "tags": []
   },
   "outputs": [],
   "source": [
    "def opp_strategy(action_sequence: list):\n",
    "    ''' Chooses a strategy based on the action_sequence played '''\n",
    "    return \"rock\""
   ]
  },
  {
   "cell_type": "code",
   "execution_count": 6,
   "id": "655ac8f3-d8dd-4dda-a6db-4a86cb675415",
   "metadata": {
    "tags": []
   },
   "outputs": [],
   "source": [
    "def play_game(shared_variables, action: str) -> str:\n",
    "    ''' Plays an action from rock, scissors, or paper '''\n",
    "    \n",
    "    # Simulate the opponent's strategy by retrieving the opponent's move\n",
    "    opp_action = opp_strategy(shared_variables[\"action_sequence\"])\n",
    "    \n",
    "    # Append the round's moves to action_sequence as a tuple (opp_action, action)\n",
    "    shared_variables[\"action_sequence\"].append((opp_action, action))\n",
    "    \n",
    "    # Determine the result based on the player's action\n",
    "    if action == \"rock\":\n",
    "        if opp_action == \"scissors\":\n",
    "            result = \"You win\"\n",
    "        elif opp_action == \"paper\":\n",
    "            result = \"You lose\"\n",
    "        else:\n",
    "            result = \"Draw\"\n",
    "    \n",
    "    elif action == \"scissors\":\n",
    "        if opp_action == \"paper\":\n",
    "            result = \"You win\"\n",
    "        elif opp_action == \"rock\":\n",
    "            result = \"You lose\"\n",
    "        else:\n",
    "            result = \"Draw\"\n",
    "    \n",
    "    elif action == \"paper\":\n",
    "        if opp_action == \"rock\":\n",
    "            result = \"You win\"\n",
    "        elif opp_action == \"scissors\":\n",
    "            result = \"You lose\"\n",
    "        else:\n",
    "            result = \"Draw\"\n",
    "    \n",
    "    else:\n",
    "        return \"Invalid action\"\n",
    "    \n",
    "    # Return the result along with the actions\n",
    "    return f\"Opponent played: {opp_action}, You played: {action}. Result: {result}\""
   ]
  },
  {
   "cell_type": "code",
   "execution_count": 7,
   "id": "3463e38d-6faa-4566-ba81-b74eb600d20f",
   "metadata": {
    "tags": []
   },
   "outputs": [],
   "source": [
    "agent = Agent('Scissors Paper Stone Agent', 'You are an agent meant to win the rock, scissors, paper game',\n",
    "              shared_variables = {\"action_sequence\": []},\n",
    "              global_context = \"Action Sequence of (Opponent Action, Your Action): <action_sequence>\",\n",
    "              llm = llm).assign_functions([play_game])"
   ]
  },
  {
   "cell_type": "code",
   "execution_count": 8,
   "id": "631387b0-2dc1-40d9-ae3e-f8f5d0fcaa55",
   "metadata": {
    "tags": []
   },
   "outputs": [
    {
     "name": "stdout",
     "output_type": "stream",
     "text": [
      "\u001b[1m\u001b[30mObservation: The task is to play the game 5 times, try to win as many times as possible, and figure out the opponent's strategy. No games have been played yet.\u001b[0m\n",
      "\u001b[1m\u001b[32mThoughts: To start the task, I need to play the first game. Since there is no information about the opponent's strategy yet, I will choose an action randomly.\u001b[0m\n",
      "\u001b[1m\u001b[34mSubtask identified: Play the first game by choosing an action randomly.\u001b[0m\n",
      "Calling function play_game with parameters {'action': 'rock'}\n",
      "> {'output_1': 'Opponent played: rock, You played: rock. Result: Draw'}\n",
      "\n",
      "\u001b[1m\u001b[30mObservation: The first round resulted in a draw with both the opponent and me playing rock.\u001b[0m\n",
      "\u001b[1m\u001b[32mThoughts: To win the next round, I should consider the possibility that the opponent might change their strategy. If the opponent continues with rock, I should play paper to win. If they switch to scissors, my rock would win. However, to cover both possibilities, playing paper might be a safer choice.\u001b[0m\n",
      "\u001b[1m\u001b[34mSubtask identified: Play paper in the next round to try and win against the opponent.\u001b[0m\n",
      "Calling function play_game with parameters {'action': 'paper'}\n",
      "> {'output_1': 'Opponent played: rock, You played: paper. Result: You win'}\n",
      "\n",
      "\u001b[1m\u001b[30mObservation: The opponent has played \"rock\" in both previous rounds. Playing \"paper\" resulted in a win, while playing \"rock\" resulted in a draw.\u001b[0m\n",
      "\u001b[1m\u001b[32mThoughts: The opponent might have a tendency to play \"rock\". To maximize the chances of winning, it would be strategic to play \"paper\" again.\u001b[0m\n",
      "\u001b[1m\u001b[34mSubtask identified: Play \"paper\" to try and win the next round.\u001b[0m\n",
      "Calling function play_game with parameters {'action': 'paper'}\n",
      "> {'output_1': 'Opponent played: rock, You played: paper. Result: You win'}\n",
      "\n",
      "\u001b[1m\u001b[30mObservation: The opponent has consistently played rock in the first three rounds. Playing paper has resulted in two wins.\u001b[0m\n",
      "\u001b[1m\u001b[32mThoughts: Given the opponent's pattern of playing rock, continuing to play paper seems like a good strategy to maximize wins. We need to play two more rounds to complete the task.\u001b[0m\n",
      "\u001b[1m\u001b[34mSubtask identified: Play paper in the fourth round to try to win again.\u001b[0m\n",
      "Calling function play_game with parameters {'action': 'paper'}\n",
      "> {'output_1': 'Opponent played: rock, You played: paper. Result: You win'}\n",
      "\n",
      "\u001b[1m\u001b[30mObservation: The opponent has consistently played rock in all four rounds. Playing paper has resulted in three consecutive wins.\u001b[0m\n",
      "\u001b[1m\u001b[32mThoughts: Given the opponent's predictable pattern of playing rock, the best strategy to maximize wins is to continue playing paper. This will ensure another win if the opponent continues their pattern.\u001b[0m\n",
      "\u001b[1m\u001b[34mSubtask identified: Play paper in the fifth round to maximize the chances of winning.\u001b[0m\n",
      "Calling function play_game with parameters {'action': 'paper'}\n",
      "> {'output_1': 'Opponent played: rock, You played: paper. Result: You win'}\n",
      "\n"
     ]
    },
    {
     "data": {
      "text/plain": [
       "[{'output_1': 'Opponent played: rock, You played: rock. Result: Draw'},\n",
       " {'output_1': 'Opponent played: rock, You played: paper. Result: You win'},\n",
       " {'output_1': 'Opponent played: rock, You played: paper. Result: You win'},\n",
       " {'output_1': 'Opponent played: rock, You played: paper. Result: You win'},\n",
       " {'output_1': 'Opponent played: rock, You played: paper. Result: You win'}]"
      ]
     },
     "execution_count": 8,
     "metadata": {},
     "output_type": "execute_result"
    }
   ],
   "source": [
    "agent.run(\"Play the game 5 times, try to win as many times as possible and figure out the opponent's strategy\", num_subtasks = 5)"
   ]
  },
  {
   "cell_type": "markdown",
   "id": "37839365-d295-470f-860a-e0d2304c0a83",
   "metadata": {},
   "source": [
    "# Now for the hard mode"
   ]
  },
  {
   "cell_type": "code",
   "execution_count": 16,
   "id": "b92cd00f-76be-4231-9b3a-1329ccbb9491",
   "metadata": {},
   "outputs": [],
   "source": [
    "def opp_strategy(action_sequence: list):\n",
    "    ''' Chooses a strategy based on the action_sequence played '''\n",
    "    import numpy as np\n",
    "    \n",
    "    if len(action_sequence) == 0:\n",
    "        return np.random.choice([\"rock\", \"paper\", \"scissors\"])\n",
    "        \n",
    "    if action_sequence[-1][1] == \"rock\":\n",
    "        return \"paper\"\n",
    "    elif action_sequence[-1][1] == \"paper\":\n",
    "        return \"scissors\"\n",
    "    else:\n",
    "        return \"rock\""
   ]
  },
  {
   "cell_type": "code",
   "execution_count": 17,
   "id": "71bbe199-f26f-4b39-924e-7dd28debdcff",
   "metadata": {
    "tags": []
   },
   "outputs": [],
   "source": [
    "agent = Agent('Scissors Paper Stone Agent', 'You are an agent meant to win the rock, scissors, paper game',\n",
    "              shared_variables = {\"action_sequence\": []},\n",
    "              global_context = \"Action Sequence of (Opponent Action, Your Action): <action_sequence>\",\n",
    "              llm = llm).assign_functions([play_game])"
   ]
  },
  {
   "cell_type": "code",
   "execution_count": 18,
   "id": "b144e004-3d3f-428f-9782-6937639e404d",
   "metadata": {
    "tags": []
   },
   "outputs": [
    {
     "name": "stdout",
     "output_type": "stream",
     "text": [
      "\u001b[1m\u001b[30mObservation: The task is to play the game 5 times and try to win as many times as possible while figuring out the opponent's strategy. No games have been played yet.\u001b[0m\n",
      "\u001b[1m\u001b[32mThoughts: To start the task, I need to play the first game. Since there is no information about the opponent's strategy yet, I will choose an action to begin the sequence.\u001b[0m\n",
      "\u001b[1m\u001b[34mSubtask identified: Play the first game by choosing an action. I will start with \"rock\".\u001b[0m\n",
      "Calling function play_game with parameters {'action': 'paper'}\n",
      "> {'output_1': 'Opponent played: scissors, You played: paper. Result: You lose'}\n",
      "\n",
      "\u001b[1m\u001b[30mObservation: The opponent played scissors in the first round, and I played paper, resulting in a loss.\u001b[0m\n",
      "\u001b[1m\u001b[32mThoughts: The opponent might have a tendency to play scissors. To counter this, I should play rock in the next round to try and win.\u001b[0m\n",
      "\u001b[1m\u001b[34mSubtask identified: Play rock to counter the opponent's potential scissors.\u001b[0m\n",
      "Calling function play_game with parameters {'action': 'rock'}\n",
      "> {'output_1': 'Opponent played: scissors, You played: rock. Result: You win'}\n",
      "\n",
      "\u001b[1m\u001b[30mObservation: The opponent has played \"scissors\" in both previous rounds. The first round was lost with \"paper\" and the second round was won with \"rock\".\u001b[0m\n",
      "\u001b[1m\u001b[32mThoughts: Given the opponent's consistent choice of \"scissors\", it might be strategic to continue playing \"rock\" to maximize the chances of winning. However, the opponent might change their strategy, so it is important to stay adaptable.\u001b[0m\n",
      "\u001b[1m\u001b[34mSubtask identified: Play \"rock\" again to see if the opponent continues with \"scissors\".\u001b[0m\n",
      "Calling function play_game with parameters {'action': 'rock'}\n",
      "> {'output_1': 'Opponent played: paper, You played: rock. Result: You lose'}\n",
      "\n",
      "\u001b[1m\u001b[30mObservation: So far, the opponent has played scissors twice and paper once. I have played paper once and lost, rock twice with one win and one loss.\u001b[0m\n",
      "\u001b[1m\u001b[32mThoughts: The opponent seems to favor scissors, but they have also played paper. To maximize my chances of winning, I should play rock again, as it beats scissors and ties with rock.\u001b[0m\n",
      "\u001b[1m\u001b[34mSubtask identified: Play rock to counter the opponent's likely scissors play.\u001b[0m\n",
      "Calling function play_game with parameters {'action': 'rock'}\n",
      "> {'output_1': 'Opponent played: paper, You played: rock. Result: You lose'}\n",
      "\n",
      "\u001b[1m\u001b[30mObservation: The opponent has played scissors twice and paper twice. I have played paper once and rock three times. I have lost three times and won once.\u001b[0m\n",
      "\u001b[1m\u001b[32mThoughts: The opponent seems to be alternating between scissors and paper. To maximize my chances of winning, I should play scissors next, as it beats paper and ties with scissors.\u001b[0m\n",
      "\u001b[1m\u001b[34mSubtask identified: Play scissors to counter the opponent's potential paper or scissors.\u001b[0m\n",
      "Calling function play_game with parameters {'action': 'scissors'}\n",
      "> {'output_1': 'Opponent played: paper, You played: scissors. Result: You win'}\n",
      "\n"
     ]
    },
    {
     "data": {
      "text/plain": [
       "[{'output_1': 'Opponent played: scissors, You played: paper. Result: You lose'},\n",
       " {'output_1': 'Opponent played: scissors, You played: rock. Result: You win'},\n",
       " {'output_1': 'Opponent played: paper, You played: rock. Result: You lose'},\n",
       " {'output_1': 'Opponent played: paper, You played: rock. Result: You lose'},\n",
       " {'output_1': 'Opponent played: paper, You played: scissors. Result: You win'}]"
      ]
     },
     "execution_count": 18,
     "metadata": {},
     "output_type": "execute_result"
    }
   ],
   "source": [
    "agent.run(\"Play the game 5 times, try to win as many times as possible and figure out the opponent's strategy\", num_subtasks = 5)"
   ]
  },
  {
   "cell_type": "markdown",
   "id": "8c4c01c8-6f54-4e0d-8528-100dd1511aed",
   "metadata": {},
   "source": [
    "# Now add in Reflection Wrapper"
   ]
  },
  {
   "cell_type": "code",
   "execution_count": 26,
   "id": "b9a75de4-e165-4a77-a808-91961df7b4f0",
   "metadata": {
    "tags": []
   },
   "outputs": [],
   "source": [
    "class ReflectionWrapper(Agent):\n",
    "    ''' This class takes an Agent imbues it with additional functions\n",
    "    You can do everything the base Agent can do with this Wrapper '''\n",
    "    \n",
    "    def __init__(self, agent: Agent):\n",
    "        # Initialize the parent Agent\n",
    "        super().__init__(**agent.__dict__)  # Inherit all of the attributes of the passed agent\n",
    "        # Initiatlize the functions\n",
    "        self.assign_functions(list(agent.function_map.values()))\n",
    "       \n",
    "    ### Override the run function to do reflection\n",
    "    def run(self, task: str = '', overall_task: str = '', num_subtasks: int = 0, *args, **kwargs):\n",
    "        from termcolor import colored\n",
    "        \n",
    "        # Add in new reflection global context\n",
    "        if 'Reflection: <reflection>' not in self.global_context: \n",
    "            self.global_context += 'Reflection: <reflection>'\n",
    "        if 'reflection' not in self.shared_variables: \n",
    "            self.shared_variables['reflection'] = ''\n",
    "            \n",
    "        # set num_subtasks to max_subtasks if not defined\n",
    "        total_runs = num_subtasks\n",
    "        if total_runs == 0:\n",
    "            total_runs = self.max_subtasks\n",
    "        \n",
    "        # run up to max_subtasks count, reflect after each subtask\n",
    "        for _ in range(total_runs):\n",
    "            super().run(task, overall_task, num_subtasks = 1, *args, **kwargs)\n",
    "            res = strict_json('Based on what has happened so far, reflect on useful findings to help you with another similar task in the future',\n",
    "                f'''Task: ```{self.task}```\n",
    "Past Reflection: ```{self.shared_variables[\"reflection\"]}```\n",
    "Subtasks Completed: ```{self.subtasks_completed}```''',\n",
    "                output_format = {'Reflection': 'type: str'},\n",
    "                llm = self.llm)\n",
    "            self.shared_variables['reflection'] = res['Reflection']\n",
    "            print(colored(f'New Reflection: {res[\"Reflection\"]}\\n\\n', 'red', attrs = ['bold']))\n",
    "            \n",
    "            # end when task completed\n",
    "            if self.task_completed:\n",
    "                break"
   ]
  },
  {
   "cell_type": "code",
   "execution_count": 27,
   "id": "2b98def9-f214-4b90-a9ea-38958f0529f3",
   "metadata": {},
   "outputs": [],
   "source": [
    "def opp_strategy(action_sequence: list):\n",
    "    ''' Chooses a strategy based on the action_sequence played '''\n",
    "    import numpy as np\n",
    "    \n",
    "    if len(action_sequence) == 0:\n",
    "        return np.random.choice([\"rock\", \"paper\", \"scissors\"])\n",
    "        \n",
    "    if action_sequence[-1][1] == \"rock\":\n",
    "        return \"paper\"\n",
    "    elif action_sequence[-1][1] == \"paper\":\n",
    "        return \"scissors\"\n",
    "    else:\n",
    "        return \"rock\""
   ]
  },
  {
   "cell_type": "code",
   "execution_count": 28,
   "id": "281de6fe-ae9a-4560-a824-5b2c0074fd94",
   "metadata": {
    "tags": []
   },
   "outputs": [],
   "source": [
    "agent = ReflectionWrapper(Agent('Scissors Paper Stone Agent', 'You are an agent meant to win the rock, scissors, paper game',\n",
    "              shared_variables = {\"action_sequence\": []},\n",
    "              global_context = \"Action Sequence of (Opponent Action, Your Action): <action_sequence>\",\n",
    "              llm = llm)).assign_functions([play_game])"
   ]
  },
  {
   "cell_type": "code",
   "execution_count": 29,
   "id": "933e8595-841a-49b8-b7ab-9a1038d8aff9",
   "metadata": {
    "tags": []
   },
   "outputs": [
    {
     "name": "stdout",
     "output_type": "stream",
     "text": [
      "\u001b[1m\u001b[30mObservation: The task is to play the game 5 times and try to win as many times as possible while figuring out the opponent's strategy. No games have been played yet.\u001b[0m\n",
      "\u001b[1m\u001b[32mThoughts: To start the task, I need to play the first game. Since there is no information about the opponent's strategy yet, I will choose an action randomly.\u001b[0m\n",
      "\u001b[1m\u001b[34mSubtask identified: Play the first game by choosing an action randomly.\u001b[0m\n",
      "Calling function play_game with parameters {'action': 'rock'}\n",
      "> {'output_1': 'Opponent played: scissors, You played: rock. Result: You win'}\n",
      "\n",
      "\u001b[1m\u001b[31mNew Reflection: Playing rock resulted in a win against scissors. This suggests that the opponent might have a tendency to play scissors. In future games, it might be useful to start with rock and observe if the opponent continues to play scissors or changes their strategy.\n",
      "\n",
      "\u001b[0m\n",
      "\u001b[1m\u001b[30mObservation: Playing rock resulted in a win against scissors. This suggests that the opponent might have a tendency to play scissors. In future games, it might be useful to start with rock and observe if the opponent continues to play scissors or changes their strategy.\u001b[0m\n",
      "\u001b[1m\u001b[32mThoughts: Since the opponent played scissors in the first game, it might be beneficial to play rock again to see if the opponent repeats their action. If the opponent changes their strategy, we can adjust our actions accordingly in the subsequent games.\u001b[0m\n",
      "\u001b[1m\u001b[34mSubtask identified: Play rock again to see if the opponent continues to play scissors or changes their strategy.\u001b[0m\n",
      "Calling function play_game with parameters {'action': 'rock'}\n",
      "> {'output_1': 'Opponent played: paper, You played: rock. Result: You lose'}\n",
      "\n",
      "\u001b[1m\u001b[31mNew Reflection: The opponent played scissors in the first game and paper in the second game. This indicates that the opponent does not consistently play the same move. For future games, it might be beneficial to vary my moves instead of sticking to one. Observing the opponent's pattern over more games could provide better insights into their strategy.\n",
      "\n",
      "\u001b[0m\n",
      "\u001b[1m\u001b[30mObservation: The opponent played scissors in the first game and paper in the second game. This indicates that the opponent does not consistently play the same move. For future games, it might be beneficial to vary my moves instead of sticking to one. Observing the opponent's pattern over more games could provide better insights into their strategy.\u001b[0m\n",
      "\u001b[1m\u001b[32mThoughts: Since the opponent has played scissors and paper, it is likely they might play rock next. To maximize the chances of winning, I should play paper in the next game. This will help in countering a potential rock move and also add variety to my moves.\u001b[0m\n",
      "\u001b[1m\u001b[34mSubtask identified: Play paper in the next game to counter a potential rock move from the opponent.\u001b[0m\n",
      "Calling function play_game with parameters {'action': 'paper'}\n",
      "> {'output_1': 'Opponent played: paper, You played: paper. Result: Draw'}\n",
      "\n",
      "\u001b[1m\u001b[31mNew Reflection: The opponent has shown variability in their moves, playing scissors, paper, and paper in the first three games. This suggests that the opponent does not follow a simple repetitive pattern. For future games, it might be useful to continue varying my moves and consider the possibility of the opponent repeating a move. Observing more games will help in identifying any subtle patterns or tendencies in the opponent's strategy.\n",
      "\n",
      "\u001b[0m\n",
      "\u001b[1m\u001b[30mObservation: The opponent has shown variability in their moves, playing scissors, paper, and paper in the first three games. This suggests that the opponent does not follow a simple repetitive pattern. For future games, it might be useful to continue varying my moves and consider the possibility of the opponent repeating a move. Observing more games will help in identifying any subtle patterns or tendencies in the opponent's strategy.\u001b[0m\n",
      "\u001b[1m\u001b[32mThoughts: Given the variability in the opponent's moves, it is important to continue varying my own moves to avoid being predictable. Since the opponent has played paper twice in a row, there is a chance they might switch to scissors or rock. Playing scissors could be a strategic move to counter a potential paper or rock play.\u001b[0m\n",
      "\u001b[1m\u001b[34mSubtask identified: Play scissors to counter a potential paper or rock move from the opponent.\u001b[0m\n",
      "Calling function play_game with parameters {'action': 'scissors'}\n",
      "> {'output_1': 'Opponent played: scissors, You played: scissors. Result: Draw'}\n",
      "\n",
      "\u001b[1m\u001b[31mNew Reflection: The opponent's strategy appears to be quite unpredictable, as they have played each of the three possible moves (scissors, paper, and rock) without a clear pattern. In the four games played so far, the opponent has not repeated the same move consecutively. For future games, it might be beneficial to continue varying my moves to cover all possibilities and avoid falling into a predictable pattern myself. Additionally, keeping track of the opponent's moves over a larger number of games might help in identifying any subtle tendencies or preferences they might have.\n",
      "\n",
      "\u001b[0m\n",
      "\u001b[1m\u001b[30mObservation: Four games have been played so far with the following results: 1 win, 1 loss, and 2 draws. The opponent has not repeated the same move consecutively, making their strategy appear unpredictable.\u001b[0m\n",
      "\u001b[1m\u001b[32mThoughts: To maximize the chances of winning the fifth game, it is important to continue varying my moves. Since the opponent has not shown a clear pattern, I should choose a move that has not been played recently to avoid predictability.\u001b[0m\n",
      "\u001b[1m\u001b[34mSubtask identified: Play the fifth game using the move \"paper\" to maintain variation and avoid predictability.\u001b[0m\n",
      "Calling function play_game with parameters {'action': 'paper'}\n",
      "> {'output_1': 'Opponent played: rock, You played: paper. Result: You win'}\n",
      "\n",
      "\u001b[1m\u001b[31mNew Reflection: The opponent's strategy remains unpredictable, as they have used each move (scissors, paper, and rock) without a discernible pattern. Notably, the opponent has not repeated the same move consecutively. To maximize my chances of winning in future games, I should continue to vary my moves to avoid predictability. Additionally, tracking the opponent's moves over a larger sample size might reveal subtle patterns or preferences that could be exploited.\n",
      "\n",
      "\u001b[0m\n"
     ]
    }
   ],
   "source": [
    "agent.run(\"Play the game 5 times, try to win as many times as possible and figure out the opponent's strategy\", num_subtasks = 5)"
   ]
  },
  {
   "cell_type": "code",
   "execution_count": 30,
   "id": "6ce7030f-4c1b-44ea-8249-f7c0526cfbac",
   "metadata": {
    "tags": []
   },
   "outputs": [
    {
     "name": "stdout",
     "output_type": "stream",
     "text": [
      "\u001b[1m\u001b[30mObservation: The opponent's strategy remains unpredictable, as they have used each move (scissors, paper, and rock) without a discernible pattern. Notably, the opponent has not repeated the same move consecutively.\u001b[0m\n",
      "\u001b[1m\u001b[32mThoughts: To maximize my chances of winning, I should continue to vary my moves to avoid predictability. I will start by playing one round and then analyze the result to decide the next move.\u001b[0m\n",
      "\u001b[1m\u001b[34mSubtask identified: Play the first round of the game by choosing rock.\u001b[0m\n",
      "Calling function play_game with parameters {'action': 'rock'}\n",
      "> {'output_1': 'Opponent played: scissors, You played: rock. Result: You win'}\n",
      "\n",
      "\u001b[1m\u001b[31mNew Reflection: The opponent's strategy appears to be random, as they have not repeated the same move consecutively and have used each move (scissors, paper, and rock) without a discernible pattern. To improve my chances of winning in future games, I should continue to vary my moves to avoid predictability. Additionally, tracking the opponent's moves over a larger sample size might reveal subtle patterns or preferences that could be exploited. For now, maintaining a balanced approach and avoiding any predictable sequences in my own moves seems to be the best strategy.\n",
      "\n",
      "\u001b[0m\n",
      "\u001b[1m\u001b[30mObservation: The opponent played scissors in the first game, and I played rock, resulting in a win for me. The opponent's strategy appears to be random, as they have not repeated the same move consecutively and have used each move (scissors, paper, and rock) without a discernible pattern.\u001b[0m\n",
      "\u001b[1m\u001b[32mThoughts: To maximize my chances of winning, I should continue to vary my moves to avoid predictability. Since the opponent's strategy seems random, I will choose a different move for the next game to maintain a balanced approach.\u001b[0m\n",
      "\u001b[1m\u001b[34mSubtask identified: Play the game by choosing paper as my next move to maintain variation and avoid predictability.\u001b[0m\n",
      "Calling function play_game with parameters {'action': 'paper'}\n",
      "> {'output_1': 'Opponent played: paper, You played: paper. Result: Draw'}\n",
      "\n",
      "\u001b[1m\u001b[31mNew Reflection: The opponent's strategy still appears to be random, as evidenced by the varied outcomes in the games played so far. To increase my chances of winning, I should continue to use a balanced and unpredictable approach. Additionally, keeping a record of the opponent's moves over a larger number of games might help identify any subtle patterns. For now, maintaining a diverse set of moves and avoiding any predictable sequences remains the best strategy.\n",
      "\n",
      "\u001b[0m\n",
      "\u001b[1m\u001b[30mObservation: So far, I have played two games in this sequence. In the first game, I played \"rock\" and won against \"scissors\". In the second game, I played \"paper\" and it resulted in a draw against \"paper\". The opponent's strategy still appears to be random.\u001b[0m\n",
      "\u001b[1m\u001b[32mThoughts: To maximize my chances of winning, I should continue to use a balanced and unpredictable approach. I have three more games to play. I should consider playing \"scissors\" next to maintain diversity in my moves.\u001b[0m\n",
      "\u001b[1m\u001b[34mSubtask identified: Play the next game using \"scissors\" to maintain an unpredictable pattern.\u001b[0m\n",
      "Calling function play_game with parameters {'action': 'scissors'}\n",
      "> {'output_1': 'Opponent played: scissors, You played: scissors. Result: Draw'}\n",
      "\n",
      "\u001b[1m\u001b[31mNew Reflection: The opponent's strategy still appears to be random, as evidenced by the varied outcomes in the games played so far. To increase my chances of winning, I should continue to use a balanced and unpredictable approach. Additionally, keeping a record of the opponent's moves over a larger number of games might help identify any subtle patterns. For now, maintaining a diverse set of moves and avoiding any predictable sequences remains the best strategy. The recent games show a win, a draw, and another draw, which supports the idea of randomness in the opponent's choices.\n",
      "\n",
      "\u001b[0m\n",
      "\u001b[1m\u001b[30mObservation: So far, I have played three games with the following results: a win with rock, a draw with paper, and a draw with scissors. The opponent's strategy still appears to be random.\u001b[0m\n",
      "\u001b[1m\u001b[32mThoughts: To maximize my chances of winning, I should continue to use a balanced and unpredictable approach. I need to play two more games to complete the assigned task. Given the random nature of the opponent, I should choose my next move unpredictably.\u001b[0m\n",
      "\u001b[1m\u001b[34mSubtask identified: Play the next game using the action \"rock\" to maintain unpredictability.\u001b[0m\n",
      "Calling function play_game with parameters {'action': 'rock'}\n",
      "> {'output_1': 'Opponent played: rock, You played: rock. Result: Draw'}\n",
      "\n",
      "\u001b[1m\u001b[31mNew Reflection: The opponent's strategy still appears to be random, as evidenced by the varied outcomes in the games played so far. To increase my chances of winning, I should continue to use a balanced and unpredictable approach. Additionally, keeping a record of the opponent's moves over a larger number of games might help identify any subtle patterns. For now, maintaining a diverse set of moves and avoiding any predictable sequences remains the best strategy. The recent games show a win, a draw, and another draw, which supports the idea of randomness in the opponent's choices. I should also consider using statistical analysis on the recorded moves to detect any non-obvious patterns.\n",
      "\n",
      "\u001b[0m\n",
      "\u001b[1m\u001b[30mObservation: So far, I have played four games with the following results: one win, two draws, and one draw. The opponent's moves appear random, and there is no clear pattern yet. I need to play one more game to complete the assigned task.\u001b[0m\n",
      "\u001b[1m\u001b[32mThoughts: To maximize my chances of winning the final game, I should continue to use a balanced and unpredictable approach. Since I have already played rock twice, paper once, and scissors once, I should consider playing paper again to maintain unpredictability.\u001b[0m\n",
      "\u001b[1m\u001b[34mSubtask identified: Play the game using the action \"paper\" to complete the fifth game.\u001b[0m\n",
      "Calling function play_game with parameters {'action': 'paper'}\n",
      "> {'output_1': 'Opponent played: paper, You played: paper. Result: Draw'}\n",
      "\n",
      "\u001b[1m\u001b[31mNew Reflection: The opponent's strategy still appears to be random, as evidenced by the varied outcomes in the games played so far. To increase my chances of winning, I should continue to use a balanced and unpredictable approach. Additionally, keeping a record of the opponent's moves over a larger number of games might help identify any subtle patterns. For now, maintaining a diverse set of moves and avoiding any predictable sequences remains the best strategy. The recent games show a win, a draw, and another draw, which supports the idea of randomness in the opponent's choices. I should also consider using statistical analysis on the recorded moves to detect any non-obvious patterns. The latest set of games resulted in a win and several draws, further indicating the randomness of the opponent's strategy. Moving forward, I will continue to diversify my moves and analyze the data for any emerging patterns.\n",
      "\n",
      "\u001b[0m\n"
     ]
    }
   ],
   "source": [
    "agent.reset()\n",
    "agent.run(\"Play the game 5 times, try to win as many times as possible and figure out the opponent's strategy\", num_subtasks = 5)"
   ]
  },
  {
   "cell_type": "code",
   "execution_count": null,
   "id": "566c7042-4f5b-43b4-9d14-ab08fc8702d0",
   "metadata": {},
   "outputs": [],
   "source": []
  }
 ],
 "metadata": {
  "kernelspec": {
   "display_name": "Python 3 (ipykernel)",
   "language": "python",
   "name": "python3"
  },
  "language_info": {
   "codemirror_mode": {
    "name": "ipython",
    "version": 3
   },
   "file_extension": ".py",
   "mimetype": "text/x-python",
   "name": "python",
   "nbconvert_exporter": "python",
   "pygments_lexer": "ipython3",
   "version": "3.11.3"
  }
 },
 "nbformat": 4,
 "nbformat_minor": 5
}
