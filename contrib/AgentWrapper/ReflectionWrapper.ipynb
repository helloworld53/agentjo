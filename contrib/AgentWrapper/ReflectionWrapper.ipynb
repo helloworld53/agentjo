{
 "cells": [
  {
   "cell_type": "markdown",
   "id": "797c8fd4-09a9-434f-bc98-c2bce6d2f951",
   "metadata": {
    "tags": []
   },
   "source": [
    "# Reflection Wrapper\n",
    "\n",
    "- Created 28 Oct by John Tan Chong Min\n",
    "- Reflects based on the task, past reflection and subtasks completed, to generate new reflection for the task\n",
    "- Can figure out dynamically changing Rock, Scissors, Paper strategy"
   ]
  },
  {
   "cell_type": "code",
   "execution_count": 61,
   "id": "4cffce7e-40d0-4f55-8484-596374751ef6",
   "metadata": {
    "tags": []
   },
   "outputs": [],
   "source": [
    "from agentjo import *"
   ]
  },
  {
   "cell_type": "code",
   "execution_count": null,
   "id": "bb90f28e-7515-4eba-906b-a35e7efd8833",
   "metadata": {},
   "outputs": [],
   "source": [
    "### Put in your Azure OpenAI keys here ###\n",
    "AZURE_OPENAI_KEY = \"\"\n",
    "AZURE_OPENAI_ENDPOINT = \"\"\n",
    "API_VERSION = ''"
   ]
  },
  {
   "cell_type": "code",
   "execution_count": 63,
   "id": "8e6ca2ca-41ef-4a1b-a0a6-fb89f8d5101c",
   "metadata": {
    "tags": []
   },
   "outputs": [],
   "source": [
    "from openai import AzureOpenAI\n",
    "\n",
    "azure_open_ai_client = AzureOpenAI(\n",
    "    api_key = AZURE_OPENAI_KEY,\n",
    "    azure_endpoint = AZURE_OPENAI_ENDPOINT,\n",
    "    api_version = API_VERSION\n",
    ")\n",
    " \n",
    "def llm(system_prompt: str, user_prompt: str) -> str:\n",
    "    response = azure_open_ai_client.chat.completions.create(\n",
    "        model = \"gpt-4o-mini\",\n",
    "        messages = [{\"role\": \"system\", \"content\": system_prompt}, {\"role\": \"user\", \"content\": user_prompt}],\n",
    "        temperature = 0\n",
    "    )\n",
    " \n",
    "    return response.choices[0].message.content"
   ]
  },
  {
   "cell_type": "markdown",
   "id": "ff3de593-f84f-46c8-a12b-2cfc29874b88",
   "metadata": {},
   "source": [
    "# Adaptable Use Case\n",
    "- Learning from a rock, scissors, paper game"
   ]
  },
  {
   "cell_type": "code",
   "execution_count": 64,
   "id": "86907dbc-459e-45da-90bb-09f2c751736c",
   "metadata": {
    "tags": []
   },
   "outputs": [],
   "source": [
    "def opp_strategy(action_sequence: list):\n",
    "    ''' Chooses a strategy based on the action_sequence played '''\n",
    "    return \"rock\""
   ]
  },
  {
   "cell_type": "code",
   "execution_count": 65,
   "id": "655ac8f3-d8dd-4dda-a6db-4a86cb675415",
   "metadata": {
    "tags": []
   },
   "outputs": [],
   "source": [
    "def play_game(shared_variables, action: str) -> str:\n",
    "    ''' Plays an action from rock, scissors, or paper '''\n",
    "    \n",
    "    # Simulate the opponent's strategy by retrieving the opponent's move\n",
    "    opp_action = opp_strategy(shared_variables[\"action_sequence\"])\n",
    "    \n",
    "    # Append the round's moves to action_sequence as a tuple (opp_action, action)\n",
    "    shared_variables[\"action_sequence\"].append((opp_action, action))\n",
    "    \n",
    "    # Determine the result based on the player's action\n",
    "    if action == \"rock\":\n",
    "        if opp_action == \"scissors\":\n",
    "            result = \"You win\"\n",
    "        elif opp_action == \"paper\":\n",
    "            result = \"You lose\"\n",
    "        else:\n",
    "            result = \"Draw\"\n",
    "    \n",
    "    elif action == \"scissors\":\n",
    "        if opp_action == \"paper\":\n",
    "            result = \"You win\"\n",
    "        elif opp_action == \"rock\":\n",
    "            result = \"You lose\"\n",
    "        else:\n",
    "            result = \"Draw\"\n",
    "    \n",
    "    elif action == \"paper\":\n",
    "        if opp_action == \"rock\":\n",
    "            result = \"You win\"\n",
    "        elif opp_action == \"scissors\":\n",
    "            result = \"You lose\"\n",
    "        else:\n",
    "            result = \"Draw\"\n",
    "    \n",
    "    else:\n",
    "        return \"Invalid action\"\n",
    "    \n",
    "    # Return the result along with the actions\n",
    "    return f\"Opponent played: {opp_action}, You played: {action}. Result: {result}\""
   ]
  },
  {
   "cell_type": "code",
   "execution_count": 66,
   "id": "3463e38d-6faa-4566-ba81-b74eb600d20f",
   "metadata": {
    "tags": []
   },
   "outputs": [],
   "source": [
    "agent = Agent('Scissors Paper Stone Agent', 'You are an agent meant to win the rock, scissors, paper game',\n",
    "              shared_variables = {\"action_sequence\": []},\n",
    "              global_context = \"Action Sequence of (Opponent Action, Your Action): <action_sequence>\",\n",
    "              llm = llm).assign_functions([play_game])"
   ]
  },
  {
   "cell_type": "code",
   "execution_count": 67,
   "id": "631387b0-2dc1-40d9-ae3e-f8f5d0fcaa55",
   "metadata": {
    "tags": []
   },
   "outputs": [
    {
     "name": "stdout",
     "output_type": "stream",
     "text": [
      "\u001b[1m\u001b[30mObservation: The task is to play the game 5 times and try to win as many times as possible while figuring out the opponent's strategy. No games have been played yet.\u001b[0m\n",
      "\u001b[1m\u001b[32mThoughts: To start the task, I need to play the first game. Since there is no information about the opponent's strategy yet, I will choose an action randomly.\u001b[0m\n",
      "\u001b[1m\u001b[34mSubtask identified: Play the first game by choosing an action randomly.\u001b[0m\n",
      "Calling function play_game with parameters {'action': 'rock'}\n",
      "> {'output_1': 'Opponent played: rock, You played: rock. Result: Draw'}\n",
      "\n",
      "\u001b[1m\u001b[30mObservation: The first round resulted in a draw with both the opponent and me playing rock.\u001b[0m\n",
      "\u001b[1m\u001b[32mThoughts: To win the next round, I need to anticipate the opponent's next move. Since the opponent played rock in the first round, they might switch to paper or scissors. I should play paper to cover both possibilities: if they play rock again, I win; if they play scissors, I win.\u001b[0m\n",
      "\u001b[1m\u001b[34mSubtask identified: Play paper in the next round to try and win against the opponent.\u001b[0m\n",
      "Calling function play_game with parameters {'action': 'paper'}\n",
      "> {'output_1': 'Opponent played: rock, You played: paper. Result: You win'}\n",
      "\n",
      "\u001b[1m\u001b[30mObservation: The opponent has played \"rock\" in both previous rounds. Playing \"paper\" against \"rock\" resulted in a win.\u001b[0m\n",
      "\u001b[1m\u001b[32mThoughts: The opponent might have a tendency to play \"rock\". To maximize the chances of winning, it would be strategic to play \"paper\" again.\u001b[0m\n",
      "\u001b[1m\u001b[34mSubtask identified: Play \"paper\" to counter the opponent's likely \"rock\" move.\u001b[0m\n",
      "Calling function play_game with parameters {'action': 'paper'}\n",
      "> {'output_1': 'Opponent played: rock, You played: paper. Result: You win'}\n",
      "\n",
      "\u001b[1m\u001b[30mObservation: The opponent has consistently played rock in the first three rounds. Playing paper has resulted in two wins.\u001b[0m\n",
      "\u001b[1m\u001b[32mThoughts: Given the opponent's pattern of playing rock, continuing to play paper seems like a good strategy to maximize wins. We need to play two more rounds to complete the task.\u001b[0m\n",
      "\u001b[1m\u001b[34mSubtask identified: Play paper in the next round to try and win again.\u001b[0m\n",
      "Calling function play_game with parameters {'action': 'paper'}\n",
      "> {'output_1': 'Opponent played: rock, You played: paper. Result: You win'}\n",
      "\n",
      "\u001b[1m\u001b[30mObservation: The opponent has consistently played rock in all four rounds. Playing paper has resulted in three consecutive wins.\u001b[0m\n",
      "\u001b[1m\u001b[32mThoughts: Given the opponent's predictable pattern of playing rock, the best strategy to maximize wins is to continue playing paper. This will likely result in another win.\u001b[0m\n",
      "\u001b[1m\u001b[34mSubtask identified: Play paper in the fifth round to maximize the chances of winning.\u001b[0m\n",
      "Calling function play_game with parameters {'action': 'paper'}\n",
      "> {'output_1': 'Opponent played: rock, You played: paper. Result: You win'}\n",
      "\n"
     ]
    },
    {
     "data": {
      "text/plain": [
       "[{'output_1': 'Opponent played: rock, You played: rock. Result: Draw'},\n",
       " {'output_1': 'Opponent played: rock, You played: paper. Result: You win'},\n",
       " {'output_1': 'Opponent played: rock, You played: paper. Result: You win'},\n",
       " {'output_1': 'Opponent played: rock, You played: paper. Result: You win'},\n",
       " {'output_1': 'Opponent played: rock, You played: paper. Result: You win'}]"
      ]
     },
     "execution_count": 67,
     "metadata": {},
     "output_type": "execute_result"
    }
   ],
   "source": [
    "agent.run(\"Play the game 5 times, try to win as many times as possible and figure out the opponent's strategy\", num_subtasks = 5)"
   ]
  },
  {
   "cell_type": "markdown",
   "id": "37839365-d295-470f-860a-e0d2304c0a83",
   "metadata": {},
   "source": [
    "# Now for the hard mode"
   ]
  },
  {
   "cell_type": "code",
   "execution_count": 68,
   "id": "b9a75de4-e165-4a77-a808-91961df7b4f0",
   "metadata": {
    "tags": []
   },
   "outputs": [],
   "source": [
    "class ReflectionWrapper(Agent):\n",
    "    ''' This class takes an Agent imbues it with additional functions\n",
    "    You can do everything the base Agent can do with this Wrapper '''\n",
    "    \n",
    "    def __init__(self, agent: Agent):\n",
    "        # Initialize the parent Agent\n",
    "        super().__init__(**agent.__dict__)  # Inherit all of the attributes of the passed agent\n",
    "        # Initiatlize the functions\n",
    "        self.assign_functions(list(agent.function_map.values()))\n",
    "        \n",
    "        ## Define Additional Variables as Needed\n",
    "        self.additional_variable = True\n",
    "       \n",
    "    ### Override the run function to do reflection\n",
    "    def run(self, task: str = '', overall_task: str = '', num_subtasks: int = 0, *args, **kwargs):\n",
    "        from termcolor import colored\n",
    "        \n",
    "        # Add in new reflection global context\n",
    "        self.global_context += 'Reflection: <reflection>'\n",
    "        if 'reflection' not in self.shared_variables: self.shared_variables['reflection'] = ''\n",
    "        \n",
    "        # run up to max_subtasks count, reflect after each subtask\n",
    "        for _ in range(self.max_subtasks):\n",
    "            super().run(task, overall_task, num_subtasks = 1, *args, **kwargs)\n",
    "            res = strict_json('Based on what has happened so far, reflect on useful findings to help you with another similar task in the future',\n",
    "                f'''Task: ```{self.task}```\n",
    "Past Reflection: ```{self.shared_variables[\"reflection\"]}```\n",
    "Subtasks Completed: ```{self.subtasks_completed}```''',\n",
    "                output_format = {'Reflection': 'type: str'},\n",
    "                llm = self.llm)\n",
    "            self.shared_variables['reflection'] = res['Reflection']\n",
    "            print(colored(f'New Reflection: {res[\"Reflection\"]}', 'red', attrs = ['bold']))\n",
    "            \n",
    "            # end when task completed\n",
    "            if self.task_completed:\n",
    "                break"
   ]
  },
  {
   "cell_type": "code",
   "execution_count": 69,
   "id": "2b98def9-f214-4b90-a9ea-38958f0529f3",
   "metadata": {},
   "outputs": [],
   "source": [
    "def opp_strategy(action_sequence: list):\n",
    "    ''' Chooses a strategy based on the action_sequence played '''\n",
    "    import numpy as np\n",
    "    \n",
    "    if len(action_sequence) == 0:\n",
    "        return np.random.choice([\"rock\", \"paper\", \"scissors\"])\n",
    "        \n",
    "    if action_sequence[-1][1] == \"rock\":\n",
    "        return \"paper\"\n",
    "    elif action_sequence[-1][1] == \"paper\":\n",
    "        return \"scissors\"\n",
    "    else:\n",
    "        return \"rock\""
   ]
  },
  {
   "cell_type": "code",
   "execution_count": 70,
   "id": "281de6fe-ae9a-4560-a824-5b2c0074fd94",
   "metadata": {
    "tags": []
   },
   "outputs": [],
   "source": [
    "agent = ReflectionWrapper(Agent('Scissors Paper Stone Agent', 'You are an agent meant to win the rock, scissors, paper game',\n",
    "              shared_variables = {\"action_sequence\": []},\n",
    "              global_context = \"Action Sequence of (Opponent Action, Your Action): <action_sequence>\",\n",
    "              llm = llm)).assign_functions([play_game])"
   ]
  },
  {
   "cell_type": "code",
   "execution_count": 71,
   "id": "933e8595-841a-49b8-b7ab-9a1038d8aff9",
   "metadata": {
    "tags": []
   },
   "outputs": [
    {
     "name": "stdout",
     "output_type": "stream",
     "text": [
      "\u001b[1m\u001b[30mObservation: The task is to play the game 5 times and try to win as many times as possible while figuring out the opponent's strategy. No games have been played yet.\u001b[0m\n",
      "\u001b[1m\u001b[32mThoughts: To start the task, I need to play the first game. Since there is no information about the opponent's strategy yet, I will choose an action randomly.\u001b[0m\n",
      "\u001b[1m\u001b[34mSubtask identified: Play the first game by choosing an action randomly.\u001b[0m\n",
      "Calling function play_game with parameters {'action': 'rock'}\n",
      "> {'output_1': 'Opponent played: scissors, You played: rock. Result: You win'}\n",
      "\n",
      "\u001b[1m\u001b[31mNew Reflection: Playing rock resulted in a win against scissors. This suggests that the opponent might have a tendency to play scissors. In future games, it might be useful to start with rock and observe if the opponent continues to play scissors or changes their strategy.\u001b[0m\n",
      "\u001b[1m\u001b[30mObservation: Playing rock resulted in a win against scissors. This suggests that the opponent might have a tendency to play scissors. In future games, it might be useful to start with rock and observe if the opponent continues to play scissors or changes their strategy.\u001b[0m\n",
      "\u001b[1m\u001b[32mThoughts: Since the opponent played scissors in the first game, it might be beneficial to play rock again to see if the opponent repeats their action. If the opponent changes their strategy, we can adjust our actions accordingly in the subsequent games.\u001b[0m\n",
      "\u001b[1m\u001b[34mSubtask identified: Play rock again to see if the opponent continues to play scissors or changes their strategy.\u001b[0m\n",
      "Calling function play_game with parameters {'action': 'rock'}\n",
      "> {'output_1': 'Opponent played: paper, You played: rock. Result: You lose'}\n",
      "\n",
      "\u001b[1m\u001b[31mNew Reflection: The opponent played scissors in the first game and paper in the second game. This indicates that the opponent does not consistently play the same move. Therefore, a more varied strategy might be necessary. In future games, it might be useful to alternate between rock, paper, and scissors to better understand the opponent's pattern and adapt accordingly.\u001b[0m\n",
      "\u001b[1m\u001b[30mObservation: The opponent played scissors in the first game and paper in the second game. This indicates that the opponent does not consistently play the same move. Therefore, a more varied strategy might be necessary.\u001b[0m\n",
      "\u001b[1m\u001b[32mThoughts: To better understand the opponent's pattern and adapt accordingly, it would be useful to alternate between rock, paper, and scissors. Since we have already played rock twice, the next move should be different.\u001b[0m\n",
      "\u001b[1m\u001b[34mSubtask identified: Play the game using paper to see how the opponent reacts.\u001b[0m\n",
      "Calling function play_game with parameters {'action': 'paper'}\n",
      "> {'output_1': 'Opponent played: paper, You played: paper. Result: Draw'}\n",
      "\n",
      "\u001b[1m\u001b[31mNew Reflection: The opponent has shown variability in their choices, playing scissors, paper, and then paper again. This suggests that while there is some repetition, the opponent does not follow a strict pattern. In future games, it might be beneficial to continue varying my moves to cover all possibilities and avoid predictable patterns. Additionally, observing any emerging trends, such as repeated moves, could provide further insights into the opponent’s strategy.\u001b[0m\n",
      "\u001b[1m\u001b[30mObservation: So far, I have played three games: winning once with rock against scissors, losing once with rock against paper, and drawing once with paper against paper. The opponent has played scissors, paper, and paper in sequence.\u001b[0m\n",
      "\u001b[1m\u001b[32mThoughts: Given the opponent's variability, it is important to continue varying my moves to avoid predictability. Since the opponent has played paper twice in a row, they might switch to another move. I should consider playing scissors to counter a potential paper or rock move.\u001b[0m\n",
      "\u001b[1m\u001b[34mSubtask identified: Play scissors to counter the opponent's potential paper or rock move.\u001b[0m\n",
      "Calling function play_game with parameters {'action': 'scissors'}\n",
      "> {'output_1': 'Opponent played: scissors, You played: scissors. Result: Draw'}\n",
      "\n",
      "\u001b[1m\u001b[31mNew Reflection: The opponent's choices have included scissors, paper, and paper again, followed by scissors. This indicates a lack of a strict pattern but shows some repetition. To maximize winning chances in future games, it is beneficial to continue varying my moves to cover all possibilities and avoid being predictable. Additionally, paying close attention to any emerging trends, such as repeated moves, could provide further insights into the opponent’s strategy. For instance, if the opponent repeats a move, it might be worth considering that they could do so again, and adjusting my strategy accordingly.\u001b[0m\n",
      "\u001b[1m\u001b[30mObservation: So far, I have played four games with the following results: won with rock against scissors, lost with rock against paper, drew with paper against paper, and drew with scissors against scissors. The opponent has shown a tendency to repeat moves, as seen with paper and scissors.\u001b[0m\n",
      "\u001b[1m\u001b[32mThoughts: To maximize my chances of winning the fifth game, I should consider the opponent's tendency to repeat moves. Since the opponent played scissors in the last game, they might play it again. Therefore, playing rock could be a strategic choice to win.\u001b[0m\n",
      "\u001b[1m\u001b[34mSubtask identified: Play rock to counter the potential repetition of scissors by the opponent.\u001b[0m\n",
      "Calling function play_game with parameters {'action': 'rock'}\n",
      "> {'output_1': 'Opponent played: rock, You played: rock. Result: Draw'}\n",
      "\n",
      "\u001b[1m\u001b[31mNew Reflection: The opponent's choices in the last five games have included scissors, paper, paper, scissors, and rock. This indicates a lack of a strict pattern but shows some repetition. To maximize winning chances in future games, it is beneficial to continue varying my moves to cover all possibilities and avoid being predictable. Additionally, paying close attention to any emerging trends, such as repeated moves, could provide further insights into the opponent’s strategy. For instance, if the opponent repeats a move, it might be worth considering that they could do so again, and adjusting my strategy accordingly. Notably, the opponent has not played rock frequently, which might suggest a lower probability of them choosing rock in the next rounds.\u001b[0m\n"
     ]
    }
   ],
   "source": [
    "agent.run(\"Play the game 5 times, try to win as many times as possible and figure out the opponent's strategy\", num_subtasks = 5)"
   ]
  },
  {
   "cell_type": "code",
   "execution_count": 72,
   "id": "6ce7030f-4c1b-44ea-8249-f7c0526cfbac",
   "metadata": {
    "tags": []
   },
   "outputs": [
    {
     "name": "stdout",
     "output_type": "stream",
     "text": [
      "\u001b[1m\u001b[30mObservation: The opponent's choices in the last five games have included scissors, paper, paper, scissors, and rock. This indicates a lack of a strict pattern but shows some repetition. To maximize winning chances in future games, it is beneficial to continue varying my moves to cover all possibilities and avoid being predictable. Additionally, paying close attention to any emerging trends, such as repeated moves, could provide further insights into the opponent’s strategy. Notably, the opponent has not played rock frequently, which might suggest a lower probability of them choosing rock in the next rounds.\u001b[0m\n",
      "\u001b[1m\u001b[32mThoughts: Given the lack of a strict pattern in the opponent’s moves, I should start by playing a move that has a high chance of winning against the most frequent moves observed. Since the opponent has played scissors and paper more frequently, starting with rock might be a good strategy. I will need to adjust my strategy based on the outcome of each game.\u001b[0m\n",
      "\u001b[1m\u001b[34mSubtask identified: Play the first game using rock as the action.\u001b[0m\n",
      "Calling function play_game with parameters {'action': 'rock'}\n",
      "> {'output_1': 'Opponent played: paper, You played: rock. Result: You lose'}\n",
      "\n",
      "\u001b[1m\u001b[31mNew Reflection: The opponent played paper in the last game, which resulted in my loss when I chose rock. This suggests that the opponent might be favoring paper more frequently. To improve my chances in future games, I should consider playing scissors more often to counteract the potential repetition of paper by the opponent. Additionally, I should continue to monitor the opponent’s choices to identify any emerging patterns or trends. If the opponent continues to favor paper, adjusting my strategy to include more scissors could increase my winning chances.\u001b[0m\n",
      "\u001b[1m\u001b[30mObservation: The opponent played paper in the last game, which resulted in my loss when I chose rock. This suggests that the opponent might be favoring paper more frequently.\u001b[0m\n",
      "\u001b[1m\u001b[32mThoughts: To improve my chances in future games, I should consider playing scissors more often to counteract the potential repetition of paper by the opponent. Additionally, I should continue to monitor the opponent’s choices to identify any emerging patterns or trends.\u001b[0m\n",
      "\u001b[1m\u001b[34mSubtask identified: Play scissors to counteract the opponent’s potential repetition of paper.\u001b[0m\n",
      "Calling function play_game with parameters {'action': 'scissors'}\n",
      "> {'output_1': 'Opponent played: paper, You played: scissors. Result: You win'}\n",
      "\n",
      "\u001b[1m\u001b[31mNew Reflection: The opponent has shown a tendency to play paper, as evidenced by the last two games where they chose paper both times. This pattern suggests that playing scissors could be a more effective strategy to counter the opponent. Moving forward, I should prioritize playing scissors to exploit this tendency. Additionally, I should remain vigilant and adapt if the opponent changes their strategy. Continuous monitoring of the opponent’s choices will be crucial in identifying any shifts in their pattern.\u001b[0m\n",
      "\u001b[1m\u001b[30mObservation: The opponent has shown a tendency to play paper, as evidenced by the last two games where they chose paper both times. This pattern suggests that playing scissors could be a more effective strategy to counter the opponent. Moving forward, I should prioritize playing scissors to exploit this tendency. Additionally, I should remain vigilant and adapt if the opponent changes their strategy. Continuous monitoring of the opponent’s choices will be crucial in identifying any shifts in their pattern.\u001b[0m\n",
      "\u001b[1m\u001b[32mThoughts: Given the opponent's tendency to play paper, I should continue playing scissors to maximize my chances of winning. I need to play three more games to complete the assigned task. I will start by playing scissors again and observe the opponent’s response.\u001b[0m\n",
      "\u001b[1m\u001b[34mSubtask identified: Play scissors to counter the opponent’s likely paper move.\u001b[0m\n",
      "Calling function play_game with parameters {'action': 'scissors'}\n",
      "> {'output_1': 'Opponent played: rock, You played: scissors. Result: You lose'}\n",
      "\n",
      "\u001b[1m\u001b[31mNew Reflection: The opponent has shown a tendency to play paper frequently, but they also played rock in the last game. This suggests that while scissors can be effective against their paper strategy, the opponent is not entirely predictable and may switch to rock. Moving forward, I should consider a more balanced approach, alternating between scissors and paper to cover both possibilities. Continuous monitoring and adaptation to the opponent’s choices will remain crucial in identifying any shifts in their pattern.\u001b[0m\n",
      "\u001b[1m\u001b[30mObservation: So far, I have played three games. The opponent played paper twice and rock once. I won one game with scissors against paper and lost two games, one with rock against paper and one with scissors against rock.\u001b[0m\n",
      "\u001b[1m\u001b[32mThoughts: Given the opponent's tendency to play paper frequently but also switching to rock, I should try playing paper next to cover both possibilities. This balanced approach might help in winning the next game.\u001b[0m\n",
      "\u001b[1m\u001b[34mSubtask identified: Play the game using paper to see if it can counter the opponent’s strategy.\u001b[0m\n",
      "Calling function play_game with parameters {'action': 'paper'}\n",
      "> {'output_1': 'Opponent played: rock, You played: paper. Result: You win'}\n",
      "\n",
      "\u001b[1m\u001b[31mNew Reflection: The opponent has a tendency to play paper frequently, but they also switch to rock occasionally. This suggests that while scissors can be effective against their paper strategy, the opponent is not entirely predictable and may switch to rock. Moving forward, I should consider a more balanced approach, alternating between scissors and paper to cover both possibilities. Continuous monitoring and adaptation to the opponent’s choices will remain crucial in identifying any shifts in their pattern. Additionally, it might be useful to occasionally play rock to counter any potential switch to scissors by the opponent.\u001b[0m\n",
      "\u001b[1m\u001b[30mObservation: So far, I have played four games with the following results: I lost with rock against paper, won with scissors against paper, lost with scissors against rock, and won with paper against rock. The opponent has played paper twice and rock twice.\u001b[0m\n",
      "\u001b[1m\u001b[32mThoughts: Given the opponent's tendency to play paper and rock, I should consider playing scissors to counter paper and paper to counter rock. Since I have already played four games, I need to play one more game to complete the assigned task. Based on the opponent's previous actions, playing scissors might be a good choice to counter their frequent paper plays.\u001b[0m\n",
      "\u001b[1m\u001b[34mSubtask identified: Play scissors to counter the opponent’s potential paper play.\u001b[0m\n",
      "Calling function play_game with parameters {'action': 'scissors'}\n",
      "> {'output_1': 'Opponent played: scissors, You played: scissors. Result: Draw'}\n",
      "\n",
      "\u001b[1m\u001b[31mNew Reflection: The opponent's strategy appears to involve a frequent use of paper, but they also switch to rock and occasionally to scissors. This suggests a pattern where paper is the most common choice, followed by rock, and then scissors. For future games, a balanced approach remains essential. Starting with scissors can be effective against their frequent paper plays, but it is important to switch to paper to counter their rock plays. Occasionally playing rock can also be beneficial to counter any potential switch to scissors by the opponent. Continuous adaptation and monitoring of the opponent’s choices will help in identifying any shifts in their pattern and adjusting the strategy accordingly.\u001b[0m\n"
     ]
    }
   ],
   "source": [
    "agent.reset()\n",
    "agent.run(\"Play the game 5 times, try to win as many times as possible and figure out the opponent's strategy\", num_subtasks = 5)"
   ]
  }
 ],
 "metadata": {
  "kernelspec": {
   "display_name": "Python 3 (ipykernel)",
   "language": "python",
   "name": "python3"
  },
  "language_info": {
   "codemirror_mode": {
    "name": "ipython",
    "version": 3
   },
   "file_extension": ".py",
   "mimetype": "text/x-python",
   "name": "python",
   "nbconvert_exporter": "python",
   "pygments_lexer": "ipython3",
   "version": "3.11.3"
  }
 },
 "nbformat": 4,
 "nbformat_minor": 5
}
